{
 "cells": [
  {
   "cell_type": "code",
   "execution_count": 1,
   "id": "e338e6c5-59af-4f85-afe7-971da66d19a7",
   "metadata": {
    "tags": []
   },
   "outputs": [
    {
     "name": "stdout",
     "output_type": "stream",
     "text": [
      "Similitud del coseno: 0.2672612\n"
     ]
    }
   ],
   "source": [
    "from sklearn.feature_extraction.text import CountVectorizer\n",
    "from sklearn.metrics.pairwise import cosine_similarity\n",
    "\n",
    "def cosine_similarity_between_phrases(frase1, frase2):\n",
    "    # Creamos un vectorizador de bolsa de palabras\n",
    "    vectorizer = CountVectorizer()\n",
    "    \n",
    "    # Ajustamos y transformamos las frases en vectores de bolsa de palabras\n",
    "    vectors = vectorizer.fit_transform([frase1, frase2])\n",
    "    \n",
    "    # Calculamos la similitud del coseno entre los vectores\n",
    "    cosine_sim = cosine_similarity(vectors[0], vectors[1])[0][0]\n",
    "    \n",
    "    return cosine_sim\n",
    "\n",
    "# Ejemplo de uso\n",
    "frase1 = \"the bag of words representation becomes less parsimonious\"\n",
    "frase2 = \"if we do not stem the words\"\n",
    "similitud_coseno = cosine_similarity_between_phrases(frase1, frase2)\n",
    "print(f\"Similitud del coseno: {similitud_coseno:.7f}\")"
   ]
  },
  {
   "cell_type": "code",
   "execution_count": null,
   "id": "482f0731-f830-4e57-a472-015f333ccd54",
   "metadata": {},
   "outputs": [],
   "source": []
  }
 ],
 "metadata": {
  "kernelspec": {
   "display_name": "Python 3 (ipykernel)",
   "language": "python",
   "name": "python3"
  },
  "language_info": {
   "codemirror_mode": {
    "name": "ipython",
    "version": 3
   },
   "file_extension": ".py",
   "mimetype": "text/x-python",
   "name": "python",
   "nbconvert_exporter": "python",
   "pygments_lexer": "ipython3",
   "version": "3.11.4"
  }
 },
 "nbformat": 4,
 "nbformat_minor": 5
}
