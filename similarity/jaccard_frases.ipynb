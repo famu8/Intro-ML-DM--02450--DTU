{
 "cells": [
  {
   "cell_type": "code",
   "execution_count": 4,
   "id": "eae0bf97-bdd0-420a-8ad4-be93c31a1c70",
   "metadata": {
    "tags": []
   },
   "outputs": [
    {
     "name": "stdout",
     "output_type": "stream",
     "text": [
      "Índice de similitud de Jaccard: 0.1538462\n"
     ]
    }
   ],
   "source": [
    "def jaccard_similarity(frase1, frase2):\n",
    "    # Tokeniza las frases en palabras\n",
    "    palabras_frase1 = set(frase1.split())\n",
    "    palabras_frase2 = set(frase2.split())\n",
    "    \n",
    "    # Encuentra la intersección y la unión de los conjuntos de palabras\n",
    "    interseccion = len(palabras_frase1.intersection(palabras_frase2))\n",
    "    union = len(palabras_frase1.union(palabras_frase2))\n",
    "    \n",
    "    # Calcula el índice de similitud de Jaccard\n",
    "    jaccard_sim = interseccion / union\n",
    "    \n",
    "    return jaccard_sim\n",
    "\n",
    "# Ejemplo de uso\n",
    "frase1 = \"the bag of words representation becomes less parsimoneous\"\n",
    "frase2 = \"if we do not stem the words\"\n",
    "similitud = jaccard_similarity(frase1, frase2)\n",
    "print(f\"Índice de similitud de Jaccard: {similitud:.7f}\")"
   ]
  },
  {
   "cell_type": "code",
   "execution_count": null,
   "id": "53348061-8041-48d6-92b3-5f074322ccc9",
   "metadata": {},
   "outputs": [],
   "source": []
  }
 ],
 "metadata": {
  "kernelspec": {
   "display_name": "Python 3 (ipykernel)",
   "language": "python",
   "name": "python3"
  },
  "language_info": {
   "codemirror_mode": {
    "name": "ipython",
    "version": 3
   },
   "file_extension": ".py",
   "mimetype": "text/x-python",
   "name": "python",
   "nbconvert_exporter": "python",
   "pygments_lexer": "ipython3",
   "version": "3.11.4"
  }
 },
 "nbformat": 4,
 "nbformat_minor": 5
}
