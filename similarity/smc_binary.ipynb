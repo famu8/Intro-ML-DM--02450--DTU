{
 "cells": [
  {
   "cell_type": "code",
   "execution_count": 7,
   "id": "0fa966b9-07b8-4509-806c-fae7755586f5",
   "metadata": {
    "tags": []
   },
   "outputs": [
    {
     "name": "stdout",
     "output_type": "stream",
     "text": [
      "K: 4\n",
      "f00: 2\n",
      "f11: 1\n",
      "Índice SMC: 0.75\n"
     ]
    }
   ],
   "source": [
    "def smc_binary(arr1, arr2):\n",
    "    if len(arr1) != len(arr2):\n",
    "        raise ValueError(\"Los arrays deben tener la misma longitud.\")\n",
    "    \n",
    "    f11 = 0  # Inicializar contador para coincidencias\n",
    "    f00 = 0  # Inicializar contador para no coincidencias\n",
    "    K = len(arr1)  # Número total de productos\n",
    "    print(\"K:\",K)\n",
    "\n",
    "    for i in range(K):\n",
    "        if arr1[i] == 1 and arr2[i] == 1:\n",
    "            f11 += 1\n",
    "        elif arr1[i] == 0 and arr2[i] == 0:\n",
    "            f00 += 1\n",
    "    \n",
    "    print(\"f00:\",f00)\n",
    "    print(\"f11:\",f11)\n",
    "    smc_binary = (f11+f00)/K\n",
    "\n",
    "    return smc_binary\n",
    "\n",
    "persona1 = [0,1,0,1]  # Ejemplo de compras de persona 1\n",
    "persona2 = [0,0,0,1]  # Ejemplo de compras de persona 2\n",
    "similitud = smc_binary(persona1, persona2)\n",
    "print(f\"Índice SMC: {similitud}\")"
   ]
  },
  {
   "cell_type": "code",
   "execution_count": 14,
   "id": "03af014f-3be9-4a0f-b5b6-80786581c2d0",
   "metadata": {
    "tags": []
   },
   "outputs": [],
   "source": [
    "import numpy as np\n",
    "import matplotlib.pyplot as plt"
   ]
  },
  {
   "cell_type": "code",
   "execution_count": 15,
   "id": "190721a4-51e0-451c-a54a-d21da58fb4cb",
   "metadata": {},
   "outputs": [],
   "source": [
    "def kde(x_train, x_test, sigma):\n",
    "    \"\"\"Compute the kernel density estimation\n",
    "    given the vector of training and the test\n",
    "    is a value for getting the predicition\n",
    "\n",
    "    Args:\n",
    "        x_train (list): training values\n",
    "        x_test (double): test val\n",
    "        sigma (double): kernel width\n",
    "\n",
    "    Returns:\n",
    "        double: p\n",
    "    \"\"\"\n",
    "    N = len(x_train)\n",
    "    p_ = 0\n",
    "    for x in x_train:\n",
    "        p_ += (1/np.sqrt(2*np.pi*sigma**2)) * np.exp(-(((x_test - x)**2)/(2*sigma**2)))\n",
    "    p = (1/N) * p_\n",
    "    return p"
   ]
  },
  {
   "cell_type": "code",
   "execution_count": 22,
   "id": "9109f3c2-9e03-4a7c-a3bc-b0a75c0d845a",
   "metadata": {
    "tags": []
   },
   "outputs": [
    {
     "name": "stdout",
     "output_type": "stream",
     "text": [
      "0.026995486294535458\n",
      "no anomaly\n"
     ]
    }
   ],
   "source": [
    "yval = []\n",
    "xval = []\n",
    "xtest = -4\n",
    "xtrain = [-3, -1, 5, 6]\n",
    "p = kde(xtrain, xtest, 0.5)\n",
    "print(p)\n",
    "if p<0.015:\n",
    "    print(\"p anomaly\")\n",
    "else:\n",
    "    print(\"no anomaly\")"
   ]
  },
  {
   "cell_type": "code",
   "execution_count": 17,
   "id": "fa1cfd07-ca50-4974-946d-dbca7fce345b",
   "metadata": {
    "tags": []
   },
   "outputs": [
    {
     "data": {
      "text/plain": [
       "[<matplotlib.lines.Line2D at 0x2635deb5790>]"
      ]
     },
     "execution_count": 17,
     "metadata": {},
     "output_type": "execute_result"
    },
    {
     "data": {
      "image/png": "[encoded data removed]",
      "text/plain": [
       "<Figure size 640x480 with 1 Axes>"
      ]
     },
     "metadata": {},
     "output_type": "display_data"
    }
   ],
   "source": [
    "plt.plot(xval, yval)"
   ]
  },
  {
   "cell_type": "code",
   "execution_count": 29,
   "id": "6bd0cdcc-5846-4080-8974-731cbdf22ed1",
   "metadata": {
    "tags": []
   },
   "outputs": [],
   "source": [
    "import pandas as pd"
   ]
  },
  {
   "cell_type": "code",
   "execution_count": 34,
   "id": "f49241e1-adb2-4ee6-814d-e27c8b0130be",
   "metadata": {
    "tags": []
   },
   "outputs": [],
   "source": [
    "dist_df = pd.DataFrame({\n",
    "\"o1\":[0.0,2.6,2.8,2.1,0.8,1.7,3.9,3.8,4.1,4.2],\n",
    "\"o2\":[2.6,0.0,1.8,2.3,2.7,1.4,1.9,1.7,2.0,2.2],\n",
    "\"o3\":[2.8,1.8,0.0,1.2,2.9,2.1,2.2,1.6,2.3,2.0],\n",
    "\"o4\":[2.1,2.3,1.2,0.0,2.4,1.8,2.6,2.5,3.0,2.9],\n",
    "\"o5\":[0.8,2.7,2.9,2.4,0.0,2.0,4.2,4.0,4.4,4.5],\n",
    "\"o6\":[1.7,1.4,2.1,1.8,2.0,0.0,2.4,2.6,2.7,3.0],\n",
    "\"o7\":[3.9,1.9,2.2,2.6,4.2,2.4,0.0,1.2,0.6,1.3],\n",
    "\"o8\":[3.8,1.7,1.6,2.5,4.0,2.6,1.2,0.0,1.0,0.6],\n",
    "\"o9\":[4.1,2.0,2.3,3.0,4.4,2.7,0.6,1.0,0.0,0.9],\n",
    "\"o10\":[4.2,2.2,2.0,2.9,4.5,3.0,1.3,0.6,0.9,0.0]\n",
    "})"
   ]
  },
  {
   "cell_type": "code",
   "execution_count": 35,
   "id": "e2328089-83bd-4db9-b232-419ad629dc0f",
   "metadata": {
    "tags": []
   },
   "outputs": [],
   "source": [
    "def dendro_plot(\n",
    "        dist_df,\n",
    "        Method,\n",
    "        labels=None,\n",
    "        sort=False,\n",
    "        cutoff=None,\n",
    "        show=True,\n",
    "        invert_xaxis=True,\n",
    "    ):\n",
    "        \"\"\"\n",
    "        plots dendrogram given a matrix of distances and a linakge method\n",
    "        ---------------------------------------------------------\n",
    "        dist = symmetrical matrix containing distances\n",
    "        Method = linkage method:\n",
    "            \"single\"\n",
    "            \"complete\"\n",
    "            \"average\"\n",
    "        orientation = orientation of plot:\n",
    "            \"top\"\n",
    "            \"bottom\"\n",
    "            \"left\"\n",
    "            \"right\"\n",
    "        labels: if not provided labels starting from O1 will be given\n",
    "        sort: can be set to \"ascending\" or \"descending\"\n",
    "        cutoff = height to cut the tree, if the cutoff line cuts 3 lines, clusters returns labels for 3 clusters\n",
    "\n",
    "        Output:\n",
    "            R= dendrogram data\n",
    "            clusters = cluster labels (0 index), must set cutoff to output\n",
    "        \"\"\"\n",
    "\n",
    "        if labels == None:\n",
    "            labels = [\"O{}\".format(i) for i in range(1, dist_df.shape[1] + 1)]\n",
    "\n",
    "        Z = squareform(dist_df)\n",
    "        Z = linkage(Z, method=Method)\n",
    "        R = dendrogram(y, labels = labels, distance_sort = sort,truncate_mode='level', p=3)\n",
    "        plt.grid()\n",
    "        if invert_xaxis:\n",
    "            plt.gca().invert_xaxis()\n",
    "\n",
    "        if show:\n",
    "            plt.show()\n",
    "\n",
    "        if cutoff != None:\n",
    "            clusters = fcluster(Z, cutoff, criterion=\"distance\")\n",
    "            clusters = [c - 1 for c in clusters]\n",
    "            return R, clusters\n",
    "        else:\n",
    "            return R\n"
   ]
  },
  {
   "cell_type": "code",
   "execution_count": 37,
   "id": "64716a39-33d5-4115-99b3-4b170667b3ba",
   "metadata": {
    "tags": []
   },
   "outputs": [
    {
     "data": {
      "image/png": "[encoded data removed]",
      "text/plain": [
       "<Figure size 640x480 with 1 Axes>"
      ]
     },
     "metadata": {},
     "output_type": "display_data"
    }
   ],
   "source": [
    "from scipy.spatial.distance import squareform\n",
    "from scipy.cluster.hierarchy import linkage, dendrogram, fcluster\n",
    "\n",
    "\n",
    "labels = [\"o1\", \"o2\", \"o3\", \"o4\", \"o5\",\"o6\", \"o7\",\"o8\",\"o9\",\"o10\"]\n",
    "\n",
    "Z = squareform(dist_df)\n",
    "Z = linkage(Z, method=\"complete\")\n",
    "R = dendrogram(Z, labels=labels)\n",
    "\n",
    "# Example labels\n",
    "labels = [\"o1\", \"o2\", \"o3\", \"o4\", \"o5\",\"o6\", \"o7\",\"o8\",\"o9\",\"o10\"]\n",
    "\n",
    "# Example usage of dendro_plot"
   ]
  },
  {
   "cell_type": "code",
   "execution_count": null,
   "id": "6440e127-eb08-49bd-9b69-5b44a59029dc",
   "metadata": {},
   "outputs": [],
   "source": []
  },
  {
   "cell_type": "code",
   "execution_count": null,
   "id": "8b6dc4f4-a692-472d-b369-593051d02485",
   "metadata": {},
   "outputs": [],
   "source": []
  },
  {
   "cell_type": "code",
   "execution_count": null,
   "id": "75ae7a40-32ee-4ec3-ac3b-e11499b3a6cf",
   "metadata": {},
   "outputs": [],
   "source": []
  },
  {
   "cell_type": "code",
   "execution_count": null,
   "id": "3ce582d8-6c3e-49b4-b70a-e358b616954a",
   "metadata": {},
   "outputs": [],
   "source": []
  },
  {
   "cell_type": "code",
   "execution_count": null,
   "id": "3e10b621-4d9d-40bf-8794-866d0dabab48",
   "metadata": {},
   "outputs": [],
   "source": []
  },
  {
   "cell_type": "code",
   "execution_count": null,
   "id": "a83ad62d-c89f-4828-a6c2-c78b9324dc53",
   "metadata": {},
   "outputs": [],
   "source": []
  },
  {
   "cell_type": "code",
   "execution_count": null,
   "id": "d77bffef-be73-4cf8-903e-e76bf55f7181",
   "metadata": {},
   "outputs": [],
   "source": []
  },
  {
   "cell_type": "code",
   "execution_count": null,
   "id": "2f591e6d-f476-448f-b639-efeec1bee0b3",
   "metadata": {},
   "outputs": [],
   "source": []
  },
  {
   "cell_type": "code",
   "execution_count": null,
   "id": "53de6b4e-40bb-41eb-aa66-90a58e8f1e64",
   "metadata": {},
   "outputs": [],
   "source": []
  },
  {
   "cell_type": "code",
   "execution_count": null,
   "id": "47584fd8-849b-40da-b5d1-4465b37633da",
   "metadata": {},
   "outputs": [],
   "source": []
  },
  {
   "cell_type": "code",
   "execution_count": null,
   "id": "6ef6b070-db58-4e83-8fea-801fd1f385e3",
   "metadata": {},
   "outputs": [],
   "source": []
  },
  {
   "cell_type": "code",
   "execution_count": null,
   "id": "a93ef88c-25d1-4a24-86ff-ee1deeabf31c",
   "metadata": {},
   "outputs": [],
   "source": []
  },
  {
   "cell_type": "code",
   "execution_count": null,
   "id": "1a942d74-a121-4a87-bc2e-245c5681ebf0",
   "metadata": {},
   "outputs": [],
   "source": []
  },
  {
   "cell_type": "code",
   "execution_count": null,
   "id": "7dfaa2e4-28cd-4345-9f82-91336c599c8d",
   "metadata": {},
   "outputs": [],
   "source": []
  }
 ],
 "metadata": {
  "kernelspec": {
   "display_name": "Python 3 (ipykernel)",
   "language": "python",
   "name": "python3"
  },
  "language_info": {
   "codemirror_mode": {
    "name": "ipython",
    "version": 3
   },
   "file_extension": ".py",
   "mimetype": "text/x-python",
   "name": "python",
   "nbconvert_exporter": "python",
   "pygments_lexer": "ipython3",
   "version": "3.11.4"
  }
 },
 "nbformat": 4,
 "nbformat_minor": 5
}
