{
 "cells": [
  {
   "cell_type": "code",
   "execution_count": null,
   "id": "eae0bf97-bdd0-420a-8ad4-be93c31a1c70",
   "metadata": {},
   "outputs": [],
   "source": [
    "def jaccard_similarity(frase1, frase2):\n",
    "    # Tokeniza las frases en palabras\n",
    "    palabras_frase1 = set(frase1.split())\n",
    "    palabras_frase2 = set(frase2.split())\n",
    "    \n",
    "    # Encuentra la intersección y la unión de los conjuntos de palabras\n",
    "    interseccion = len(palabras_frase1.intersection(palabras_frase2))\n",
    "    union = len(palabras_frase1.union(palabras_frase2))\n",
    "    \n",
    "    # Calcula el índice de similitud de Jaccard\n",
    "    jaccard_sim = interseccion / union\n",
    "    \n",
    "    return jaccard_sim\n",
    "\n",
    "# Ejemplo de uso\n",
    "frase1 = \"Esta es la primera frase de ejemplo\"\n",
    "frase2 = \"Esta es la segunda frase de ejemplo\"\n",
    "similitud = jaccard_similarity(frase1, frase2)\n",
    "print(f\"Índice de similitud de Jaccard: {similitud}\")\n"
   ]
  }
 ],
 "metadata": {
  "kernelspec": {
   "display_name": "Python 3 (ipykernel)",
   "language": "python",
   "name": "python3"
  },
  "language_info": {
   "codemirror_mode": {
    "name": "ipython",
    "version": 3
   },
   "file_extension": ".py",
   "mimetype": "text/x-python",
   "name": "python",
   "nbconvert_exporter": "python",
   "pygments_lexer": "ipython3",
   "version": "3.11.4"
  }
 },
 "nbformat": 4,
 "nbformat_minor": 5
}
