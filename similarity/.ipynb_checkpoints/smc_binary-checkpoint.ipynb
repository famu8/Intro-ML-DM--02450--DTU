{
 "cells": [
  {
   "cell_type": "code",
   "execution_count": 2,
   "id": "0fa966b9-07b8-4509-806c-fae7755586f5",
   "metadata": {
    "tags": []
   },
   "outputs": [
    {
     "name": "stdout",
     "output_type": "stream",
     "text": [
      "K: 8\n",
      "f00: 4\n",
      "f11: 2\n",
      "Índice SMC: 0.75\n"
     ]
    }
   ],
   "source": [
    "def smc_binary(arr1, arr2):\n",
    "    if len(arr1) != len(arr2):\n",
    "        raise ValueError(\"Los arrays deben tener la misma longitud.\")\n",
    "    \n",
    "    f11 = 0  # Inicializar contador para coincidencias\n",
    "    f00 = 0  # Inicializar contador para no coincidencias\n",
    "    K = len(arr1)  # Número total de productos\n",
    "    print(\"K:\",K)\n",
    "\n",
    "    for i in range(K):\n",
    "        if arr1[i] == 1 and arr2[i] == 1:\n",
    "            f11 += 1\n",
    "        elif arr1[i] == 0 and arr2[i] == 0:\n",
    "            f00 += 1\n",
    "    \n",
    "    print(\"f00:\",f00)\n",
    "    print(\"f11:\",f11)\n",
    "    smc_binary = (f11+f00)/K\n",
    "\n",
    "    return smc_binary\n",
    "\n",
    "persona1 = [0,0,1,0,0,1,0,1]  # Ejemplo de compras de persona 1\n",
    "persona2 = [0,1,0,0,0,1,0,1]  # Ejemplo de compras de persona 2\n",
    "similitud = smc_binary(persona1, persona2)\n",
    "print(f\"Índice SMC: {similitud}\")"
   ]
  },
  {
   "cell_type": "code",
   "execution_count": null,
   "id": "190721a4-51e0-451c-a54a-d21da58fb4cb",
   "metadata": {},
   "outputs": [],
   "source": []
  }
 ],
 "metadata": {
  "kernelspec": {
   "display_name": "Python 3 (ipykernel)",
   "language": "python",
   "name": "python3"
  },
  "language_info": {
   "codemirror_mode": {
    "name": "ipython",
    "version": 3
   },
   "file_extension": ".py",
   "mimetype": "text/x-python",
   "name": "python",
   "nbconvert_exporter": "python",
   "pygments_lexer": "ipython3",
   "version": "3.11.4"
  }
 },
 "nbformat": 4,
 "nbformat_minor": 5
}
