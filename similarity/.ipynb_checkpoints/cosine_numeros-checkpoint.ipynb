{
 "cells": [
  {
   "cell_type": "code",
   "execution_count": null,
   "id": "c63fa65a-edec-4917-aebd-91abcff82492",
   "metadata": {},
   "outputs": [],
   "source": [
    "import numpy as np\n",
    "\n",
    "v1 = np.array([[-1.24], [-0.26], [-1.04]])\n",
    "v2 = np.array([[-0.6], [-0.86], [-0.5]])\n",
    "\n",
    "dist_cos = np.dot(v1.T, v2) / (np.linalg.norm(v1) * np.linalg.norm(v2))\n",
    "print(\"Similaridad del coseno:\", dist_cos)\n"
   ]
  }
 ],
 "metadata": {
  "kernelspec": {
   "display_name": "Python 3 (ipykernel)",
   "language": "python",
   "name": "python3"
  },
  "language_info": {
   "codemirror_mode": {
    "name": "ipython",
    "version": 3
   },
   "file_extension": ".py",
   "mimetype": "text/x-python",
   "name": "python",
   "nbconvert_exporter": "python",
   "pygments_lexer": "ipython3",
   "version": "3.11.4"
  }
 },
 "nbformat": 4,
 "nbformat_minor": 5
}
