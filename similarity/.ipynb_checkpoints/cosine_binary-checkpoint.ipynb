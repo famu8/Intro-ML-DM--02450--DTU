{
 "cells": [
  {
   "cell_type": "code",
   "execution_count": 2,
   "id": "bb7a7ce4-27c5-48d9-8274-84b3cb6b3c82",
   "metadata": {
    "tags": []
   },
   "outputs": [
    {
     "name": "stdout",
     "output_type": "stream",
     "text": [
      "Dot product: 1\n",
      "Similitud del coseno: 0.4082483\n"
     ]
    }
   ],
   "source": [
    "import numpy as np\n",
    "\n",
    "def cosine_similarity_binary(vector1, vector2):\n",
    "    dot_product = np.dot(vector1, vector2)\n",
    "    print(\"Dot product:\", dot_product)\n",
    "    norm_vector1 = np.linalg.norm(vector1)\n",
    "    norm_vector2 = np.linalg.norm(vector2)\n",
    "    \n",
    "    cosine_sim = dot_product / (norm_vector1 * norm_vector2)\n",
    "    \n",
    "    return cosine_sim\n",
    "\n",
    "# Ejemplo de uso\n",
    "persona1 = [0,0,1,0,0,1,0,1]  # Ejemplo de compras de persona 1\n",
    "persona2 = [0,0,0,1,0,0,0,1]  # Ejemplo de compras de persona 2\n",
    "\n",
    "similitud_coseno = cosine_similarity_binary(persona1, persona2)\n",
    "print(f\"Similitud del coseno: {similitud_coseno:.7f}\")\n"
   ]
  },
  {
   "cell_type": "code",
   "execution_count": null,
   "id": "b020c6fb-5f87-4b74-abac-81173ed5b3ed",
   "metadata": {},
   "outputs": [],
   "source": []
  }
 ],
 "metadata": {
  "kernelspec": {
   "display_name": "Python 3 (ipykernel)",
   "language": "python",
   "name": "python3"
  },
  "language_info": {
   "codemirror_mode": {
    "name": "ipython",
    "version": 3
   },
   "file_extension": ".py",
   "mimetype": "text/x-python",
   "name": "python",
   "nbconvert_exporter": "python",
   "pygments_lexer": "ipython3",
   "version": "3.11.4"
  }
 },
 "nbformat": 4,
 "nbformat_minor": 5
}
