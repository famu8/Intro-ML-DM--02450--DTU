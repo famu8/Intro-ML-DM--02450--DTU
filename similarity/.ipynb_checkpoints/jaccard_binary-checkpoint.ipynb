{
 "cells": [
  {
   "cell_type": "code",
   "execution_count": 2,
   "id": "231cc4f2-2eed-4fe8-ae48-fc1906cea16b",
   "metadata": {
    "tags": []
   },
   "outputs": [
    {
     "name": "stdout",
     "output_type": "stream",
     "text": [
      "K: 9\n",
      "f00: 3\n",
      "f11: 0\n",
      "Índice de Jaccard: 0.0\n"
     ]
    }
   ],
   "source": [
    "def jaccard_index(arr1, arr2):\n",
    "    if len(arr1) != len(arr2):\n",
    "        raise ValueError(\"Los arrays deben tener la misma longitud.\")\n",
    "    \n",
    "    f11 = 0  # Inicializar contador para coincidencias\n",
    "    f00 = 0  # Inicializar contador para no coincidencias\n",
    "    K = len(arr1)  # Número total de productos\n",
    "    print(\"K:\",K)\n",
    "\n",
    "    for i in range(K):\n",
    "        if arr1[i] == 1 and arr2[i] == 1:\n",
    "            f11 += 1\n",
    "        elif arr1[i] == 0 and arr2[i] == 0:\n",
    "            f00 += 1\n",
    "    \n",
    "    print(\"f00:\",f00)\n",
    "    print(\"f11:\",f11)\n",
    "    jaccard_similarity = (f11) / (K-f00)\n",
    "\n",
    "    return jaccard_similarity\n",
    "\n",
    "# Ejemplo de uso\n",
    "persona1 =[0,0,0,0,0,0,0,0,1]  # Ejemplo de compras de persona 1\n",
    "persona2 = [0,1,1,1,1,1,0,0,0]  # Ejemplo de compras de persona 2\n",
    "\n",
    "similitud = jaccard_index(persona1, persona2)\n",
    "print(f\"Índice de Jaccard: {similitud}\")"
   ]
  },
  {
   "cell_type": "code",
   "execution_count": null,
   "id": "fcff6085-0b80-4e0d-8996-086f29ad828d",
   "metadata": {},
   "outputs": [],
   "source": []
  }
 ],
 "metadata": {
  "kernelspec": {
   "display_name": "Python 3 (ipykernel)",
   "language": "python",
   "name": "python3"
  },
  "language_info": {
   "codemirror_mode": {
    "name": "ipython",
    "version": 3
   },
   "file_extension": ".py",
   "mimetype": "text/x-python",
   "name": "python",
   "nbconvert_exporter": "python",
   "pygments_lexer": "ipython3",
   "version": "3.11.4"
  }
 },
 "nbformat": 4,
 "nbformat_minor": 5
}
