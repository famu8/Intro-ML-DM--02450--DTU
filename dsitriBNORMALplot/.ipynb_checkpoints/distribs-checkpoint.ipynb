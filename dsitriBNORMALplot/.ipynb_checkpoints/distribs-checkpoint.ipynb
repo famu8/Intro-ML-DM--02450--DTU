{
 "cells": [
  {
   "cell_type": "code",
   "execution_count": null,
   "id": "2e1719d6-25c4-4313-a040-cabca986e688",
   "metadata": {
    "tags": []
   },
   "outputs": [],
   "source": [
    "import numpy as np\n",
    "import matplotlib.pyplot as plt\n",
    "from scipy.stats import multivariate_normal\n",
    "\n",
    "# Define the parameters of the Gaussian Mixture Model\n",
    "weights = np.array([0.0673, 0.3360,0.2992,0.2975])  # Weight for each component\n",
    "\n",
    "means = np.array([[1.8422, 2.4306], [-1.222,0.1830], [-0.6687,-0.7343],[1.6359,-0.0183]])  # Mean vectors for each component\n",
    "\n",
    "covariances = np.array([[[3.8237, 1.7104], [1.7104, 0.7672]],\n",
    "                        [[0.2639, 0.0803], [0.0803, 0.0615]],\n",
    "                        [[0.1166, -0.0771],[-0.0771,0.1729]],\n",
    "                        [[4.0475,-1.5818],[-1.5818,1.1146]]])  # Covariance matrices for each component\n",
    "\n",
    "# Number of components\n",
    "num_components = len(weights)\n",
    "\n",
    "# Generate some data points from the GMM\n",
    "num_samples = 1000\n",
    "data = np.zeros((num_samples, 2))\n",
    "\n",
    "for i in range(num_samples):\n",
    "    # Select a component based on the weights\n",
    "    component = np.random.choice(num_components, p=weights)\n",
    "    \n",
    "    # Generate a sample from the selected component\n",
    "    sample = np.random.multivariate_normal(means[component], covariances[component])\n",
    "    \n",
    "    data[i] = sample\n",
    "\n",
    "# Plot the generated data\n",
    "plt.scatter(data[:, 0], data[:, 1], s=10, alpha=0.5)\n",
    "plt.title('Generated Data from a 2D Gaussian Mixture Model')\n",
    "plt.xlabel('X-axis')\n",
    "plt.ylabel('Y-axis')\n",
    "\n",
    "# Plot the contour plots for each component's distribution\n",
    "for i in range(num_components):\n",
    "    x, y = np.meshgrid(np.linspace(-2, 6, 100), np.linspace(-2, 6, 100))\n",
    "    pos = np.dstack((x, y))\n",
    "    rv = multivariate_normal(means[i], covariances[i])\n",
    "    plt.contour(x, y, rv.pdf(pos), colors=f'C{i}', levels=5, linewidths=2, label=f'Component {i+1}')\n",
    "\n",
    "plt.legend()\n",
    "plt.show()"
   ]
  },
  {
   "cell_type": "code",
   "execution_count": null,
   "id": "5b4da306-faba-417d-b35b-85bbf813eea4",
   "metadata": {},
   "outputs": [],
   "source": []
  }
 ],
 "metadata": {
  "kernelspec": {
   "display_name": "Python 3 (ipykernel)",
   "language": "python",
   "name": "python3"
  },
  "language_info": {
   "codemirror_mode": {
    "name": "ipython",
    "version": 3
   },
   "file_extension": ".py",
   "mimetype": "text/x-python",
   "name": "python",
   "nbconvert_exporter": "python",
   "pygments_lexer": "ipython3",
   "version": "3.11.4"
  }
 },
 "nbformat": 4,
 "nbformat_minor": 5
}
