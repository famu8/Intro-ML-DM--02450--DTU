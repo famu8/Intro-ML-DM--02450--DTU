{
 "cells": [
  {
   "cell_type": "code",
   "execution_count": 2,
   "id": "da58e95c-1bf3-4fe4-8589-543817bdc0a6",
   "metadata": {
    "tags": []
   },
   "outputs": [],
   "source": [
    "# fall 2021 ej 23\n",
    "def seq_selec(start, end, total, kfolds = 1):\n",
    "    \"\"\"Compute the total number of trained models during \n",
    "    sequential feature selection\n",
    "\n",
    "    Args:\n",
    "        start (int): The starting number of features\n",
    "        end (int): The final number of features selected (ie end + 1 \n",
    "        is trained but with higher error)\n",
    "        total (int): total num of features in the ds\n",
    "        kfolds (int, optional): if cv = KFold set number of folds\n",
    "        . Defaults to 1.\n",
    "\n",
    "    Returns:\n",
    "        int: number of trained models during the process\n",
    "    \"\"\"\n",
    "    n_mod = 0 \n",
    "    if start>end:\n",
    "        step = -1 \n",
    "    else:\n",
    "        step = 1\n",
    "    for i in range(start, end + step, step):\n",
    "        n_mod += kfolds + (kfolds * (i + step))\n",
    "    return n_mod"
   ]
  },
  {
   "cell_type": "code",
   "execution_count": 10,
   "id": "375f399a-49a9-4ec1-9717-698125cef1a8",
   "metadata": {
    "tags": []
   },
   "outputs": [
    {
     "data": {
      "text/plain": [
       "30"
      ]
     },
     "execution_count": 10,
     "metadata": {},
     "output_type": "execute_result"
    }
   ],
   "source": [
    "seq_selec(8,7,8,2)"
   ]
  },
  {
   "cell_type": "markdown",
   "id": "3f97b5be-6486-42a2-a395-aaa491fc0f71",
   "metadata": {},
   "source": [
    "SI TE DICEN QUE CUANTOS SON LOS ENTRENADOS: SUMALE 1"
   ]
  },
  {
   "cell_type": "code",
   "execution_count": null,
   "id": "44cffe6c-17ef-4e6d-84fa-6382f5c9e329",
   "metadata": {},
   "outputs": [],
   "source": []
  }
 ],
 "metadata": {
  "kernelspec": {
   "display_name": "Python 3 (ipykernel)",
   "language": "python",
   "name": "python3"
  },
  "language_info": {
   "codemirror_mode": {
    "name": "ipython",
    "version": 3
   },
   "file_extension": ".py",
   "mimetype": "text/x-python",
   "name": "python",
   "nbconvert_exporter": "python",
   "pygments_lexer": "ipython3",
   "version": "3.11.4"
  }
 },
 "nbformat": 4,
 "nbformat_minor": 5
}
