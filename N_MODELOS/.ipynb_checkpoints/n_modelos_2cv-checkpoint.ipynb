{
 "cells": [
  {
   "cell_type": "code",
   "execution_count": 1,
   "id": "2a7f3e58-2d56-43bc-9e84-06616befe8ba",
   "metadata": {},
   "outputs": [
    {
     "data": {
      "text/plain": [
       "'\\nVer ej 22 spring 2019 en caso de duda\\nSiempre la formula de 2 cv es K1(K2*S + 1), siendo S=numero de coasa que quieres probar, por ejemplo, \\nlambda=[0.1, 0.2, 0.3] Aqui S=3.\\nK2=inner loop\\nK1=outer loop\\n\\nSimplemente calcula eso con lo que te pide\\n'"
      ]
     },
     "execution_count": 1,
     "metadata": {},
     "output_type": "execute_result"
    }
   ],
   "source": [
    "\"\"\"\n",
    "Ver ej 22 spring 2019 en caso de duda\n",
    "Siempre la formula de 2 cv es K1(K2*S + 1), siendo S=numero de coasa que quieres probar, por ejemplo, \n",
    "lambda=[0.1, 0.2, 0.3] Aqui S=3.\n",
    "K2=inner loop\n",
    "K1=outer loop\n",
    "\n",
    "Simplemente calcula eso con lo que te pide\n",
    "\"\"\""
   ]
  },
  {
   "cell_type": "code",
   "execution_count": 4,
   "id": "eeb6922a-9e6f-4797-be3c-d63f30d06b30",
   "metadata": {
    "tags": []
   },
   "outputs": [],
   "source": [
    "def n_modelos(k1, k2, S):\n",
    "    out = k1*((k2*S)+1)\n",
    "    return out"
   ]
  },
  {
   "cell_type": "code",
   "execution_count": 7,
   "id": "bd98c352-50de-4677-a605-8a04148767ca",
   "metadata": {
    "tags": []
   },
   "outputs": [
    {
     "name": "stdout",
     "output_type": "stream",
     "text": [
      "3987\n"
     ]
    }
   ],
   "source": [
    "out_ = n_modelos(3,332,4)\n",
    "print(out_)"
   ]
  },
  {
   "cell_type": "code",
   "execution_count": 8,
   "id": "1fec2070-44cd-49cd-93dc-d1be384c02d4",
   "metadata": {
    "tags": []
   },
   "outputs": [
    {
     "data": {
      "text/plain": [
       "12.00900900900901"
      ]
     },
     "execution_count": 8,
     "metadata": {},
     "output_type": "execute_result"
    }
   ],
   "source": [
    "3999/333"
   ]
  },
  {
   "cell_type": "code",
   "execution_count": 9,
   "id": "7dc271ae-20a1-48ef-b297-fb40b99d7995",
   "metadata": {
    "tags": []
   },
   "outputs": [
    {
     "data": {
      "text/plain": [
       "1970"
      ]
     },
     "execution_count": 9,
     "metadata": {},
     "output_type": "execute_result"
    }
   ],
   "source": [
    "1250+720"
   ]
  },
  {
   "cell_type": "code",
   "execution_count": null,
   "id": "45a9abca-81cc-494b-9754-e36be1b79b77",
   "metadata": {},
   "outputs": [],
   "source": [
    "# TIEMPO AQUI ABAJO"
   ]
  },
  {
   "cell_type": "code",
   "execution_count": 5,
   "id": "0ecc4d52-56dd-4a6d-ae56-17d26bd46a33",
   "metadata": {
    "tags": []
   },
   "outputs": [
    {
     "data": {
      "text/plain": [
       "'\\nPara calcular el numero de segundos: \\n    --> (n_modelos * t_entrenar_modelo) + (n_modelos * t_test_modelo)\\n'"
      ]
     },
     "execution_count": 5,
     "metadata": {},
     "output_type": "execute_result"
    }
   ],
   "source": [
    "\"\"\"\n",
    "Para calcular el numero de segundos: \n",
    "    --> (n_modelos * t_entrenar_modelo) + (n_modelos * t_test_modelo)\n",
    "\"\"\""
   ]
  },
  {
   "cell_type": "code",
   "execution_count": 10,
   "id": "b6ee8c62-d1ec-4d48-9793-0cdcc581992b",
   "metadata": {
    "tags": []
   },
   "outputs": [
    {
     "data": {
      "text/plain": [
       "1848"
      ]
     },
     "execution_count": 10,
     "metadata": {},
     "output_type": "execute_result"
    }
   ],
   "source": [
    "out_*20 + out_"
   ]
  },
  {
   "cell_type": "code",
   "execution_count": null,
   "id": "be5f3193-ec8c-4730-b94c-972ee6853f70",
   "metadata": {},
   "outputs": [],
   "source": []
  }
 ],
 "metadata": {
  "kernelspec": {
   "display_name": "Python 3 (ipykernel)",
   "language": "python",
   "name": "python3"
  },
  "language_info": {
   "codemirror_mode": {
    "name": "ipython",
    "version": 3
   },
   "file_extension": ".py",
   "mimetype": "text/x-python",
   "name": "python",
   "nbconvert_exporter": "python",
   "pygments_lexer": "ipython3",
   "version": "3.11.4"
  }
 },
 "nbformat": 4,
 "nbformat_minor": 5
}
