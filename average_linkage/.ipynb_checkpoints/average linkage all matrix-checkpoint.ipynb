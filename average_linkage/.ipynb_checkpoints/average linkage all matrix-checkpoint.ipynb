{
 "cells": [
  {
   "cell_type": "code",
   "execution_count": 9,
   "id": "0c4372af-5458-4ada-9c62-562a2e31663b",
   "metadata": {
    "tags": []
   },
   "outputs": [],
   "source": [
    "import numpy as np"
   ]
  },
  {
   "cell_type": "code",
   "execution_count": 20,
   "id": "abd7bd1b-81c2-400c-b7e1-f64ce703e18f",
   "metadata": {
    "tags": []
   },
   "outputs": [],
   "source": [
    "data = [[0,725,800,150,1000,525,600,500,400,850],\n",
    "[725,0,75,575,275,1250,1325,226,325,125],\n",
    "[800,75,0,650,200,1325,1400,300,400,51],\n",
    "[150,575,650,0,850,675,750,350,250,700],\n",
    "[1000,275,200,850,0,1525,1600,500,600,150],\n",
    "[525,1250,1325,675,1525,0,75,1025,925,1375],\n",
    "[600,1325,1400,750,1600,75,0,1100,1000,1450],\n",
    "[500,226,300,350,500,1025,1100,0,100,350],\n",
    "[400,325,400,250,600,925,1000,100,0,450],\n",
    "[850,125,51,700,150,1375,1450,350,450,0]]\n",
    "\n",
    "# control+d para seleccionar todos los espacios y poner comas "
   ]
  },
  {
   "cell_type": "code",
   "execution_count": 21,
   "id": "0d5fa3a5-4c7c-46a2-a2c1-6fe989959453",
   "metadata": {
    "tags": []
   },
   "outputs": [],
   "source": [
    "def distance_between_clusters(dist_matrix,cluster1,cluster2):\n",
    "        \"\"\"Returns distance between clusters (avg linkage function)\n",
    "\n",
    "        Args:\n",
    "            dist_matrix (matrix): Distance matrix between observations\n",
    "            cluster1: Indexes of cluster 1 observations\n",
    "            cluster2: Indexes of cluster 2 observations\n",
    "        \"\"\"\n",
    "        distances = []\n",
    "        for i in cluster1:\n",
    "            for j in cluster2:\n",
    "                distances.append(dist_matrix[i][j])\n",
    "        distances = np.array(distances)\n",
    "        sum = np.sum(distances)\n",
    "        elements = len(cluster1) * len(cluster2) \n",
    "        print (sum/elements)"
   ]
  },
  {
   "cell_type": "code",
   "execution_count": 23,
   "id": "7b3aa93c-8ce0-4115-a308-1e9f7b7b35df",
   "metadata": {
    "tags": []
   },
   "outputs": [
    {
     "name": "stdout",
     "output_type": "stream",
     "text": [
      "1145.8333333333333\n"
     ]
    }
   ],
   "source": [
    "# ojo es sistema 0-based, osea si te dicen cluster\n",
    "# o6,o7 es 5,6 etc...\n",
    "\n",
    "distance_between_clusters(data, [5,6], [7,8,9])"
   ]
  },
  {
   "cell_type": "code",
   "execution_count": null,
   "id": "76414395-a01f-472d-ad92-216366bc01b3",
   "metadata": {},
   "outputs": [],
   "source": []
  },
  {
   "cell_type": "code",
   "execution_count": null,
   "id": "1beac22d-5faa-4534-ac84-2341c75b5cdf",
   "metadata": {},
   "outputs": [],
   "source": []
  },
  {
   "cell_type": "code",
   "execution_count": null,
   "id": "dafd0fc2-5f0d-4dbf-9e2f-934158220ff2",
   "metadata": {},
   "outputs": [],
   "source": []
  }
 ],
 "metadata": {
  "kernelspec": {
   "display_name": "Python 3 (ipykernel)",
   "language": "python",
   "name": "python3"
  },
  "language_info": {
   "codemirror_mode": {
    "name": "ipython",
    "version": 3
   },
   "file_extension": ".py",
   "mimetype": "text/x-python",
   "name": "python",
   "nbconvert_exporter": "python",
   "pygments_lexer": "ipython3",
   "version": "3.11.4"
  }
 },
 "nbformat": 4,
 "nbformat_minor": 5
}
