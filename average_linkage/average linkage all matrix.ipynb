{
 "cells": [
  {
   "cell_type": "code",
   "execution_count": 9,
   "id": "0c4372af-5458-4ada-9c62-562a2e31663b",
   "metadata": {
    "tags": []
   },
   "outputs": [],
   "source": [
    "import numpy as np"
   ]
  },
  {
   "cell_type": "code",
   "execution_count": null,
   "id": "97c928f7-eaaf-4cbc-8700-099170ff4e44",
   "metadata": {},
   "outputs": [],
   "source": [
    "# data = [[0,8.55,0.43,1.25,1.14,3.73,2.72,1.63,1.68,1.28],\n",
    "# [8.55,0,8.23,8.13,8.49,6.84,8.23,8.28,8.13,7.66],\n",
    "# [0.43,8.23,0,1.09,1.10,3.55,2.68,1.50,1.52,1.05],\n",
    "# [1.25,8.13,1.09,0,1.23,3.21,2.17,1.29,1.33,0.56],\n",
    "# [1.14,8.49,1.10,1.23,0,3.20,2.68,1.56,1.50,1.28],\n",
    "# [3.73,6.84,3.55,3.21,3.20,0,2.98,2.66,2.50,3.00],\n",
    "# [2.72,8.23,2.68,2.17,2.68,2.98,0,2.28,2.30,2.31],\n",
    "# [1.63,8.28,1.50,1.29,1.56,2.66,2.28,0,0.25,1.46],\n",
    "# [1.68,8.13,1.52,1.33,1.50,2.50,2.30,0.25,0,1.44],\n",
    "# [1.28,7.66,1.05,0.56,1.28,3.00,2.31,1.46,1.44,0]]"
   ]
  },
  {
   "cell_type": "code",
   "execution_count": 24,
   "id": "abd7bd1b-81c2-400c-b7e1-f64ce703e18f",
   "metadata": {
    "tags": []
   },
   "outputs": [],
   "source": [
    "data = [[0,8.55,0.43,1.25,1.14,3.73,2.72,1.63,1.68,1.28],\n",
    "[8.55,0,8.23,8.13,8.49,6.84,8.23,8.28,8.13,7.66],\n",
    "[0.43,8.23,0,1.09,1.10,3.55,2.68,1.50,1.52,1.05],\n",
    "[1.25,8.13,1.09,0,1.23,3.21,2.17,1.29,1.33,0.56],\n",
    "[1.14,8.49,1.10,1.23,0,3.20,2.68,1.56,1.50,1.28],\n",
    "[3.73,6.84,3.55,3.21,3.20,0,2.98,2.66,2.50,3.00],\n",
    "[2.72,8.23,2.68,2.17,2.68,2.98,0,2.28,2.30,2.31],\n",
    "[1.63,8.28,1.50,1.29,1.56,2.66,2.28,0,0.25,1.46],\n",
    "[1.68,8.13,1.52,1.33,1.50,2.50,2.30,0.25,0,1.44],\n",
    "[1.28,7.66,1.05,0.56,1.28,3.00,2.31,1.46,1.44,0]]"
   ]
  },
  {
   "cell_type": "code",
   "execution_count": 25,
   "id": "0d5fa3a5-4c7c-46a2-a2c1-6fe989959453",
   "metadata": {
    "tags": []
   },
   "outputs": [],
   "source": [
    "def distance_between_clusters(dist_matrix,cluster1,cluster2):\n",
    "        \"\"\"Returns distance between clusters (avg linkage function)\n",
    "\n",
    "        Args:\n",
    "            dist_matrix (matrix): Distance matrix between observations\n",
    "            cluster1: Indexes of cluster 1 observations\n",
    "            cluster2: Indexes of cluster 2 observations\n",
    "        \"\"\"\n",
    "        distances = []\n",
    "        for i in cluster1:\n",
    "            for j in cluster2:\n",
    "                distances.append(dist_matrix[i][j])\n",
    "        distances = np.array(distances)\n",
    "        sum = np.sum(distances)\n",
    "        elements = len(cluster1) * len(cluster2) \n",
    "        print (sum/elements)"
   ]
  },
  {
   "cell_type": "code",
   "execution_count": 26,
   "id": "7b3aa93c-8ce0-4115-a308-1e9f7b7b35df",
   "metadata": {
    "tags": []
   },
   "outputs": [
    {
     "name": "stdout",
     "output_type": "stream",
     "text": [
      "8.06\n"
     ]
    }
   ],
   "source": [
    "# ojo es sistema 0-based, osea si te dicen cluster\n",
    "# o6,o7 es 5,6 etc...\n",
    "\n",
    "distance_between_clusters(data, [1], [0,2,3,4,5,6,7,8,9])"
   ]
  },
  {
   "cell_type": "code",
   "execution_count": null,
   "id": "76414395-a01f-472d-ad92-216366bc01b3",
   "metadata": {},
   "outputs": [],
   "source": []
  },
  {
   "cell_type": "code",
   "execution_count": null,
   "id": "1beac22d-5faa-4534-ac84-2341c75b5cdf",
   "metadata": {},
   "outputs": [],
   "source": []
  },
  {
   "cell_type": "code",
   "execution_count": null,
   "id": "dafd0fc2-5f0d-4dbf-9e2f-934158220ff2",
   "metadata": {},
   "outputs": [],
   "source": []
  }
 ],
 "metadata": {
  "kernelspec": {
   "display_name": "Python 3 (ipykernel)",
   "language": "python",
   "name": "python3"
  },
  "language_info": {
   "codemirror_mode": {
    "name": "ipython",
    "version": 3
   },
   "file_extension": ".py",
   "mimetype": "text/x-python",
   "name": "python",
   "nbconvert_exporter": "python",
   "pygments_lexer": "ipython3",
   "version": "3.11.4"
  }
 },
 "nbformat": 4,
 "nbformat_minor": 5
}
