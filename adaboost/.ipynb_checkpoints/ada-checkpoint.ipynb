{
 "cells": [
  {
   "cell_type": "code",
   "execution_count": 1,
   "id": "7aab9b28-506c-4099-8e83-460f62249089",
   "metadata": {
    "tags": []
   },
   "outputs": [],
   "source": [
    "import numpy as np\n",
    "import pandas as pd\n",
    "from scipy.spatial import distance\n",
    "from scipy import stats\n",
    "import matplotlib.pyplot as plt\n",
    "from scipy.stats import zscore"
   ]
  },
  {
   "cell_type": "code",
   "execution_count": 4,
   "id": "4636f108-52b9-4fd2-bfaf-0dd4cee8c170",
   "metadata": {
    "tags": []
   },
   "outputs": [],
   "source": [
    "N = 10\n",
    "n_incorr = 3 # incorrect classifications\n",
    "n_corr = N - n_incorr # correct classifications"
   ]
  },
  {
   "cell_type": "code",
   "execution_count": 5,
   "id": "5b68ed44-df95-4d25-b820-50985db078f9",
   "metadata": {
    "tags": []
   },
   "outputs": [
    {
     "name": "stdout",
     "output_type": "stream",
     "text": [
      "eps = 0.30000000000000004\n",
      "alpha = 0.4236489301936017\n",
      "correct = [0.07143, 0.07143, 0.07143, 0.07143, 0.07143, 0.07143, 0.07143]\n",
      "w_incorrect = [0.16667, 0.16667, 0.16667]\n"
     ]
    }
   ],
   "source": [
    "eps = (1/N) * n_incorr; print('eps =', eps)\n",
    "alpha_t = (1/2) * np.log((1-eps)/eps); print('alpha =', alpha_t)\n",
    "# Formula\n",
    "w_incorr = (np.exp(alpha_t)) / ((n_incorr * np.exp(alpha_t))  + n_corr * np.exp(-alpha_t)); \n",
    "w_corr = (np.exp(-alpha_t)) / ((n_incorr * np.exp(alpha_t))  + n_corr * np.exp(-alpha_t)); \n",
    "if N>30:\n",
    "    print('correct =', int(n_corr) , 'x' , [np.round(w_corr, 8)])\n",
    "    print('w_incorrect =', int(n_incorr), 'x', [np.round(w_incorr, 8)])\n",
    "else:  \n",
    "    print('correct =', int(n_corr) * [np.round(w_corr, 5)])\n",
    "    print('w_incorrect =', int(n_incorr) * [np.round(w_incorr, 5)])"
   ]
  },
  {
   "cell_type": "code",
   "execution_count": null,
   "id": "aecfec49-e22d-48eb-9763-23abc8f730c7",
   "metadata": {},
   "outputs": [],
   "source": []
  }
 ],
 "metadata": {
  "kernelspec": {
   "display_name": "Python 3 (ipykernel)",
   "language": "python",
   "name": "python3"
  },
  "language_info": {
   "codemirror_mode": {
    "name": "ipython",
    "version": 3
   },
   "file_extension": ".py",
   "mimetype": "text/x-python",
   "name": "python",
   "nbconvert_exporter": "python",
   "pygments_lexer": "ipython3",
   "version": "3.11.4"
  }
 },
 "nbformat": 4,
 "nbformat_minor": 5
}
