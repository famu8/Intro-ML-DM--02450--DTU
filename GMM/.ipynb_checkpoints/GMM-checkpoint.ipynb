{
 "cells": [
  {
   "cell_type": "code",
   "execution_count": 4,
   "id": "e7db429d-c93d-4554-8f78-c33353438210",
   "metadata": {
    "tags": []
   },
   "outputs": [
    {
     "data": {
      "text/plain": [
       "'\\nen ejs de sacar como es la forma de una GMM.\\nEl numero de alante de la N indica la densidad del plot:\\n    - a mayor numero, mayor densidad\\n    - a menor numero, menor densidad\\n    \\n    El siguiente vector indica las medias en x1 y x2\\n    La siguiente matriz es la matriz de covarianza: \\n        - la diagonal desde arriba derch a abajo izq. indica si la forma es con pendiente\\n        negativa o positiva, si la diagonial es -, pendiente negativa y viceversa. \\n        - La diagonal arriba izq abajo dercha es la varianza, cuanto mayor sea el \\n        valor arriba derecha \\n        mayor estirado estará en el eje x1 y si es muy pequeño estará poco estirado \\n        (lo mismo paraX2)\\n'"
      ]
     },
     "execution_count": 4,
     "metadata": {},
     "output_type": "execute_result"
    }
   ],
   "source": [
    "\"\"\"\n",
    "en ejs de sacar como es la forma de una GMM.\n",
    "El numero de alante de la N indica la densidad del plot:\n",
    "    - a mayor numero, mayor densidad\n",
    "    - a menor numero, menor densidad\n",
    "    \n",
    "    El siguiente vector indica las medias en x1 y x2\n",
    "    La siguiente matriz es la matriz de covarianza: \n",
    "        - la diagonal desde arriba derch a abajo izq. indica si la forma es con pendiente\n",
    "        negativa o positiva, si la diagonial es -, pendiente negativa y viceversa. \n",
    "        - La diagonal arriba izq abajo dercha es la varianza, cuanto mayor sea el \n",
    "        valor arriba derecha \n",
    "        mayor estirado estará en el eje x1 y si es muy pequeño estará poco estirado \n",
    "        (lo mismo paraX2)\n",
    "\"\"\""
   ]
  },
  {
   "cell_type": "markdown",
   "id": "389e7369-2a6f-4026-9ded-ec776245d4e1",
   "metadata": {},
   "source": [
    "Fall 2017 ej 12\n",
    "\n",
    "Con esto caclulas la probabilidad de una muestra x de pertenecer a un cluster k.\n",
    "En este caso x = 6.9 (el valor de la muestra) y vas calculando la prob de pertencer a \n",
    "los diferentes clusters 1,2 y3\n",
    "\n",
    "LO que tienes que hacer es ir cambiando los valores de la funcion, vas mirando los valores\n",
    "de los diferents clusters. Y despues calculas la probabilidad que es siempre: P(lo q t piden)/Suma de todas las probs"
   ]
  },
  {
   "cell_type": "code",
   "execution_count": 18,
   "id": "79707c66-4c6e-4434-a721-7dcff0143953",
   "metadata": {
    "tags": []
   },
   "outputs": [],
   "source": [
    "import numpy as np\n",
    "import math"
   ]
  },
  {
   "cell_type": "code",
   "execution_count": 19,
   "id": "653f480f-56aa-4f4b-8848-9632c5a335bb",
   "metadata": {
    "tags": []
   },
   "outputs": [],
   "source": [
    "def GMM(x, w, u, s):\n",
    "    p = w * (1/np.sqrt(2*math.pi*s)) * math.exp(-1/(2*s) * (x-u)**2)\n",
    "    return p"
   ]
  },
  {
   "cell_type": "code",
   "execution_count": 20,
   "id": "43affc4a-a5e6-4d31-ab7c-ad022a733eda",
   "metadata": {
    "tags": []
   },
   "outputs": [
    {
     "name": "stdout",
     "output_type": "stream",
     "text": [
      "0.0012706935373227523\n"
     ]
    }
   ],
   "source": [
    "p1 = GMM(15.38, 0.13, 18.347, 1.2193)\n",
    "print(p1)"
   ]
  },
  {
   "cell_type": "code",
   "execution_count": 21,
   "id": "6d3008d9-6c47-4499-a987-0a5ee3dc864b",
   "metadata": {
    "tags": []
   },
   "outputs": [
    {
     "name": "stdout",
     "output_type": "stream",
     "text": [
      "0.20512987283597944\n"
     ]
    }
   ],
   "source": [
    "p2 = GMM(15.38, 0.55, 14.997, 0.986)\n",
    "print(p2)"
   ]
  },
  {
   "cell_type": "code",
   "execution_count": 22,
   "id": "a5e2b38f-5499-46ae-bbaf-2f14a41a8b77",
   "metadata": {
    "tags": []
   },
   "outputs": [
    {
     "name": "stdout",
     "output_type": "stream",
     "text": [
      "0.00204103471698382\n"
     ]
    }
   ],
   "source": [
    "p3 = GMM(15.38, 0.32, 18.421, 1.1354)\n",
    "print(p3)"
   ]
  },
  {
   "cell_type": "code",
   "execution_count": 23,
   "id": "578daebb-e717-4b2e-ae53-e6ef430bd835",
   "metadata": {
    "tags": []
   },
   "outputs": [
    {
     "name": "stdout",
     "output_type": "stream",
     "text": [
      "0.9841119611585015\n"
     ]
    }
   ],
   "source": [
    "P = p2 / (p1+p2+p3)\n",
    "print(P)\n",
    "# cuando te dicen que pertenezca a un cluster K tienes que poner arriba \n",
    "# la p de ese cluster osea si es k=1, p1 etc.."
   ]
  },
  {
   "cell_type": "code",
   "execution_count": null,
   "id": "f64d07d3-aa9c-48f0-ad9b-11a15599c630",
   "metadata": {},
   "outputs": [],
   "source": []
  }
 ],
 "metadata": {
  "kernelspec": {
   "display_name": "Python 3 (ipykernel)",
   "language": "python",
   "name": "python3"
  },
  "language_info": {
   "codemirror_mode": {
    "name": "ipython",
    "version": 3
   },
   "file_extension": ".py",
   "mimetype": "text/x-python",
   "name": "python",
   "nbconvert_exporter": "python",
   "pygments_lexer": "ipython3",
   "version": "3.11.4"
  }
 },
 "nbformat": 4,
 "nbformat_minor": 5
}
