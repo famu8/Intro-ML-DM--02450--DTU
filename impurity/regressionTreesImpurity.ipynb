{
 "cells": [
  {
   "cell_type": "markdown",
   "id": "a82091a9-4683-4f64-90b7-8720ad7ebcd0",
   "metadata": {},
   "source": [
    "# PARA REGRESSION TREES"
   ]
  },
  {
   "cell_type": "code",
   "execution_count": 1,
   "id": "2cbd9e32-e54e-472d-8c3e-f661a2f98c28",
   "metadata": {
    "tags": []
   },
   "outputs": [
    {
     "data": {
      "text/plain": [
       "'\\nTe van a decir calcula la impurity de un split. \\n1. Te vas a ese split (ESE es la raiz), obtienes estos valores\\n    - Nvo (numero de muestras en esa raiz)\\n    - y (v) media de ese split (la suma de todo entre N)\\n    - Cada yi (cada valor distinto de y en ese split)\\n    \\n    Calculas la I(vo(raiz))= (1/N(vo)) * sum ((yi-y(v))^2)\\n    \\n2. Te vas a cada uno de los split y computas\\n    - Nv1/Nv2\\n    - y(v1/v2) (media)\\n    - Cada yi\\n    \\n    Calculas la I(v1) = (1/N(v1)) * sum ((yi-y(v1))^2)\\n\\n3. Calculas la formula general: \\n    A = I(vo) - sum ( N(vk)/N * I(vk)  )\\n'"
      ]
     },
     "execution_count": 1,
     "metadata": {},
     "output_type": "execute_result"
    }
   ],
   "source": [
    "\"\"\"\n",
    "Te van a decir calcula la impurity de un split. \n",
    "1. Te vas a ese split (ESE es la raiz), obtienes estos valores\n",
    "    - Nvo (numero de muestras en esa raiz)\n",
    "    - y (v) media de ese split (la suma de todo entre N)\n",
    "    - Cada yi (cada valor distinto de y en ese split)\n",
    "    \n",
    "    Calculas la I(vo(raiz))= (1/N(vo)) * sum ((yi-y(v))^2)\n",
    "    \n",
    "2. Te vas a cada uno de los split y computas\n",
    "    - Nv1/Nv2\n",
    "    - y(v1/v2) (media)\n",
    "    - Cada yi\n",
    "    \n",
    "    Calculas la I(v1) = (1/N(v1)) * sum ((yi-y(v1))^2)\n",
    "\n",
    "3. Calculas la formula general: \n",
    "    A = I(vo) - sum ( N(vk)/N * I(vk)  )\n",
    "\"\"\"\n"
   ]
  },
  {
   "cell_type": "code",
   "execution_count": null,
   "id": "759de072-4310-414d-a68b-2822ad3581a1",
   "metadata": {},
   "outputs": [],
   "source": []
  }
 ],
 "metadata": {
  "kernelspec": {
   "display_name": "Python 3 (ipykernel)",
   "language": "python",
   "name": "python3"
  },
  "language_info": {
   "codemirror_mode": {
    "name": "ipython",
    "version": 3
   },
   "file_extension": ".py",
   "mimetype": "text/x-python",
   "name": "python",
   "nbconvert_exporter": "python",
   "pygments_lexer": "ipython3",
   "version": "3.11.4"
  }
 },
 "nbformat": 4,
 "nbformat_minor": 5
}
