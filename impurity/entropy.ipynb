{
 "cells": [
  {
   "cell_type": "code",
   "execution_count": 1,
   "id": "7fc72b9f-81c2-4639-b159-294b10bca424",
   "metadata": {
    "tags": []
   },
   "outputs": [],
   "source": [
    "import numpy as np\n",
    "import pandas as pd"
   ]
  },
  {
   "cell_type": "code",
   "execution_count": 5,
   "id": "db3e7235-e7f2-4472-a11f-1aff504cf28c",
   "metadata": {
    "tags": []
   },
   "outputs": [
    {
     "name": "stdout",
     "output_type": "stream",
     "text": [
      "Root Impurity: 0.633673469387755\n",
      "Child 1 Impurity: 0.5718562874251497\n",
      "Child 2 Impurity: 0.5294117647058824\n",
      "The purity gain for the split is 0.0897959183673469 with the purity measure class_error\n"
     ]
    }
   ],
   "source": [
    "def entropy(v):\n",
    "    v = np.array(v)\n",
    "    l2 = [math.log2(v[i] / sum(v)) for i in range(len(v))]\n",
    "    l2 = np.array(l2)\n",
    "\n",
    "    return 1 - np.sum(((v / sum(v)) * l2))\n",
    "\n",
    "def impurity(class_counts, mode='class_error'):\n",
    "    total_elements = np.sum(class_counts)\n",
    "    probabilities = class_counts / total_elements\n",
    "\n",
    "    if mode == 'gini':\n",
    "        impurity_value = 1 - np.sum(probabilities**2)\n",
    "    elif mode == 'class_error':\n",
    "        impurity_value = 1 - np.max(probabilities)\n",
    "    elif mode == 'entropy':\n",
    "        impurity_value = -np.sum(probabilities * np.log2(probabilities))\n",
    "    else:\n",
    "        raise ValueError(\"Invalid impurity mode. Use 'gini', 'class_error', or 'entropy'.\")\n",
    "\n",
    "    return impurity_value\n",
    "\n",
    "def purity_gain(root, children, purity_measure, accuracy=False): #negli esercizi d'esame lo chiama impurity gain ma il nome giusto è purity gain \n",
    "    \"\"\"\n",
    "    root = list with the size of each class\n",
    "    children = list of arrays, each array representing the size of each class in a branch after the split\n",
    "    purity_measure = string with the purity measure to use\n",
    "    \"\"\"\n",
    "    root = np.array(root)\n",
    "    children = [np.array(child) for child in children]\n",
    "\n",
    "    v = np.array(children)\n",
    "\n",
    "    acc = np.sum(np.max(children, axis=1)) / np.sum(v)\n",
    "    if accuracy:\n",
    "        print(\"The accuracy of the split is {}\".format(acc))\n",
    "\n",
    "    Iv = 0\n",
    "\n",
    "    print(\"Root Impurity:\", impurity(root, purity_measure))\n",
    "\n",
    "    for i in range(len(children)):\n",
    "        child_impurity = impurity(children[i], purity_measure)\n",
    "        Iv += child_impurity * sum(children[i]) / sum(root)\n",
    "        print(f\"Child {i + 1} Impurity:\", child_impurity)\n",
    "\n",
    "    purity = impurity(root, purity_measure) - Iv\n",
    "\n",
    "    print(\"The purity gain for the split is {} with the purity measure {}\".format(purity, purity_measure))\n",
    "    return purity\n",
    "\n",
    "root_classes = np.array([263, 359, 358])\n",
    "child1_classes = np.array([143, 137, 54])\n",
    "child2_classes = np.array([120, 222, 304])\n",
    "\n",
    "gain = purity_gain(root_classes, [child1_classes, child2_classes], \"class_error\") #accetta qualsiasi numero di child_classes"
   ]
  },
  {
   "cell_type": "code",
   "execution_count": null,
   "id": "aeabed41-9b5f-4c6b-87ac-59ed69770647",
   "metadata": {},
   "outputs": [],
   "source": []
  }
 ],
 "metadata": {
  "kernelspec": {
   "display_name": "Python 3 (ipykernel)",
   "language": "python",
   "name": "python3"
  },
  "language_info": {
   "codemirror_mode": {
    "name": "ipython",
    "version": 3
   },
   "file_extension": ".py",
   "mimetype": "text/x-python",
   "name": "python",
   "nbconvert_exporter": "python",
   "pygments_lexer": "ipython3",
   "version": "3.11.4"
  }
 },
 "nbformat": 4,
 "nbformat_minor": 5
}
