{
 "cells": [
  {
   "cell_type": "code",
   "execution_count": 9,
   "id": "9d4f886d-051a-4a02-834c-4dcd5bfa72a2",
   "metadata": {
    "tags": []
   },
   "outputs": [],
   "source": [
    "import numpy as np"
   ]
  },
  {
   "cell_type": "code",
   "execution_count": 10,
   "id": "f7d7d2d4-3ba4-4cdf-9886-9ce5495ae14f",
   "metadata": {},
   "outputs": [
    {
     "data": {
      "text/plain": [
       "'\\nClassError 1- max(p(c|v))\\nSI QUIERE ACCURACY MAS ABAJO\\n'"
      ]
     },
     "execution_count": 10,
     "metadata": {},
     "output_type": "execute_result"
    }
   ],
   "source": [
    "\"\"\"\n",
    "ClassError 1- max(p(c|v))\n",
    "SI QUIERE ACCURACY MAS ABAJO\n",
    "\"\"\""
   ]
  },
  {
   "cell_type": "code",
   "execution_count": 11,
   "id": "0985c5da-9b63-4e58-bfa3-b20934fe0f91",
   "metadata": {
    "tags": []
   },
   "outputs": [],
   "source": [
    "def impurityClassError(N, ry1, ry2, ry3, y1, y2, y3):\n",
    "    \"\"\"\n",
    "    Esto es para splits binarios\n",
    "    N:numero de muestras totales\n",
    "    ry1,ry2,ry3: Numero de cada clase en la raiz\n",
    "    y1,y2,y3: Numero de cada clase en un split (la otra clase (x) calculas dentro de la funcion)\n",
    "    \"\"\"\n",
    "    print(f\"datos en la raiz ? {N} == {ry1+ry2+ry3}\")\n",
    "#     sacar N muestras de clase 1\n",
    "    print(\"N: \", N)\n",
    "    Nv1=y1+y2+y3\n",
    "    print(\"Nv1: \",Nv1)\n",
    "    Nv2=N-Nv1\n",
    "    print(\"Nv2: \",Nv2)\n",
    "    print(f\"comporbacion N: {N} == Nv1+Nv2: {Nv1+Nv2}\")\n",
    "#     sacar las muestras de la otra clase\n",
    "    x1=ry1-y1\n",
    "    x2=ry2-y2\n",
    "    x3=ry3-y3\n",
    "    print(\"Muestras otra clase: \", [x1,x2,x3])\n",
    "    \n",
    "    \n",
    "    Ir=1-(np.max([ry1,ry2,ry3])/N)\n",
    "    print(\"IR: \", Ir)\n",
    "    print(\"El maximo de la raiz es: \", np.max([ry1,ry2,ry3]))\n",
    "    \n",
    "    Iv1=1-(np.max([y1,y2,y3])/Nv1)\n",
    "    print(\"El maximo de v1 es: \", np.max([y1,y2,y3]))\n",
    "    \n",
    "    Iv2=1-(np.max([x1,x2,x3])/Nv2)\n",
    "    print(\"El maximo de v2 es: \", np.max([x1,x2,x3]))\n",
    "    \n",
    "    Impurity=Ir-(( (Nv1/N)*Iv1) + ((Nv2/N)*Iv2) )\n",
    "    print(\"Segundo termino: \", (( (Nv1/N)*Iv1) + ((Nv2/N)*Iv2) ))\n",
    "    \n",
    "    print(\"La impurity es : \", Impurity)\n",
    "    return Impurity"
   ]
  },
  {
   "cell_type": "code",
   "execution_count": 13,
   "id": "fcc44a23-ddae-443f-aa87-795e5c796fdf",
   "metadata": {
    "tags": []
   },
   "outputs": [
    {
     "name": "stdout",
     "output_type": "stream",
     "text": [
      "datos en la raiz ? 980 == 980\n",
      "N:  980\n",
      "Nv1:  334\n",
      "Nv2:  646\n",
      "comporbacion N: 980 == Nv1+Nv2: 980\n",
      "Muestras otra clase:  [120, 222, 304]\n",
      "IR:  0.633673469387755\n",
      "El maximo de la raiz es:  359\n",
      "El maximo de v1 es:  143\n",
      "El maximo de v2 es:  304\n",
      "Segundo termino:  0.5438775510204081\n",
      "La impurity es :  0.0897959183673469\n"
     ]
    }
   ],
   "source": [
    "imp = impurityClassError(980, 263, 359, 358,143 , 137, 54)"
   ]
  },
  {
   "cell_type": "code",
   "execution_count": 3,
   "id": "95b0a929-6669-4f67-8002-82fc449b6320",
   "metadata": {
    "tags": []
   },
   "outputs": [],
   "source": [
    "\"\"\"\n",
    "para 2 clases\n",
    "\"\"\"\n",
    "import numpy as np\n",
    "def impurityClassError(N, ry1, ry2, y1, y2):\n",
    "    \"\"\"\n",
    "    Esto es para splits binarios\n",
    "    N:numero de muestras totales\n",
    "    ry1,ry2,ry3: Numero de cada clase en la raiz\n",
    "    y1,y2,y3: Numero de cada clase en un split (la otra clase (x) calculas dentro de la funcion)\n",
    "    \"\"\"\n",
    "    print(f\"datos en la raiz ? {N} == {ry1+ry2}\")\n",
    "#     sacar N muestras de clase 1\n",
    "    print(\"N: \", N)\n",
    "    Nv1=y1+y2\n",
    "    print(\"Nv1: \",Nv1)\n",
    "    Nv2=N-Nv1\n",
    "    print(\"Nv2: \",Nv2)\n",
    "    print(f\"comporbacion N: {N} == Nv1+Nv2: {Nv1+Nv2}\")\n",
    "#     sacar las muestras de la otra clase\n",
    "    x1=ry1-y1\n",
    "    x2=ry2-y2\n",
    "    print(\"Muestras otra clase: \", [x1,x2])\n",
    "    \n",
    "    \n",
    "    Ir=1-(np.max([ry1,ry2])/N)\n",
    "    print(\"El maximo de la raiz es: \", np.max([ry1,ry2]))\n",
    "    \n",
    "    Iv1=1-(np.max([y1,y2])/Nv1)\n",
    "    print(\"El maximo de v1 es: \", np.max([y1,y2]))\n",
    "    \n",
    "    Iv2=1-(np.max([x1,x2])/Nv2)\n",
    "    print(\"El maximo de v2 es: \", np.max([x1,x2]))\n",
    "    \n",
    "    Impurity=Ir-(( (Nv1/N)*Iv1) + ((Nv2/N)*Iv2) )\n",
    "    print(\"La impurity es : \", Impurity)\n",
    "    return Impurity"
   ]
  },
  {
   "cell_type": "code",
   "execution_count": 6,
   "id": "2b7886eb-922f-4af2-b446-b7002dde2580",
   "metadata": {
    "tags": []
   },
   "outputs": [
    {
     "name": "stdout",
     "output_type": "stream",
     "text": [
      "datos en la raiz ? 158 == 158\n",
      "N:  158\n",
      "Nv1:  119\n",
      "Nv2:  39\n",
      "comporbacion N: 158 == Nv1+Nv2: 158\n",
      "Muestras otra clase:  [34, 5]\n",
      "El maximo de la raiz es:  79\n",
      "El maximo de v1 es:  74\n",
      "El maximo de v2 es:  34\n",
      "La impurity es :  0.18354430379746833\n"
     ]
    }
   ],
   "source": [
    "imp = impurityClassError(158, 79, 79, 45, 74)"
   ]
  },
  {
   "cell_type": "code",
   "execution_count": null,
   "id": "bf1d569f-b208-44d9-bc12-56bfa49f2b81",
   "metadata": {},
   "outputs": [],
   "source": [
    "\"\"\"\n",
    "A veces te van a decir que calcules la accuracy de un split: \n",
    "    - Buscas el max de la rama derecha y el max de la rama izq\n",
    "    Accuracy = (maxIzq + maxDrch) / N\n",
    "\"\"\""
   ]
  },
  {
   "cell_type": "code",
   "execution_count": null,
   "id": "8437f990-19eb-4dc7-8e07-b6ce787bc4d1",
   "metadata": {},
   "outputs": [],
   "source": []
  },
  {
   "cell_type": "code",
   "execution_count": null,
   "id": "fe93e3da-c9d1-4474-9a22-2858dae7ffb7",
   "metadata": {},
   "outputs": [],
   "source": []
  },
  {
   "cell_type": "code",
   "execution_count": null,
   "id": "981bc619-2b75-4503-95f6-5bfe06e436d5",
   "metadata": {},
   "outputs": [],
   "source": []
  },
  {
   "cell_type": "code",
   "execution_count": null,
   "id": "9253362a-053f-4df7-b0da-23d0fe37f726",
   "metadata": {},
   "outputs": [],
   "source": []
  }
 ],
 "metadata": {
  "kernelspec": {
   "display_name": "Python 3 (ipykernel)",
   "language": "python",
   "name": "python3"
  },
  "language_info": {
   "codemirror_mode": {
    "name": "ipython",
    "version": 3
   },
   "file_extension": ".py",
   "mimetype": "text/x-python",
   "name": "python",
   "nbconvert_exporter": "python",
   "pygments_lexer": "ipython3",
   "version": "3.11.4"
  }
 },
 "nbformat": 4,
 "nbformat_minor": 5
}
