{
 "cells": [
  {
   "cell_type": "code",
   "execution_count": 1,
   "id": "19753fc5-2fbf-4b4c-b538-59fcf9a18228",
   "metadata": {
    "tags": []
   },
   "outputs": [],
   "source": [
    "import numpy as np"
   ]
  },
  {
   "cell_type": "code",
   "execution_count": 11,
   "id": "90430c1b-3d30-49c7-ae84-ecee79720911",
   "metadata": {
    "tags": []
   },
   "outputs": [],
   "source": [
    "def giniBinary(Nr, Nr_clase1, Nr_clase2, Nv1_clase1, Nv1_clase2, Nv2_clase1, Nv2_clase2):\n",
    "    print(f\"En la raiz tenemos {Nr}\\n\")\n",
    "    print(f\"Nr_clase1 (numero de muestras de la clase 1 en la raiz {Nr_clase1})\\n\")\n",
    "    print(f\"Nr_clase2 (numero de muestras de la clase 2 en la raiz {Nr_clase2})\\n\")\n",
    "    \n",
    "    Ir = 1 - ((Nr_clase1/Nr)**2 + (Nr_clase2/Nr)**2 )\n",
    "    print(f\"Ir: {Ir}\\n\")\n",
    "    \n",
    "    N_total_split_izq = Nv1_clase1 + Nv1_clase2\n",
    "    print(\"Numero de muestras en la izq: \", N_total_split_izq)\n",
    "    N_total_split_dch = Nv2_clase1 + Nv2_clase2\n",
    "    print(\"Numero de muestras en la dch: \", N_total_split_dch)\n",
    "    print()\n",
    "    \n",
    "    print(\"muestras clase 1 en v1 (izq)\", Nv1_clase1)\n",
    "    print(\"muestras clase 2 en v1 (izq)\", Nv1_clase2)\n",
    "    print()\n",
    "    print(\"muestras clase 1 en v2 (dch)\", Nv2_clase1)\n",
    "    print(\"muestras clase 2 en v2 (dch)\", Nv2_clase2)\n",
    "    \n",
    "    \n",
    "    \n",
    "    termino_izq = (N_total_split_izq/Nr) * (1 - ( (Nv1_clase1/N_total_split_izq)**2 + (Nv1_clase2/N_total_split_izq)**2 ))\n",
    "    \n",
    "    \n",
    "    termino_dch = (N_total_split_dch/Nr) * (1 - ( (Nv2_clase1/N_total_split_dch)**2 + (Nv2_clase2/N_total_split_dch)**2 ))\n",
    "    \n",
    "    \n",
    "    purity = Ir - (termino_dch+termino_izq)\n",
    "    \n",
    "    return purity    "
   ]
  },
  {
   "cell_type": "code",
   "execution_count": 13,
   "id": "00dd5d11-33df-4749-bba3-bc169021d29e",
   "metadata": {
    "tags": []
   },
   "outputs": [
    {
     "name": "stdout",
     "output_type": "stream",
     "text": [
      "En la raiz tenemos 11\n",
      "\n",
      "Nr_clase1 (numero de muestras de la clase 1 en la raiz 8)\n",
      "\n",
      "Nr_clase2 (numero de muestras de la clase 2 en la raiz 3)\n",
      "\n",
      "Ir: 0.39669421487603307\n",
      "\n",
      "Numero de muestras en la izq:  7\n",
      "Numero de muestras en la dch:  4\n",
      "\n",
      "muestras clase 1 en v1 (izq) 6\n",
      "muestras clase 2 en v1 (izq) 1\n",
      "\n",
      "muestras clase 1 en v2 (dch) 2\n",
      "muestras clase 2 en v2 (dch) 2\n",
      "\n",
      "0.059031877213695405\n"
     ]
    }
   ],
   "source": [
    "purity = giniBinary(11, 8, 3, 6, 1, 2, 2)\n",
    "print()\n",
    "print(purity)"
   ]
  },
  {
   "cell_type": "code",
   "execution_count": null,
   "id": "2fe0bf13-e277-44ab-b586-2ee2927fcd09",
   "metadata": {},
   "outputs": [],
   "source": []
  },
  {
   "cell_type": "code",
   "execution_count": null,
   "id": "6a48d939-0821-4b86-a80d-31954b935df7",
   "metadata": {},
   "outputs": [],
   "source": []
  },
  {
   "cell_type": "code",
   "execution_count": null,
   "id": "8d92f8ee-7de2-46de-9ed9-5c4b7aa16fc6",
   "metadata": {},
   "outputs": [],
   "source": []
  },
  {
   "cell_type": "code",
   "execution_count": null,
   "id": "e4c52e08-0ea0-4894-9119-c3659984e5e6",
   "metadata": {},
   "outputs": [],
   "source": []
  }
 ],
 "metadata": {
  "kernelspec": {
   "display_name": "Python 3 (ipykernel)",
   "language": "python",
   "name": "python3"
  },
  "language_info": {
   "codemirror_mode": {
    "name": "ipython",
    "version": 3
   },
   "file_extension": ".py",
   "mimetype": "text/x-python",
   "name": "python",
   "nbconvert_exporter": "python",
   "pygments_lexer": "ipython3",
   "version": "3.11.4"
  }
 },
 "nbformat": 4,
 "nbformat_minor": 5
}
