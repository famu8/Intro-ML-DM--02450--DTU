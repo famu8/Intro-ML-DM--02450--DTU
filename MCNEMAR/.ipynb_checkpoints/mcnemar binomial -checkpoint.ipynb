{
 "cells": [
  {
   "cell_type": "code",
   "execution_count": 6,
   "id": "14a06c93-c948-4e01-a3c8-3c8dbdf80557",
   "metadata": {
    "tags": []
   },
   "outputs": [],
   "source": [
    "import numpy as np \n",
    "import pandas as pd\n",
    "import scipy.stats as st\n",
    "\n",
    "\"\"\"\n",
    "en caso de duda fall 2020, ej 23\n",
    "\"\"\"\n",
    "def mcnemar_test(n1,n2):\n",
    "        \"\"\"\n",
    "        Prints the p value from the McNemar test between 2 classification models \n",
    "        n1 : the total number of times that Model 1 is correct and Model 2 is incorrect. Remember to sum, if multiple folds\n",
    "        n2 : the total number of times that Model 1 is incorrect and Model 2 is correct. Remember to sum, if multiple folds\n",
    "        \"\"\"\n",
    "        N = n1+n2\n",
    "        m = min(n1,n2)\n",
    "        theta = 1/2 #always\n",
    "        \n",
    "        p_val = 2*st.binom.cdf(m,N,theta)\n",
    "        \n",
    "        print(f\"p-val={p_val:.5f}\")"
   ]
  },
  {
   "cell_type": "code",
   "execution_count": 5,
   "id": "23b6454d-bd6e-441e-b893-041234efe7e6",
   "metadata": {
    "tags": []
   },
   "outputs": [
    {
     "name": "stdout",
     "output_type": "stream",
     "text": [
      "p-val=0.44996\n"
     ]
    }
   ],
   "source": [
    "mcnemar_test(28,35)"
   ]
  },
  {
   "cell_type": "code",
   "execution_count": null,
   "id": "decfa400-ddf4-4d2b-870a-1b64a4486fee",
   "metadata": {},
   "outputs": [],
   "source": []
  }
 ],
 "metadata": {
  "kernelspec": {
   "display_name": "Python 3 (ipykernel)",
   "language": "python",
   "name": "python3"
  },
  "language_info": {
   "codemirror_mode": {
    "name": "ipython",
    "version": 3
   },
   "file_extension": ".py",
   "mimetype": "text/x-python",
   "name": "python",
   "nbconvert_exporter": "python",
   "pygments_lexer": "ipython3",
   "version": "3.11.4"
  }
 },
 "nbformat": 4,
 "nbformat_minor": 5
}
