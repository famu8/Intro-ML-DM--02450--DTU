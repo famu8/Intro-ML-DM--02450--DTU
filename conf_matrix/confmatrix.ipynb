{
 "cells": [
  {
   "cell_type": "code",
   "execution_count": 2,
   "id": "3ade2d1e-cd25-4228-9b51-419d589379e1",
   "metadata": {
    "tags": []
   },
   "outputs": [
    {
     "name": "stdout",
     "output_type": "stream",
     "text": [
      "[18 15]\n",
      "[ 9 12]\n",
      "Accuracy: 0.6111111111111112\n",
      "Specificity: [0.55555556 0.66666667]\n",
      "Recall: [0.66666667 0.55555556]\n",
      "Precision: [0.6   0.625]\n",
      "F1 Measure: [0.63157895 0.58823529]\n"
     ]
    }
   ],
   "source": [
    "import numpy as np\n",
    "\n",
    "def calcular_metricas(matriz_confusion):\n",
    "    # Convertir la matriz de confusión a un array NumPy para facilitar los cálculos\n",
    "    matriz_confusion = np.array(matriz_confusion)\n",
    "    \n",
    "    # Calcular True Positives (TP), True Negatives (TN), False Positives (FP) y False Negatives (FN)\n",
    "    tp = np.diag(matriz_confusion)\n",
    "    tn = np.sum(matriz_confusion) - (np.sum(matriz_confusion, axis=0) + np.sum(matriz_confusion, axis=1) - tp)\n",
    "    fp = np.sum(matriz_confusion, axis=1) - tp\n",
    "    fn = np.sum(matriz_confusion, axis=0) - tp\n",
    "    \n",
    "    # Calcular métricas\n",
    "    accuracy = np.sum(tp) / np.sum(matriz_confusion)\n",
    "    specificity = tn / (tn + fp)\n",
    "    recall = tp / (tp + fn)\n",
    "    precision = tp / (tp + fp)\n",
    "    f1_measure = 2 * (precision * recall) / (precision + recall)\n",
    "    \n",
    "    return accuracy, specificity, recall, precision, f1_measure\n",
    "\n",
    "matriz_confusion = [[31, 1, 3], [5, 30, 0], [6, 0, 29]]\n",
    "\n",
    "# Calcula las métricas\n",
    "accuracy, specificity, recall, precision, f1_measure = calcular_metricas(matriz_confusion)\n",
    "\n",
    "print(\"Accuracy:\", accuracy)\n",
    "# formato [class1, class2, class3]\n",
    "print(\"Specificity:\", specificity)\n",
    "print(\"Recall:\", recall)\n",
    "print(\"Precision:\", precision)\n",
    "print(\"F1 Measure:\", f1_measure)"
   ]
  },
  {
   "cell_type": "code",
   "execution_count": null,
   "id": "92d2da08-d250-4c71-aadd-b03ebc42b8a8",
   "metadata": {},
   "outputs": [],
   "source": []
  }
 ],
 "metadata": {
  "kernelspec": {
   "display_name": "Python 3 (ipykernel)",
   "language": "python",
   "name": "python3"
  },
  "language_info": {
   "codemirror_mode": {
    "name": "ipython",
    "version": 3
   },
   "file_extension": ".py",
   "mimetype": "text/x-python",
   "name": "python",
   "nbconvert_exporter": "python",
   "pygments_lexer": "ipython3",
   "version": "3.11.4"
  }
 },
 "nbformat": 4,
 "nbformat_minor": 5
}
