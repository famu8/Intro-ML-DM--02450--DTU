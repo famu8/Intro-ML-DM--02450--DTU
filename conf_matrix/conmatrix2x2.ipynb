{
 "cells": [
  {
   "cell_type": "code",
   "execution_count": 10,
   "id": "6f09731d-a244-4116-9764-e66064b14020",
   "metadata": {
    "tags": []
   },
   "outputs": [
    {
     "name": "stdout",
     "output_type": "stream",
     "text": [
      "Fpr:  0.09170305676855896\n",
      "Accuracy: 0.8581560283687943\n",
      "Specificity: 0.9082969432314411\n",
      "Recall: 0.6415094339622641\n",
      "ojo precision no lo mismo q accuracy !!!!!!!!!!\n",
      "\n",
      "Precision: 0.6181818181818182\n",
      "F1 Measure: 0.6296296296296297\n"
     ]
    }
   ],
   "source": [
    "import numpy as np\n",
    "\n",
    "def calcular_metricas_2x2(matriz_confusion):\n",
    "    if matriz_confusion.shape != (2, 2):\n",
    "        raise ValueError(\"La matriz de confusión debe ser de tamaño 2x2.\")\n",
    "    \n",
    "    # Convertir la matriz de confusión a un array NumPy para facilitar los cálculos\n",
    "    matriz_confusion = np.array(matriz_confusion)\n",
    "    \n",
    "    # Calcular True Positives (TP), True Negatives (TN), False Positives (FP) y False Negatives (FN)\n",
    "    tp = matriz_confusion[0, 0]\n",
    "    tn = matriz_confusion[1, 1]\n",
    "    fp = matriz_confusion[1, 0]\n",
    "    fn = matriz_confusion[0, 1]\n",
    "    fpr = fp/(fp+tn)\n",
    "    print(\"Fpr: \", fpr)\n",
    "\n",
    "    \n",
    "    # Calcular métricas\n",
    "    accuracy = (tp + tn) / np.sum(matriz_confusion)\n",
    "    specificity = tn / (tn + fp)\n",
    "    recall = tp / (tp + fn)\n",
    "    precision = tp / (tp + fp)\n",
    "    f1_measure = 2 * (precision * recall) / (precision + recall)\n",
    "    \n",
    "    return accuracy, specificity, recall, precision, f1_measure\n",
    "\n",
    "# Ejemplo de una matriz de confusión 2x2\n",
    "matriz_confusion_2x2 = np.array([[68, 38], [42, 416]])\n",
    "\n",
    "# Calcula las métricas\n",
    "accuracy, specificity, recall, precision, f1_measure = calcular_metricas_2x2(matriz_confusion_2x2)\n",
    "\n",
    "print(\"Accuracy:\", accuracy)\n",
    "print(\"Specificity:\", specificity)\n",
    "print(\"Recall:\", recall)\n",
    "print(\"ojo precision no lo mismo q accuracy !!!!!!!!!!\")\n",
    "print()\n",
    "print(\"Precision:\", precision)\n",
    "print(\"F1 Measure:\", f1_measure)"
   ]
  },
  {
   "cell_type": "code",
   "execution_count": null,
   "id": "fe39faaf-603a-4a13-b8e6-f01378e322c1",
   "metadata": {},
   "outputs": [],
   "source": []
  }
 ],
 "metadata": {
  "kernelspec": {
   "display_name": "Python 3 (ipykernel)",
   "language": "python",
   "name": "python3"
  },
  "language_info": {
   "codemirror_mode": {
    "name": "ipython",
    "version": 3
   },
   "file_extension": ".py",
   "mimetype": "text/x-python",
   "name": "python",
   "nbconvert_exporter": "python",
   "pygments_lexer": "ipython3",
   "version": "3.11.4"
  }
 },
 "nbformat": 4,
 "nbformat_minor": 5
}
