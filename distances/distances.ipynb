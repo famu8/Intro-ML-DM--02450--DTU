{
 "cells": [
  {
   "cell_type": "code",
   "execution_count": 1,
   "id": "51a9f40a-c6d1-4b0f-b920-12adf9472489",
   "metadata": {
    "tags": []
   },
   "outputs": [
    {
     "name": "stdout",
     "output_type": "stream",
     "text": [
      "Distancia Minkowski (general): 1.2599210498948732\n",
      "Distancia Manhattan (p=1): 2.0\n",
      "Distancia Euclidiana (p=2): 1.4142135623730951\n",
      "Distancia Chebyshev (p=inf): 1\n"
     ]
    }
   ],
   "source": [
    "import math\n",
    "import numpy as np\n",
    "# Función para calcular la distancia general de Minkowski\n",
    "def minkowski_distance(x, y, p):\n",
    "    if len(x) != len(y):\n",
    "        raise ValueError(\"Los vectores deben tener la misma longitud\")\n",
    "    return math.pow(sum(math.pow(abs(xi - yi), p) for xi, yi in zip(x, y)), 1/p)\n",
    "\n",
    "# Función para calcular la distancia de Manhattan (Minkowski con p=1)\n",
    "def manhattan_distance(x, y):\n",
    "    return minkowski_distance(x, y, 1)\n",
    "\n",
    "# Función para calcular la distancia euclidiana (Minkowski con p=2)\n",
    "def euclidean_distance(x, y):\n",
    "    return minkowski_distance(x, y, 2)\n",
    "\n",
    "# Función para calcular la distancia de Chebyshev (Minkowski con p=infinito)\n",
    "def chebyshev_distance(x, y):\n",
    "    if len(x) != len(y):\n",
    "        raise ValueError(\"Los vectores deben tener la misma longitud\")\n",
    "    return max(abs(xi - yi) for xi, yi in zip(x, y))\n",
    "\n",
    "# Ejemplo de uso\n",
    "x = np.array([1,0,1,0,0,1])\n",
    "y = np.array([1,0,1,0,1,0])\n",
    "\n",
    "print(\"Distancia Minkowski (general):\", minkowski_distance(x, y, 3))\n",
    "print(\"Distancia Manhattan (p=1):\", manhattan_distance(x, y))\n",
    "print(\"Distancia Euclidiana (p=2):\", euclidean_distance(x, y))\n",
    "print(\"Distancia Chebyshev (p=inf):\", chebyshev_distance(x, y))\n"
   ]
  },
  {
   "cell_type": "code",
   "execution_count": null,
   "id": "97d09488-5b4b-421f-9ef0-4a6c0e941059",
   "metadata": {},
   "outputs": [],
   "source": []
  }
 ],
 "metadata": {
  "kernelspec": {
   "display_name": "Python 3 (ipykernel)",
   "language": "python",
   "name": "python3"
  },
  "language_info": {
   "codemirror_mode": {
    "name": "ipython",
    "version": 3
   },
   "file_extension": ".py",
   "mimetype": "text/x-python",
   "name": "python",
   "nbconvert_exporter": "python",
   "pygments_lexer": "ipython3",
   "version": "3.11.4"
  }
 },
 "nbformat": 4,
 "nbformat_minor": 5
}
