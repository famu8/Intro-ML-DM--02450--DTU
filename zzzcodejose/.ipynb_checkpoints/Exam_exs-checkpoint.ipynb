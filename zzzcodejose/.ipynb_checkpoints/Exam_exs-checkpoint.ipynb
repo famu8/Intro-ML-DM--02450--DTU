{
 "cells": [
  {
   "cell_type": "code",
   "execution_count": 2,
   "metadata": {
    "tags": []
   },
   "outputs": [],
   "source": [
    "import numpy as np\n",
    "import pandas as pd\n",
    "from scipy.spatial import distance\n",
    "from scipy import stats\n",
    "import matplotlib.pyplot as plt\n",
    "from scipy.stats import zscore"
   ]
  },
  {
   "cell_type": "markdown",
   "metadata": {},
   "source": [
    "#### **Auxiliary Functions**"
   ]
  },
  {
   "cell_type": "code",
   "execution_count": 3,
   "metadata": {},
   "outputs": [],
   "source": [
    "     \n",
    "def binarize(X,Y=None):\n",
    "    ''' Force binary representation of the matrix, according to X>median(X) '''\n",
    "    x_was_transposed = False\n",
    "    if Y is None:\n",
    "        if X.shape[0] == 1:\n",
    "            x_was_transposed = True\n",
    "            X = X.T;\n",
    "        \n",
    "        Xmedians = np.ones((np.shape(X)[0],1)) * np.median(X,0)\n",
    "        Xflags = X>Xmedians\n",
    "        X[Xflags] = 1; X[~Xflags] = 0\n",
    "\n",
    "        if x_was_transposed:\n",
    "            return X.T\n",
    "        return X\n",
    "    else:\n",
    "        #X = np.matrix(X); Y = np.matrix(Y);\n",
    "        #XYmedian= np.median(np.bmat('X; Y'),0)\n",
    "        #Xmedians = np.ones((np.shape(X)[0],1)) * XYmedian\n",
    "        #Xflags = X>Xmedians\n",
    "        #X[Xflags] = 1; X[~Xflags] = 0\n",
    "        #Ymedians = np.ones((np.shape(Y)[0],1)) * XYmedian\n",
    "        #Yflags = Y>Ymedians\n",
    "        #Y[Yflags] = 1; Y[~Yflags] = 0\n",
    "        return [binarize(X,None),binarize(Y,None)]\n",
    "        \n",
    "\n",
    "## Example\n",
    "#import numpy as np\n",
    "#from similarity import binarize2\n",
    "#A = np.asarray([[1,2,3,4,5],[6,7,8,9,10],[1,2,3,4,5],[6,7,8,9,10]]).T\n",
    "#binarize2(A,['a','b','c','d'])\n",
    "def binarize2(X,columnnames):\n",
    "    X = np.concatenate((binarize(X),1-binarize(X)),axis=1)\n",
    "\n",
    "    new_column_names = []\n",
    "    [new_column_names.append(elm) for elm in [name+' 50th-100th percentile' for name in columnnames]]\n",
    "    [new_column_names.append(elm) for elm in [name+' 0th-50th percentile' for name in columnnames]]\n",
    "\n",
    "    return X, new_column_names\n",
    "def similarity(X, Y, method):\n",
    "    '''\n",
    "    SIMILARITY Computes similarity matrices\n",
    "\n",
    "    Usage:\n",
    "        sim = similarity(X, Y, method)\n",
    "\n",
    "    Input:\n",
    "    X   N1 x M matrix\n",
    "    Y   N2 x M matrix \n",
    "    method   string defining one of the following similarity measure\n",
    "           'SMC', 'smc'             : Simple Matching Coefficient\n",
    "           'Jaccard', 'jac'         : Jaccard coefficient \n",
    "           'ExtendedJaccard', 'ext' : The Extended Jaccard coefficient\n",
    "           'Cosine', 'cos'          : Cosine Similarity\n",
    "           'Correlation', 'cor'     : Correlation coefficient\n",
    "\n",
    "    Output:\n",
    "    sim Estimated similarity matrix between X and Y\n",
    "        If input is not binary, SMC and Jaccard will make each\n",
    "        attribute binary according to x>median(x)\n",
    "\n",
    "    Copyright, Morten Morup and Mikkel N. Schmidt\n",
    "    Technical University of Denmark '''\n",
    "\n",
    "    X = np.mat(X)\n",
    "    Y = np.mat(Y)\n",
    "    N1, M = np.shape(X)\n",
    "    N2, M = np.shape(Y)\n",
    "    \n",
    "    method = method[:3].lower()\n",
    "    if method=='smc': # SMC\n",
    "        X,Y = binarize(X,Y);\n",
    "        sim = ((X*Y.T)+((1-X)*(1-Y).T))/M\n",
    "    elif method=='jac': # Jaccard\n",
    "        X,Y = binarize(X,Y);\n",
    "        sim = (X*Y.T)/(M-(1-X)*(1-Y).T)        \n",
    "    elif method=='ext': # Extended Jaccard\n",
    "        XYt = X*Y.T\n",
    "        sim = XYt / (np.log( np.exp(sum(np.power(X.T,2))).T * np.exp(sum(np.power(Y.T,2))) ) - XYt)\n",
    "    elif method=='cos': # Cosine\n",
    "        sim = (X*Y.T)/(np.sqrt(sum(np.power(X.T,2))).T * np.sqrt(sum(np.power(Y.T,2))))\n",
    "    elif method=='cor': # Correlation\n",
    "        X_ = zscore(np.asarray(X),axis=1,ddof=1) # Matrix type throws error\n",
    "        Y_ = zscore(np.asarray(Y),axis=1,ddof=1)\n",
    "        sim = (X_*Y_.T)/(M-1)\n",
    "    return sim"
   ]
  },
  {
   "cell_type": "code",
   "execution_count": 4,
   "metadata": {},
   "outputs": [],
   "source": [
    "def mat2array(f):\n",
    "    df = pd.read_csv(f, sep = ' ', header=None)\n",
    "    array = df.values\n",
    "    return array"
   ]
  },
  {
   "cell_type": "markdown",
   "metadata": {},
   "source": [
    "#### **PCA** "
   ]
  },
  {
   "cell_type": "markdown",
   "metadata": {},
   "source": [
    "**Explained variance** "
   ]
  },
  {
   "cell_type": "code",
   "execution_count": 6,
   "metadata": {},
   "outputs": [
    {
     "data": {
      "text/plain": [
       "0.6057859057228441"
      ]
     },
     "execution_count": 6,
     "metadata": {},
     "output_type": "execute_result"
    }
   ],
   "source": [
    "x = [17.0, 15.2, 13.1, 13.1, 11.8, 11.8]\n",
    "sgv = np.array(x) # Autovalores en la lista\n",
    "n_comp = 3\n",
    "np.sum(sgv[:n_comp]**2) / np.sum(sgv**2)"
   ]
  },
  {
   "cell_type": "code",
   "execution_count": 223,
   "metadata": {},
   "outputs": [
    {
     "data": {
      "text/plain": [
       "12.135398627556583"
      ]
     },
     "execution_count": 223,
     "metadata": {},
     "output_type": "execute_result"
    }
   ],
   "source": [
    "x = np.array([49.8364, 2.9631, 2.0575])\n",
    "np.sqrt(((x**2).sum()/0.9443)-(x**2).sum())"
   ]
  },
  {
   "cell_type": "code",
   "execution_count": 26,
   "metadata": {},
   "outputs": [
    {
     "data": {
      "text/plain": [
       "1.3150000000003437e-05"
      ]
     },
     "execution_count": 26,
     "metadata": {},
     "output_type": "execute_result"
    }
   ],
   "source": [
    "np.array([0.5133, 0.5109, 0.4915, 0.4838]) @ np.array([-0.1327, 0.2168, 0.6330, -0.7312])"
   ]
  },
  {
   "cell_type": "code",
   "execution_count": 226,
   "metadata": {},
   "outputs": [
    {
     "data": {
      "text/plain": [
       "0.028174929999999983"
      ]
     },
     "execution_count": 226,
     "metadata": {},
     "output_type": "execute_result"
    }
   ],
   "source": [
    "np.array([0.5133, 0.5109, 0.4915, 0.4838]) @ np.array([0.8180, -0.2276, -0.5273, -0.0336])"
   ]
  },
  {
   "cell_type": "markdown",
   "metadata": {},
   "source": [
    "**Directions of the PC** "
   ]
  },
  {
   "cell_type": "code",
   "execution_count": 7,
   "metadata": {},
   "outputs": [
    {
     "data": {
      "text/plain": [
       "array([2.52, 7.87])"
      ]
     },
     "execution_count": 7,
     "metadata": {},
     "output_type": "execute_result"
    }
   ],
   "source": [
    "x = [2, 4, 7]\n",
    "nc = 2 # This is the PC starting with 1 CAUTION\n",
    "V = mat2array('mat.txt')\n",
    "x@V[:, :nc]"
   ]
  },
  {
   "cell_type": "markdown",
   "metadata": {},
   "source": [
    "#### **Measures of similarity**\n",
    "<!-- $f_{11}=\\left\\{\\right.$ Number of entries $i$ where $x_i=1$ and $\\left.y_i=1\\right\\}$,\n",
    "\n",
    "$f_{10}=\\left\\{\\right.$ Number of entries $i$ where $x_i=1$ and $\\left.y_i=0\\right\\}$,\n",
    "\n",
    "$f_{01}=\\left\\{\\right.$ Number of entries $i$ where $x_i=0$ and $\\left.y_i=1\\right\\}$,\n",
    "\n",
    "$f_{00}=\\left\\{\\right.$ Number of entries $i$ where $x_i=0$ and $\\left.y_i=0\\right\\}$.\n",
    "\n",
    "\n",
    "$\\text { Simple Matching Coefficient }  \\mathrm{SMC}(\\boldsymbol{x}, \\boldsymbol{y})  =\\frac{f_{11}+f_{00}}{M}$\n",
    "\n",
    "$\\text { Jaccard Similarity }  \\mathrm{J}(\\boldsymbol{x}, \\boldsymbol{y})  = \\frac{f_{11}}{f_{11}+f_{10}+f_{01}}$ \n",
    "\n",
    "$\\text { Cosine similarity }  \\cos (\\boldsymbol{x}, \\boldsymbol{y})  =\\frac{f_{11}}{\\|\\boldsymbol{x}\\|\\|\\boldsymbol{y}\\|}\\quad\\quad$ with $||\\sqrt{\\sum x_i^2}||$ -->"
   ]
  },
  {
   "cell_type": "code",
   "execution_count": 433,
   "metadata": {},
   "outputs": [],
   "source": [
    "X = mat2array('mat.txt')"
   ]
  },
  {
   "cell_type": "code",
   "execution_count": 497,
   "metadata": {},
   "outputs": [],
   "source": [
    "# CAUTION Remember that the obs numbers in the exam do NOT coincide with Python\n",
    "# indexing :). Fixed using obsA and obsB (real indexing not python's)\n",
    "obsA = 1\n",
    "obsB = 2\n",
    "x = X[obsA-1,:]\n",
    "y = X[obsB-1,:]"
   ]
  },
  {
   "cell_type": "code",
   "execution_count": 498,
   "metadata": {},
   "outputs": [
    {
     "name": "stdout",
     "output_type": "stream",
     "text": [
      "Cos: [[0.40824829]]\n",
      "J: [[0.25]]\n",
      "SMC [[0.625]]\n"
     ]
    }
   ],
   "source": [
    "cos = similarity(x, y, 'cos')\n",
    "jac = similarity(x, y, 'jac')\n",
    "smc = similarity(x, y, 'smc')\n",
    "print('Cos:', cos)\n",
    "print('J:', jac)\n",
    "print('SMC', smc)"
   ]
  },
  {
   "cell_type": "markdown",
   "metadata": {},
   "source": [
    "#### **Naive Bayes**"
   ]
  },
  {
   "cell_type": "code",
   "execution_count": 11,
   "metadata": {},
   "outputs": [
    {
     "data": {
      "text/plain": [
       "96.137339055794"
      ]
     },
     "execution_count": 11,
     "metadata": {},
     "output_type": "execute_result"
    }
   ],
   "source": [
    "(100 * (2/9 * 7/9 * 6/9 * 1/9) * 9/15) / ((2/9 * 7/9 * 6/9 * 1/9) * 9/15 + (1/6)**4 * 6/15)"
   ]
  },
  {
   "cell_type": "code",
   "execution_count": 37,
   "metadata": {},
   "outputs": [],
   "source": [
    "X = np.array([[38.0, 15.1], [np.nan, 12.8]])"
   ]
  },
  {
   "cell_type": "code",
   "execution_count": 38,
   "metadata": {},
   "outputs": [
    {
     "data": {
      "text/plain": [
       "array([False,  True])"
      ]
     },
     "execution_count": 38,
     "metadata": {},
     "output_type": "execute_result"
    }
   ],
   "source": [
    "np.unique(pd.isnull(X))"
   ]
  },
  {
   "cell_type": "code",
   "execution_count": 606,
   "metadata": {},
   "outputs": [],
   "source": [
    "mu1 = X[:,0].mean()\n",
    "mu2 = X[:,1].mean()\n",
    "sd = np.sqrt(400)"
   ]
  },
  {
   "cell_type": "code",
   "execution_count": 607,
   "metadata": {},
   "outputs": [],
   "source": [
    "n1 = stats.norm(mu1, scale = sd) # The parameter is the sd not the var\n",
    "n2 = stats.norm(mu2, scale = sd) "
   ]
  },
  {
   "cell_type": "code",
   "execution_count": 608,
   "metadata": {},
   "outputs": [
    {
     "data": {
      "text/plain": [
       "0.7132281110308528"
      ]
     },
     "execution_count": 608,
     "metadata": {},
     "output_type": "execute_result"
    }
   ],
   "source": [
    "# Naive bayes Formula\n",
    "(n1.pdf(32) * n2.pdf(14) * (2/11))/ 0.00010141"
   ]
  },
  {
   "cell_type": "markdown",
   "metadata": {},
   "source": [
    "#### **Adaboost**"
   ]
  },
  {
   "cell_type": "code",
   "execution_count": 7,
   "metadata": {
    "tags": []
   },
   "outputs": [],
   "source": [
    "N = 7\n",
    "n_incorr = 3 # incorrect classifications\n",
    "n_corr = N - n_incorr # correct classifications"
   ]
  },
  {
   "cell_type": "code",
   "execution_count": 8,
   "metadata": {
    "tags": []
   },
   "outputs": [
    {
     "name": "stdout",
     "output_type": "stream",
     "text": [
      "eps = 0.42857142857142855\n",
      "alpha = 0.14384103622589042\n",
      "correct = [0.125, 0.125, 0.125, 0.125]\n",
      "w_incorrect = [0.16667, 0.16667, 0.16667]\n"
     ]
    }
   ],
   "source": [
    "eps = (1/N) * n_incorr; print('eps =', eps)\n",
    "alpha_t = (1/2) * np.log((1-eps)/eps); print('alpha =', alpha_t)\n",
    "# Formula\n",
    "w_incorr = (np.exp(alpha_t)) / ((n_incorr * np.exp(alpha_t))  + n_corr * np.exp(-alpha_t)); \n",
    "w_corr = (np.exp(-alpha_t)) / ((n_incorr * np.exp(alpha_t))  + n_corr * np.exp(-alpha_t)); \n",
    "if N>30:\n",
    "    print('correct =', int(n_corr) , 'x' , [np.round(w_corr, 8)])\n",
    "    print('w_incorrect =', int(n_incorr), 'x', [np.round(w_incorr, 8)])\n",
    "else:  \n",
    "    print('correct =', int(n_corr) * [np.round(w_corr, 5)])\n",
    "    print('w_incorrect =', int(n_incorr) * [np.round(w_incorr, 5)])"
   ]
  },
  {
   "cell_type": "markdown",
   "metadata": {},
   "source": [
    "#### **Precision, Recall and ROC**"
   ]
  },
  {
   "cell_type": "code",
   "execution_count": 2,
   "metadata": {
    "tags": []
   },
   "outputs": [],
   "source": [
    "def precision(TP, FP):\n",
    "    return TP/(TP + FP)\n",
    "def recall(TP,FN):\n",
    "    # same as TPR\n",
    "    return TP/(TP + FN)\n",
    "def fpr(FP, TN):\n",
    "    return FP/(TN + FP)"
   ]
  },
  {
   "cell_type": "code",
   "execution_count": 816,
   "metadata": {},
   "outputs": [
    {
     "name": "stdout",
     "output_type": "stream",
     "text": [
      "fpr 0.12727272727272726\n",
      "recall/tpr 0.6363636363636364\n"
     ]
    }
   ],
   "source": [
    "FP = 350\n",
    "TN = 2400\n",
    "TP = 1050\n",
    "FN = 600\n",
    "print('fpr', fpr(FP, TN))\n",
    "print('recall/tpr', recall(TP, FN))"
   ]
  },
  {
   "cell_type": "markdown",
   "metadata": {},
   "source": [
    "#### **Roc Curve**"
   ]
  },
  {
   "cell_type": "code",
   "execution_count": 10,
   "metadata": {
    "tags": []
   },
   "outputs": [
    {
     "data": {
      "image/png": "[encoded data removed]",
      "text/plain": [
       "<Figure size 640x480 with 1 Axes>"
      ]
     },
     "metadata": {},
     "output_type": "display_data"
    },
    {
     "data": {
      "image/png": "[encoded data removed]",
      "text/plain": [
       "<Figure size 640x480 with 1 Axes>"
      ]
     },
     "metadata": {},
     "output_type": "display_data"
    },
    {
     "data": {
      "image/png": "[encoded data removed]",
      "text/plain": [
       "<Figure size 640x480 with 1 Axes>"
      ]
     },
     "metadata": {},
     "output_type": "display_data"
    },
    {
     "data": {
      "image/png": "[encoded data removed]",
      "text/plain": [
       "<Figure size 640x480 with 1 Axes>"
      ]
     },
     "metadata": {},
     "output_type": "display_data"
    }
   ],
   "source": [
    "import numpy as np\n",
    "import matplotlib.pyplot as plt\n",
    "\n",
    "predictns = np.array([\n",
    "                    [1,0,0,0,0,1,0,1],\n",
    "                     [0,1,0,0,1,1,0,0],\n",
    "                    [1,1,0,1,0,0,0,0],[0,0,1,1,0,0,1,0]])\n",
    "\n",
    "# predictns = np.array([[1, 0, 0, 1, 1, 0, 0, 1]])\n",
    "\n",
    "for pred in predictns:\n",
    "    plt.subplots()\n",
    "    x = []\n",
    "    y = []\n",
    "    for i in range(len(pred)+1):\n",
    "        TP = np.sum(pred[i:])\n",
    "        FP = np.sum(np.ones_like(pred[i:]) - pred[i:])\n",
    "        if i == 0:\n",
    "            TN = 0\n",
    "            FN = 0\n",
    "        else:\n",
    "            TN = np.sum(np.ones_like(pred[:i]) - pred[:i])\n",
    "            FN = np.sum(pred[:i])\n",
    "        x.append(fpr(FP, TN))\n",
    "        y.append(recall(TP,FN))\n",
    "    plt.plot(x, y, label = 'ROC curve', linewidth = 5)\n",
    "    plt.xlabel('FPR')\n",
    "    plt.ylabel('TPR')\n",
    "    plt.ylim([-0.01,1.01]);\n",
    "    plt.xlim([-0.01,1.01]);\n",
    "    plt.legend(loc = 2);\n",
    "    plt.grid(True)"
   ]
  },
  {
   "cell_type": "markdown",
   "metadata": {},
   "source": [
    "#### **Logistic Regression**"
   ]
  },
  {
   "cell_type": "code",
   "execution_count": 22,
   "metadata": {},
   "outputs": [],
   "source": [
    "x = np.array([1, 0.25])\n",
    "w1 = [-0.93, 1.72]"
   ]
  },
  {
   "cell_type": "code",
   "execution_count": 23,
   "metadata": {},
   "outputs": [
    {
     "data": {
      "text/plain": [
       "0.3775406687981454"
      ]
     },
     "execution_count": 23,
     "metadata": {},
     "output_type": "execute_result"
    }
   ],
   "source": [
    "1/(1+np.exp(-(x@w1)))"
   ]
  },
  {
   "cell_type": "markdown",
   "metadata": {},
   "source": [
    "Multinomial Regression"
   ]
  },
  {
   "cell_type": "code",
   "execution_count": 1002,
   "metadata": {},
   "outputs": [],
   "source": [
    "def softmax(x, w1, w2, w3):\n",
    "    den = np.exp(x.T@w1) + np.exp(x.T@w2) + np.exp(x.T@w3)\n",
    "    return [np.exp(x.T@w1)/den, np.exp(x.T@w2)/den, np.exp(x.T@w3)/den]"
   ]
  },
  {
   "cell_type": "code",
   "execution_count": null,
   "metadata": {},
   "outputs": [],
   "source": [
    "w1 = np.array([0.04, 1.32, -1.48])\n",
    "w2 = np.array([-0.03, 0.7, -0.85])\n",
    "w3 = np.array([0, 0, 0])\n",
    "b = np.array([1, -5.52, -4.69])\n",
    "softmax(b, w1, w2, w3)\n"
   ]
  },
  {
   "cell_type": "markdown",
   "metadata": {},
   "source": [
    "#### **GMM**"
   ]
  },
  {
   "cell_type": "code",
   "execution_count": 211,
   "metadata": {},
   "outputs": [
    {
     "name": "stdout",
     "output_type": "stream",
     "text": [
      "0.9940156060130095\n"
     ]
    }
   ],
   "source": [
    "w1 = 0.2\n",
    "w2 = 0.4\n",
    "w3 = 0.4\n",
    "w = [w1, w2, w3]\n",
    "\n",
    "mu1 = 18.347\n",
    "mu2 = 14.997\n",
    "mu3 = 18.421\n",
    "mu = [mu1, mu2, mu3]\n",
    "\n",
    "sigma1 = 1.2193\n",
    "sigma2 = 0.986 \n",
    "sigma3 = 1.1354\n",
    "sigma = [sigma1, sigma2, sigma3]\n",
    "\n",
    "n1 = stats.norm(mu1, sigma1)\n",
    "n2 = stats.norm(mu2, sigma2)\n",
    "n3 = stats.norm(mu3, sigma3)\n",
    "n = [n1, n2, n3]\n",
    "\n",
    "x = 15.38\n",
    "k = 1\n",
    "\n",
    "p_clase_k = w[k]*n[k].cdf(x)\n",
    "p_tot = w[0]*n[0].cdf(x) + w[1]*n[1].cdf(x) + w[2]*n[2].cdf(x)\n",
    "\n",
    "p = p_clase_k/p_tot\n",
    "print(p)"
   ]
  },
  {
   "cell_type": "markdown",
   "metadata": {},
   "source": [
    "#### **McNemar Test**"
   ]
  },
  {
   "cell_type": "code",
   "execution_count": 953,
   "metadata": {},
   "outputs": [
    {
     "name": "stdout",
     "output_type": "stream",
     "text": [
      "100\n",
      "224\n"
     ]
    }
   ],
   "source": [
    "n11 = 134 + 141 + 131 + 132\n",
    "n12 = 40 + 31 + 23 + 30\n",
    "n21 = 24 + 26 + 25 + 25\n",
    "n22 = 47 + 48 + 66 + 58\n",
    "m = min(n12, n21); print(m)\n",
    "N = n12 + n21; print(N)"
   ]
  },
  {
   "cell_type": "code",
   "execution_count": 956,
   "metadata": {},
   "outputs": [],
   "source": [
    "n = n11 + n12 + n21 + n22\n",
    "E = (n12 - n21)/n\n",
    "Q = n**2 * (n+1)*(E+1)*(1-E)/(n*(n12+n21) - (n12 - n21)**2)\n",
    "f = ((E + 1)/2) * (Q - 1)\n",
    "g = ((1-E)/2)*(Q - 1)"
   ]
  },
  {
   "cell_type": "code",
   "execution_count": 959,
   "metadata": {},
   "outputs": [
    {
     "name": "stdout",
     "output_type": "stream",
     "text": [
      "-0.0005910907663079223\n",
      "0.05430038685506533\n"
     ]
    }
   ],
   "source": [
    "from scipy.stats import beta\n",
    "theta_L = 2*beta.ppf(0.05, f, g) - 1; print(theta_L)\n",
    "theta_R = 2*beta.ppf(1 - 0.05/2, f, g) - 1; print(theta_R)"
   ]
  },
  {
   "cell_type": "markdown",
   "metadata": {},
   "source": [
    "#### **KMeans**"
   ]
  },
  {
   "cell_type": "code",
   "execution_count": 12,
   "metadata": {
    "tags": []
   },
   "outputs": [],
   "source": [
    "def vis_kmeans(x, mus):\n",
    "    fig, ax = plt.subplots(figsize = (10,3))\n",
    "    # draw lines\n",
    "    xmin = 0 # np.min(x) - 1/2 * x.std()\n",
    "    xmax = np.max(x) + 1/2 * x.std() \n",
    "    y = 0\n",
    "    height = 1\n",
    "\n",
    "    ax.hlines(y, xmin, xmax)\n",
    "    ax.vlines(xmin, y - height, y + height )\n",
    "    ax.vlines(xmax, y - height, y + height )\n",
    "    ax.set_ylim([-height - 2, height + 2])\n",
    "    # draw a point on the line\n",
    "    difmu = 0\n",
    "    dif = 0\n",
    "    k = 1\n",
    "    for i, px in enumerate(x):\n",
    "        if (i>0) & (np.abs(px - x[i-1]) < 0.2):\n",
    "            k *= -1\n",
    "            dif += 0.27\n",
    "        ax.plot(px, y, 'x', ms = 10, mfc = 'r')\n",
    "        ax.text(px - 0.08, -1.1 + k * dif, px)\n",
    "    for i, mu in enumerate(mus):\n",
    "        if np.abs(mu - mus[i-1]) < 1:\n",
    "            difmu += 0.5\n",
    "        ax.plot(mu, y, 's', ms = 5, mfc = 'r')\n",
    "        ax.text(mu - 0.08, 1.7 - difmu , f'$\\mu_{i}=${mu}')\n"
   ]
  },
  {
   "cell_type": "markdown",
   "metadata": {},
   "source": [
    "Visualization"
   ]
  },
  {
   "cell_type": "code",
   "execution_count": 13,
   "metadata": {
    "tags": []
   },
   "outputs": [
    {
     "data": {
      "image/png": "[encoded data removed]",
      "text/plain": [
       "<Figure size 1000x300 with 1 Axes>"
      ]
     },
     "metadata": {},
     "output_type": "display_data"
    }
   ],
   "source": [
    "x =  np.array([0,2,4,5,6,7,14])\n",
    "mus = [1,5,8]\n",
    "vis_kmeans(x, mus)\n"
   ]
  },
  {
   "cell_type": "code",
   "execution_count": 1070,
   "metadata": {},
   "outputs": [
    {
     "name": "stdout",
     "output_type": "stream",
     "text": [
      "0.6666666666666666\n",
      "2.85\n",
      "4.533333333333334\n"
     ]
    }
   ],
   "source": [
    "C1 = x[x<=1.4]\n",
    "C2 = x[(1.4<x)&(x<3.65)]\n",
    "C3 = x[x>3.65]\n",
    "print(np.mean(C1))\n",
    "print(np.mean(C2))\n",
    "print(np.mean(C3))"
   ]
  },
  {
   "cell_type": "code",
   "execution_count": 1074,
   "metadata": {},
   "outputs": [
    {
     "data": {
      "text/plain": [
       "array([3.7, 4.9, 5. ])"
      ]
     },
     "execution_count": 1074,
     "metadata": {},
     "output_type": "execute_result"
    }
   ],
   "source": [
    "C3"
   ]
  },
  {
   "cell_type": "markdown",
   "metadata": {},
   "source": [
    "#### **Cluster Overlap** or quality"
   ]
  },
  {
   "cell_type": "code",
   "execution_count": 3,
   "metadata": {
    "tags": []
   },
   "outputs": [
    {
     "name": "stdout",
     "output_type": "stream",
     "text": [
      "n_Z = [146 119  68]\n",
      "n_Q = [122 119  92]\n",
      "S = 15756.0\n",
      "D = -22701.0\n",
      "Jaccard: 0.694\n",
      "Rand: -463.0\n"
     ]
    }
   ],
   "source": [
    "N = 6\n",
    "n = np.array([[4,0,1],[2,3,0]])\n",
    "n_Z = n.sum(axis=1); print('n_Z =', n_Z)\n",
    "n_Q = n.sum(axis=0); print('n_Q =', n_Q)\n",
    "S = 0\n",
    "for i in range(n.shape[0]):\n",
    "    for j in range(n.shape[1]):\n",
    "        S += (n[i,j] * (n[i,j] - 1))/2\n",
    "print('S =', S)\n",
    "D = (1/2)*N*(N-1) - (1/2)*np.sum(n_Z*(n_Z-1)) - 1/2*np.sum(n_Q*(n_Q-1)) + S\n",
    "print('D =', D)\n",
    "J = S/((1/2) * N*(N-1) - D)\n",
    "print(\"Jaccard:\", np.round(J, 3))\n",
    "R = (S+D)/((1/2)*N*(N-1))\n",
    "print(\"Rand:\", np.round(R, 3))"
   ]
  },
  {
   "cell_type": "markdown",
   "metadata": {},
   "source": [
    "S = { Number of pairs i, j in the same cluster in Z, Q}\n",
    "\n",
    "D = { Number of pairs i, j in different clusters in Z, Q}"
   ]
  },
  {
   "cell_type": "code",
   "execution_count": null,
   "metadata": {},
   "outputs": [],
   "source": [
    "N = 5\n",
    "x = 1\n",
    "n_Z = [3, 2, x, 3, 2]\n",
    "n_Q = [1,3,1,1,2]\n",
    "S = \n",
    "print('S =', S)\n",
    "D = \n",
    "print('D =', D)\n",
    "J = S/((1/2) * N*(N-1) - D)\n",
    "print(\"Jaccard:\", np.round(J, 3))\n",
    "R = (S+D)/((1/2)*N*(N-1))\n",
    "print(\"Rand:\", np.round(R, 3))\n"
   ]
  },
  {
   "cell_type": "markdown",
   "metadata": {},
   "source": [
    "**Density**"
   ]
  },
  {
   "cell_type": "code",
   "execution_count": 842,
   "metadata": {},
   "outputs": [
    {
     "data": {
      "text/plain": [
       "0.5128205128205129"
      ]
     },
     "execution_count": 842,
     "metadata": {},
     "output_type": "execute_result"
    }
   ],
   "source": [
    "K = 2\n",
    "d01 = 1.5 # dists to the K nrst nbors of the obs. wanted to compute its density\n",
    "d02 = 2.4\n",
    "density = 1/((1/K) * (d01 + d02)) \n",
    "density"
   ]
  },
  {
   "cell_type": "markdown",
   "metadata": {},
   "source": [
    "**ARD**"
   ]
  },
  {
   "cell_type": "code",
   "execution_count": 843,
   "metadata": {},
   "outputs": [
    {
     "data": {
      "text/plain": [
       "0.8197115384615385"
      ]
     },
     "execution_count": 843,
     "metadata": {},
     "output_type": "execute_result"
    }
   ],
   "source": [
    "d1 = 1/((1/K) * (1.5 + 1.6))\n",
    "d2 = 1/((1/K) * (1.6 + 1.7))\n",
    "ard = density/((1/2) * (d1 + d2))\n",
    "ard"
   ]
  },
  {
   "cell_type": "markdown",
   "metadata": {},
   "source": [
    "**Kernel Density Estimator**"
   ]
  },
  {
   "cell_type": "code",
   "execution_count": 1023,
   "metadata": {},
   "outputs": [],
   "source": [
    "def kde(x_train, x_test, sigma):\n",
    "    \"\"\"Compute the kernel density estimation\n",
    "    given the vector of training and the test\n",
    "    is a value for getting the predicition\n",
    "\n",
    "    Args:\n",
    "        x_train (list): training values\n",
    "        x_test (double): test val\n",
    "        sigma (double): kernel width\n",
    "\n",
    "    Returns:\n",
    "        double: p\n",
    "    \"\"\"\n",
    "    N = len(x_train)\n",
    "    p_ = 0\n",
    "    for x in x_train:\n",
    "        p_ += (1/np.sqrt(2*np.pi*sigma**2)) * np.exp(-(((x_test - x)**2)/(2*sigma**2)))\n",
    "    p = (1/N) * p_\n",
    "    return p"
   ]
  },
  {
   "cell_type": "code",
   "execution_count": 1026,
   "metadata": {},
   "outputs": [],
   "source": [
    "yval = []\n",
    "xval = []\n",
    "xtest = 1.2\n",
    "xtrain = [4.5, -0.5]\n",
    "for sigma in np.arange(2, 8, 0.01):\n",
    "    xval.append(sigma)\n",
    "    p = kde(xtrain, xtest, sigma)\n",
    "    yval.append(-np.log(p))"
   ]
  },
  {
   "cell_type": "code",
   "execution_count": 1027,
   "metadata": {},
   "outputs": [
    {
     "data": {
      "text/plain": [
       "[<matplotlib.lines.Line2D at 0x2422e08f8e0>]"
      ]
     },
     "execution_count": 1027,
     "metadata": {},
     "output_type": "execute_result"
    },
    {
     "data": {
      "image/png": "[encoded data removed]",
      "text/plain": [
       "<Figure size 640x480 with 1 Axes>"
      ]
     },
     "metadata": {},
     "output_type": "display_data"
    }
   ],
   "source": [
    "plt.plot(xval, yval)"
   ]
  },
  {
   "cell_type": "markdown",
   "metadata": {},
   "source": [
    "#### **Average Linkage**"
   ]
  },
  {
   "cell_type": "code",
   "execution_count": 152,
   "metadata": {},
   "outputs": [
    {
     "data": {
      "text/plain": [
       "1145.8333333333333"
      ]
     },
     "execution_count": 152,
     "metadata": {},
     "output_type": "execute_result"
    }
   ],
   "source": [
    "o6 = [1025, 925, 1375 ,1100, 1000, 1450]\n",
    "np.sum(o6)/6"
   ]
  },
  {
   "cell_type": "code",
   "execution_count": 5,
   "metadata": {
    "tags": []
   },
   "outputs": [
    {
     "ename": "NameError",
     "evalue": "name 'data' is not defined",
     "output_type": "error",
     "traceback": [
      "\u001b[1;31m---------------------------------------------------------------------------\u001b[0m",
      "\u001b[1;31mNameError\u001b[0m                                 Traceback (most recent call last)",
      "Cell \u001b[1;32mIn[5], line 1\u001b[0m\n\u001b[1;32m----> 1\u001b[0m distance_between_clusters(data, [\u001b[38;5;241m5\u001b[39m,\u001b[38;5;241m6\u001b[39m], [\u001b[38;5;241m7\u001b[39m,\u001b[38;5;241m8\u001b[39m,\u001b[38;5;241m9\u001b[39m])\n",
      "\u001b[1;31mNameError\u001b[0m: name 'data' is not defined"
     ]
    }
   ],
   "source": [
    "distance_between_clusters(data, [5,6], [7,8,9])"
   ]
  },
  {
   "cell_type": "code",
   "execution_count": 4,
   "metadata": {
    "tags": []
   },
   "outputs": [],
   "source": [
    "def distance_between_clusters(self,dist_matrix,cluster1,cluster2):\n",
    "        \"\"\"Returns distance between clusters (avg linkage function)\n",
    "\n",
    "        Args:\n",
    "            dist_matrix (matrix): Distance matrix between observations\n",
    "            cluster1: Indexes of cluster 1 observations\n",
    "            cluster2: Indexes of cluster 2 observations\n",
    "        \"\"\"\n",
    "        distances = []\n",
    "        for i in cluster1:\n",
    "            for j in cluster2:\n",
    "                distances.append(dist_matrix[i][j])\n",
    "        distances = np.array(distances)\n",
    "        sum = np.sum(distances)\n",
    "        elements = len(cluster1) * len(cluster2) \n",
    "        print (sum/elements)\n",
    "\n",
    "# data = [[0,725,800,150,1000,525,600,500,400,850],\n",
    "# [725,0,75,575,275,1250,1325,226,325,125],\n",
    "# [800,75,0,650,200,1325,1400,300,400,51],\n",
    "# [150,575,650,0,850,675,750,350,250,700],\n",
    "# [1000,275,200,850,0,1525,1600,500,600,150],\n",
    "# [525,1250,1325,675,1525,0,75,1025,925,1375],\n",
    "# [600,1325,1400,750,1600,75,0,1100,1000,1450],\n",
    "# [500,226,300,350,500,1025,1100,0,100,350],\n",
    "# [400,325,400,250,600,925,1000,100,0,450],\n",
    "# [850,125,51,700,150,1375,1450,350,450,0]]\n",
    "\n",
    "# distance_between_clusters(data, [5,6], [7,8,9])"
   ]
  },
  {
   "cell_type": "code",
   "execution_count": 168,
   "metadata": {},
   "outputs": [
    {
     "data": {
      "text/plain": [
       "0.4490566037735849"
      ]
     },
     "execution_count": 168,
     "metadata": {},
     "output_type": "execute_result"
    }
   ],
   "source": [
    "y = [146, 119, 68]\n",
    "1-(max(y)/sum(y))\n",
    "1-(max(y)/sum(y[:2]))"
   ]
  },
  {
   "cell_type": "code",
   "execution_count": 263,
   "metadata": {},
   "outputs": [],
   "source": [
    "N = 8760\n",
    "V = 3637\n",
    "H = 3637\n",
    "D = 3459"
   ]
  },
  {
   "cell_type": "code",
   "execution_count": 275,
   "metadata": {},
   "outputs": [
    {
     "data": {
      "text/plain": [
       "0.4151826484018265"
      ]
     },
     "execution_count": 275,
     "metadata": {},
     "output_type": "execute_result"
    }
   ],
   "source": [
    "H/N"
   ]
  },
  {
   "cell_type": "code",
   "execution_count": 289,
   "metadata": {},
   "outputs": [],
   "source": [
    "b1 = [12,5,10]\n",
    "b2 = 23\n",
    "b3 = [6,17,14,13]\n",
    "# np.mean(b1)\n",
    "# np.mean(b2)\n",
    "Iv2 = np.sum((b3 - np.mean(b3))**2)/len(b3)"
   ]
  },
  {
   "cell_type": "code",
   "execution_count": 288,
   "metadata": {},
   "outputs": [],
   "source": [
    "r = [23, 6, 17, 14, 13]\n",
    "Ir = np.sum((r - np.mean(r))**2)/len(r)"
   ]
  },
  {
   "cell_type": "code",
   "execution_count": 290,
   "metadata": {},
   "outputs": [
    {
     "data": {
      "text/plain": [
       "17.639999999999997"
      ]
     },
     "execution_count": 290,
     "metadata": {},
     "output_type": "execute_result"
    }
   ],
   "source": [
    "Ir - (len(b3)/len(r)) * Iv2"
   ]
  },
  {
   "cell_type": "markdown",
   "metadata": {},
   "source": [
    "#### **Ridge Regression**"
   ]
  },
  {
   "cell_type": "code",
   "execution_count": 15,
   "metadata": {
    "tags": []
   },
   "outputs": [],
   "source": [
    "y = np.array([6,2,3,4])\n",
    "X = np.array([1,2,3,4]) \n",
    "w0 = 3.75\n",
    "w = -0.38729\n",
    "lam = 8"
   ]
  },
  {
   "cell_type": "code",
   "execution_count": 16,
   "metadata": {
    "tags": []
   },
   "outputs": [],
   "source": [
    "x = X - X.mean()\n",
    "s = np.sqrt(((X - X.mean())**2).sum()/(X.shape[0]-1)) # Quasi typycal deviation\n",
    "x = x/s"
   ]
  },
  {
   "cell_type": "code",
   "execution_count": 17,
   "metadata": {
    "tags": []
   },
   "outputs": [
    {
     "data": {
      "text/plain": [
       "3.9748380645087966"
      ]
     },
     "execution_count": 17,
     "metadata": {},
     "output_type": "execute_result"
    }
   ],
   "source": [
    "np.linalg.norm(y - w0*np.ones_like(y) - x*w) + lam * w**2"
   ]
  },
  {
   "cell_type": "code",
   "execution_count": 18,
   "metadata": {
    "tags": []
   },
   "outputs": [],
   "source": [
    "yvals = []\n",
    "xvals = []\n",
    "for w0 in np.arange(7.2,7.3,0.01):\n",
    "    xvals.append(w0)\n",
    "    yvals.append(np.linalg.norm(y - w0*np.ones_like(y) - x*w) + lam * w**2)"
   ]
  },
  {
   "cell_type": "code",
   "execution_count": 19,
   "metadata": {
    "tags": []
   },
   "outputs": [
    {
     "data": {
      "text/plain": [
       "[<matplotlib.lines.Line2D at 0x25dfbecb490>]"
      ]
     },
     "execution_count": 19,
     "metadata": {},
     "output_type": "execute_result"
    },
    {
     "data": {
      "image/png": "[encoded data removed]",
      "text/plain": [
       "<Figure size 640x480 with 1 Axes>"
      ]
     },
     "metadata": {},
     "output_type": "display_data"
    }
   ],
   "source": [
    "plt.plot(xvals,yvals)"
   ]
  },
  {
   "cell_type": "code",
   "execution_count": 20,
   "metadata": {
    "tags": []
   },
   "outputs": [],
   "source": [
    "X = np.array([[1,1],[1,3],[1,4]])\n",
    "y = np.array([2,5,6])\n"
   ]
  },
  {
   "cell_type": "code",
   "execution_count": 21,
   "metadata": {
    "tags": []
   },
   "outputs": [
    {
     "data": {
      "text/plain": [
       "array([0.71428571, 1.35714286])"
      ]
     },
     "execution_count": 21,
     "metadata": {},
     "output_type": "execute_result"
    }
   ],
   "source": [
    "np.linalg.inv(X.T @ X)@X.T @ y"
   ]
  },
  {
   "cell_type": "markdown",
   "metadata": {},
   "source": [
    "#### **Neural Network, Bias and variance**"
   ]
  },
  {
   "cell_type": "code",
   "execution_count": 4,
   "metadata": {},
   "outputs": [],
   "source": [
    "w11 = np.array([21.78, -1.65, 0, -13.26, -8.46])\n",
    "w12 = np.array([-9.6, -0.44, 0.01, 14.54, 9.5])\n",
    "x = np.array([1,6.8, 225, 0.44, 0.68])"
   ]
  },
  {
   "cell_type": "markdown",
   "metadata": {},
   "source": [
    "Number of parameters "
   ]
  },
  {
   "cell_type": "code",
   "execution_count": 609,
   "metadata": {},
   "outputs": [
    {
     "data": {
      "text/plain": [
       "909"
      ]
     },
     "execution_count": 609,
     "metadata": {},
     "output_type": "execute_result"
    }
   ],
   "source": [
    "inp_att = 8\n",
    "hid_units = 50\n",
    "outp_units = 9\n",
    "n_param = ((inp_att + 1) * hid_units) + (1 + hid_units) * outp_units\n",
    "n_param"
   ]
  },
  {
   "cell_type": "markdown",
   "metadata": {},
   "source": [
    "Weights"
   ]
  },
  {
   "cell_type": "code",
   "execution_count": 649,
   "metadata": {},
   "outputs": [],
   "source": [
    "X = np.array([[1, 0, 0], [1, 1, 0], [1, 1, 1], [1, 1,2]])\n",
    "Y = np.array([1, 3, 5,7])\n",
    "N = Y.shape[0]\n",
    "w1 = np.array([-2, 4, 2])\n",
    "w2 = np.array([[1, 1], [1, 2], [1, 3], [1, 4]])"
   ]
  },
  {
   "cell_type": "code",
   "execution_count": 662,
   "metadata": {},
   "outputs": [
    {
     "name": "stdout",
     "output_type": "stream",
     "text": [
      "Cost for w = [1 1]: 1.0\n",
      "Cost for w = [1 2]: 18.0\n",
      "Cost for w = [1 3]: 65.0\n",
      "Cost for w = [1 4]: 142.0\n"
     ]
    }
   ],
   "source": [
    "# Cost function\n",
    "for w in w2:\n",
    "    s = 0\n",
    "    for x, y in zip(X, Y):\n",
    "        z1 = np.max(x.T@w1)\n",
    "        z1_hat = np.array([1,z1])\n",
    "        f = z1_hat.T@w\n",
    "        s += np.linalg.norm(f - y)**2 \n",
    "    print(f'Cost for w = {w}:', s/N)"
   ]
  },
  {
   "cell_type": "markdown",
   "metadata": {},
   "source": [
    "With sigmoid"
   ]
  },
  {
   "cell_type": "code",
   "execution_count": 171,
   "metadata": {},
   "outputs": [],
   "source": [
    "def sigmoide(x):\n",
    "    return 1/(1+np.exp(-x))"
   ]
  },
  {
   "cell_type": "code",
   "execution_count": 176,
   "metadata": {},
   "outputs": [],
   "source": [
    "X1 = np.arange(-2, 2, 0.1)\n",
    "X2 = np.arange(-2, 2, 0.001)\n",
    "d = {(0,0): 0}"
   ]
  },
  {
   "cell_type": "code",
   "execution_count": 188,
   "metadata": {},
   "outputs": [],
   "source": [
    "X1 = np.arange(-3, 3, 1)\n",
    "X2 = np.arange(-3, 3, 1)\n",
    "w1 = np.array([[0., 0.3, 0.6], [1.2, 0.4, 1.9]]).T\n",
    "w2 = np.array([-2.4, 2.6])\n",
    "w20 = 1.4\n",
    "yval = {(0,0): 0}\n",
    "for x1 in X1:\n",
    "    for x2 in X2:\n",
    "        z1 = w20 + w2@sigmoide(np.array([1, x1, x2])@w1)\n",
    "        f = np.max(z1, 0)\n",
    "        yval[f'({np.round(x1,1)},{np.round(x2,1)})'] = f\n"
   ]
  },
  {
   "cell_type": "code",
   "execution_count": 195,
   "metadata": {},
   "outputs": [
    {
     "data": {
      "text/plain": [
       "0.9183879036831774"
      ]
     },
     "execution_count": 195,
     "metadata": {},
     "output_type": "execute_result"
    }
   ],
   "source": [
    "yval['(2,-2)']"
   ]
  },
  {
   "cell_type": "markdown",
   "metadata": {},
   "source": [
    "#### **Impurity gain**"
   ]
  },
  {
   "cell_type": "markdown",
   "metadata": {},
   "source": [
    "Classification"
   ]
  },
  {
   "cell_type": "code",
   "execution_count": 14,
   "metadata": {},
   "outputs": [
    {
     "data": {
      "text/plain": [
       "0.13301038062283735"
      ]
     },
     "execution_count": 14,
     "metadata": {},
     "output_type": "execute_result"
    }
   ],
   "source": [
    "(62/Nv1)**2"
   ]
  },
  {
   "cell_type": "code",
   "execution_count": 15,
   "metadata": {},
   "outputs": [
    {
     "data": {
      "text/plain": [
       "0.40359861591695495"
      ]
     },
     "execution_count": 15,
     "metadata": {},
     "output_type": "execute_result"
    }
   ],
   "source": [
    "(108/Nv1)**2"
   ]
  },
  {
   "cell_type": "code",
   "execution_count": 10,
   "metadata": {},
   "outputs": [],
   "source": [
    "Nr = 306\n",
    "Nv1 =  170\n",
    "Nv2 = 136\n",
    "Ir = 1 - ((81/Nr)**2 + (225/Nr)**2)\n",
    "Iv1 = 1 - ((62/Nv1)**2 + (108/Nv1)**2)\n",
    "Iv2 = 1 - ((19/Nv2)**2 + (117/Nv2)**2)\n",
    "PG1 = Ir - (Nv1/Nr * Iv1 + Nv2/Nr * Iv2)"
   ]
  },
  {
   "cell_type": "code",
   "execution_count": 30,
   "metadata": {},
   "outputs": [],
   "source": [
    "Nr = 204 + 166 + 197 + 94\n",
    "Nv1 =  204 + 31 + 128 + 84\n",
    "Nv2 = 0 + (166-31) + (197-128) + (94-84)\n",
    "Ir = 1 - max(204/Nr, 166/Nr, 197/Nr, 94/Nr)\n",
    "Iv1 = 1 - max(204/Nv1, (31)/Nv1, (128)/Nv1, (84)/Nv1)\n",
    "Iv2 = 1 - max(0, (166-31)/Nv2, (197-128)/Nv2, (94-84)/Nv2)\n",
    "PG2 = Ir - (Nv1/Nr * Iv1 + Nv2/Nr * Iv2)"
   ]
  },
  {
   "cell_type": "code",
   "execution_count": 31,
   "metadata": {},
   "outputs": [
    {
     "data": {
      "text/plain": [
       "0.015128593040847238"
      ]
     },
     "execution_count": 31,
     "metadata": {},
     "output_type": "execute_result"
    }
   ],
   "source": [
    "PG1 - PG2"
   ]
  },
  {
   "cell_type": "markdown",
   "metadata": {},
   "source": [
    "Regression"
   ]
  },
  {
   "cell_type": "code",
   "execution_count": 5,
   "metadata": {},
   "outputs": [
    {
     "data": {
      "text/plain": [
       "0.3751935255315707"
      ]
     },
     "execution_count": 5,
     "metadata": {},
     "output_type": "execute_result"
    }
   ],
   "source": [
    "import numpy as np\n",
    "1/(1+np.exp(0.51))"
   ]
  },
  {
   "cell_type": "code",
   "execution_count": 950,
   "metadata": {},
   "outputs": [],
   "source": [
    "x = np.array([-1.76, -0, 0.06, 0.08, 0.65, 1.3])\n",
    "y = np.array([12, 6, 8, 10, 4 ,2])"
   ]
  },
  {
   "cell_type": "code",
   "execution_count": 952,
   "metadata": {},
   "outputs": [
    {
     "name": "stdout",
     "output_type": "stream",
     "text": [
      "11.666666666666666\n",
      "1.0\n",
      "5.0\n",
      "Purity gain = 7.999999999999999\n"
     ]
    }
   ],
   "source": [
    "v1 = y[x>0.365]\n",
    "v2 = y[x<0.365]\n",
    "Nr = x.shape[0]\n",
    "Nv1 = v1.shape[0]\n",
    "Nv2 = v2.shape[0]\n",
    "Ir = (1/Nr) * np.sum((y-y.mean())**2);     print(Ir)\n",
    "Iv1 = (1/Nv1) * np.sum((v1-v1.mean())**2); print(Iv1)\n",
    "Iv2 = (1/Nv2) * np.sum((v2-v2.mean())**2); print(Iv2)\n",
    "Pgain = Ir - ((Nv1/Nr) * Iv1) - ((Nv2/Nr) * Iv2)\n",
    "print('Purity gain =', Pgain)"
   ]
  },
  {
   "cell_type": "markdown",
   "metadata": {},
   "source": [
    "#### **Linear Regression**"
   ]
  },
  {
   "cell_type": "code",
   "execution_count": 10,
   "metadata": {},
   "outputs": [],
   "source": [
    "import numpy as np\n",
    "X = [1, 3, 4]\n",
    "# Pad a column of ones to X\n",
    "X_til = np.c_[np.ones_like(X), X]\n",
    "Y = [2, 5, 6] "
   ]
  },
  {
   "cell_type": "code",
   "execution_count": 11,
   "metadata": {},
   "outputs": [],
   "source": [
    "# Get the weights of the linear regression\n",
    "w = np.linalg.inv(X_til.T @ X_til) @ X_til.T @ Y"
   ]
  },
  {
   "cell_type": "code",
   "execution_count": 16,
   "metadata": {},
   "outputs": [],
   "source": [
    "# Make the prediction for x = 5\n",
    "x = 5\n",
    "x_til = np.array([1, x])\n",
    "y = x_til @ w"
   ]
  },
  {
   "cell_type": "code",
   "execution_count": 17,
   "metadata": {},
   "outputs": [
    {
     "data": {
      "text/plain": [
       "7.499999999999998"
      ]
     },
     "execution_count": 17,
     "metadata": {},
     "output_type": "execute_result"
    }
   ],
   "source": [
    "y"
   ]
  },
  {
   "cell_type": "code",
   "execution_count": 9,
   "metadata": {},
   "outputs": [
    {
     "name": "stdout",
     "output_type": "stream",
     "text": [
      "1\n",
      "cos: 0.0\n",
      "sin: 1.0\n",
      "3\n",
      "cos: -0.0\n",
      "sin: -1.0\n",
      "4\n",
      "cos: 1.0\n",
      "sin: -0.0\n"
     ]
    }
   ],
   "source": [
    "for x in X:\n",
    "    print(x)\n",
    "    print('cos:', np.round(np.cos(x * np.pi/2), 5))\n",
    "    print('sin:', np.round(np.sin(x * np.pi/2), 5))"
   ]
  },
  {
   "cell_type": "code",
   "execution_count": 158,
   "metadata": {},
   "outputs": [],
   "source": [
    "w0 = 1\n",
    "w = np.array([-10, 4, 2])\n",
    "x = np.array([[1,4,4], [2,7,14], [3,2,6], [4,9,36], [5,0,0]])\n",
    "y = np.array([[4,7,0,3,1]])"
   ]
  },
  {
   "cell_type": "code",
   "execution_count": 159,
   "metadata": {},
   "outputs": [],
   "source": [
    "f = w0 + x@w"
   ]
  },
  {
   "cell_type": "code",
   "execution_count": 169,
   "metadata": {},
   "outputs": [
    {
     "data": {
      "text/plain": [
       "0.43999999999999984"
      ]
     },
     "execution_count": 169,
     "metadata": {},
     "output_type": "execute_result"
    }
   ],
   "source": [
    "(37.6-(1/5) * np.abs(f - y).sum() )/10"
   ]
  },
  {
   "cell_type": "code",
   "execution_count": 168,
   "metadata": {},
   "outputs": [
    {
     "data": {
      "text/plain": [
       "10.0"
      ]
     },
     "execution_count": 168,
     "metadata": {},
     "output_type": "execute_result"
    }
   ],
   "source": [
    "np.linalg.norm(w, np.inf)"
   ]
  },
  {
   "cell_type": "markdown",
   "metadata": {},
   "source": [
    "#### **Sequential Feature Selection**"
   ]
  },
  {
   "cell_type": "code",
   "execution_count": 795,
   "metadata": {},
   "outputs": [],
   "source": [
    "def seq_selec(start, end, total, kfolds = 1):\n",
    "    \"\"\"Compute the total number of trained models during \n",
    "    sequential feature selection\n",
    "\n",
    "    Args:\n",
    "        start (int): The starting number of features\n",
    "        end (int): The final number of features selected (ie end + 1 \n",
    "        is trained but with higher error)\n",
    "        total (int): total num of features in the ds\n",
    "        kfolds (int, optional): if cv = KFold set number of folds\n",
    "        . Defaults to 1.\n",
    "\n",
    "    Returns:\n",
    "        int: number of trained models during the process\n",
    "    \"\"\"\n",
    "    n_mod = 0\n",
    "    if start>end:\n",
    "        step = -1 \n",
    "    else:\n",
    "        step = 1\n",
    "    for i in range(start, end + step, step):\n",
    "        n_mod += kfolds + (kfolds * (i + step))\n",
    "    return n_mod"
   ]
  },
  {
   "cell_type": "code",
   "execution_count": 796,
   "metadata": {},
   "outputs": [
    {
     "data": {
      "text/plain": [
       "70"
      ]
     },
     "execution_count": 796,
     "metadata": {},
     "output_type": "execute_result"
    }
   ],
   "source": [
    "seq_selec(0, 6, 8, 5) - seq_selec(8, 6, 8, 5)"
   ]
  },
  {
   "cell_type": "markdown",
   "metadata": {},
   "source": [
    "#### **Calculations**"
   ]
  },
  {
   "cell_type": "code",
   "execution_count": 52,
   "metadata": {},
   "outputs": [
    {
     "data": {
      "text/plain": [
       "0.9347181008902077"
      ]
     },
     "execution_count": 52,
     "metadata": {},
     "output_type": "execute_result"
    }
   ],
   "source": [
    "0.63*0.2*0.68/(0.63*0.2*0.68+0.17*0.11*0.32)"
   ]
  },
  {
   "cell_type": "code",
   "execution_count": 55,
   "metadata": {},
   "outputs": [],
   "source": [
    "mu11 = np.mean([-0.78, -0.32, -0.69, 0.7]) \n",
    "mu12 = np.mean([-0.9, -0.22, -0.47, 0.44]) \n",
    "\n",
    "mu21 = np.mean([1.61,1.15,1.9,2.04]) \n",
    "mu22 = np.mean([ 1.06,  0.72, 1.75,  2.06]) \n"
   ]
  },
  {
   "cell_type": "code",
   "execution_count": 58,
   "metadata": {},
   "outputs": [
    {
     "data": {
      "text/plain": [
       "0.9724999999999999"
      ]
     },
     "execution_count": 58,
     "metadata": {},
     "output_type": "execute_result"
    }
   ],
   "source": [
    "np.abs(mu11-0.7)"
   ]
  },
  {
   "cell_type": "code",
   "execution_count": 59,
   "metadata": {},
   "outputs": [
    {
     "data": {
      "text/plain": [
       "0.9750000000000001"
      ]
     },
     "execution_count": 59,
     "metadata": {},
     "output_type": "execute_result"
    }
   ],
   "source": [
    "np.abs(mu21-0.7)"
   ]
  },
  {
   "cell_type": "code",
   "execution_count": 72,
   "metadata": {},
   "outputs": [
    {
     "data": {
      "text/plain": [
       "0.2826086956521739"
      ]
     },
     "execution_count": 72,
     "metadata": {},
     "output_type": "execute_result"
    }
   ],
   "source": [
    "N = 400\n",
    "p1 = 124/124\n",
    "p2 = 52/104\n",
    "p3 = 28/112\n",
    "p4 = 12/60\n",
    "py1 = 124/N\n",
    "py2 = 104/N\n",
    "py3 = 112/N\n",
    "py4 = 60/N\n",
    "(1-p2) * py2/(((1-p1) * py1) + (1-p2) * py2 +(1-p3) * py3 + (1-p4) * py4)"
   ]
  },
  {
   "cell_type": "code",
   "execution_count": 74,
   "metadata": {},
   "outputs": [],
   "source": [
    "C1 = 7+45\n",
    "C2 = 6+142\n",
    "N = C1 + C2"
   ]
  },
  {
   "cell_type": "code",
   "execution_count": 79,
   "metadata": {},
   "outputs": [
    {
     "data": {
      "text/plain": [
       "0.745"
      ]
     },
     "execution_count": 79,
     "metadata": {},
     "output_type": "execute_result"
    }
   ],
   "source": [
    "#LR\n",
    "(7+142)/200"
   ]
  },
  {
   "cell_type": "code",
   "execution_count": 84,
   "metadata": {},
   "outputs": [
    {
     "data": {
      "text/plain": [
       "0.71"
      ]
     },
     "execution_count": 84,
     "metadata": {},
     "output_type": "execute_result"
    }
   ],
   "source": [
    "#DT\n",
    "(16+126)/200"
   ]
  },
  {
   "cell_type": "code",
   "execution_count": 83,
   "metadata": {},
   "outputs": [
    {
     "data": {
      "text/plain": [
       "0.74"
      ]
     },
     "execution_count": 83,
     "metadata": {},
     "output_type": "execute_result"
    }
   ],
   "source": [
    "(0+148)/200"
   ]
  },
  {
   "cell_type": "code",
   "execution_count": 82,
   "metadata": {},
   "outputs": [
    {
     "data": {
      "text/plain": [
       "148"
      ]
     },
     "execution_count": 82,
     "metadata": {},
     "output_type": "execute_result"
    }
   ],
   "source": [
    "C2"
   ]
  },
  {
   "cell_type": "code",
   "execution_count": 210,
   "metadata": {},
   "outputs": [
    {
     "data": {
      "text/plain": [
       "matrix([[1.66195455]])"
      ]
     },
     "execution_count": 210,
     "metadata": {},
     "output_type": "execute_result"
    }
   ],
   "source": [
    "x8 = [5.7, 5.5]\n",
    "x9 = [-0.5, 1.9]\n",
    "x10 = [-2.5, 0.2]\n",
    "x11 = [-0.65, 1]\n",
    "x12 = [-0.8, 0.4]\n",
    "1 - similarity(x8, x10, 'cos')"
   ]
  },
  {
   "cell_type": "code",
   "execution_count": 198,
   "metadata": {},
   "outputs": [
    {
     "data": {
      "text/plain": [
       "0.25"
      ]
     },
     "execution_count": 198,
     "metadata": {},
     "output_type": "execute_result"
    }
   ],
   "source": [
    "dist"
   ]
  },
  {
   "cell_type": "code",
   "execution_count": null,
   "metadata": {},
   "outputs": [],
   "source": []
  }
 ],
 "metadata": {
  "kernelspec": {
   "display_name": "Python 3 (ipykernel)",
   "language": "python",
   "name": "python3"
  },
  "language_info": {
   "codemirror_mode": {
    "name": "ipython",
    "version": 3
   },
   "file_extension": ".py",
   "mimetype": "text/x-python",
   "name": "python",
   "nbconvert_exporter": "python",
   "pygments_lexer": "ipython3",
   "version": "3.11.4"
  },
  "vscode": {
   "interpreter": {
    "hash": "a2f6c66c89ad4c8419177551668bc68e5b63841305411eba2146a4407b0a55c3"
   }
  }
 },
 "nbformat": 4,
 "nbformat_minor": 4
}
