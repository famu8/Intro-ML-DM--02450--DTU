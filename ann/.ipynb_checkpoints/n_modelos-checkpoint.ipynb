{
 "cells": [
  {
   "cell_type": "code",
   "execution_count": null,
   "id": "d087f578-8ca7-4b23-9920-2238a83b8682",
   "metadata": {},
   "outputs": [],
   "source": [
    "inp_att = 8\n",
    "hid_units = 50\n",
    "outp_units = 9\n",
    "n_param = ((inp_att + 1) * hid_units) + (1 + hid_units) * outp_units\n",
    "n_param"
   ]
  }
 ],
 "metadata": {
  "kernelspec": {
   "display_name": "Python 3 (ipykernel)",
   "language": "python",
   "name": "python3"
  },
  "language_info": {
   "codemirror_mode": {
    "name": "ipython",
    "version": 3
   },
   "file_extension": ".py",
   "mimetype": "text/x-python",
   "name": "python",
   "nbconvert_exporter": "python",
   "pygments_lexer": "ipython3",
   "version": "3.11.4"
  }
 },
 "nbformat": 4,
 "nbformat_minor": 5
}
