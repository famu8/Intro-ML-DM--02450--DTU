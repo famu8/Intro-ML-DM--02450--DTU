{
 "cells": [
  {
   "cell_type": "code",
   "execution_count": 11,
   "id": "86bb87ec-fa2f-4caf-94f4-1414837dabb1",
   "metadata": {
    "tags": []
   },
   "outputs": [],
   "source": [
    "import numpy as np\n",
    "import math"
   ]
  },
  {
   "cell_type": "code",
   "execution_count": 17,
   "id": "055fb3ae-1c76-4200-b3dc-756158076d07",
   "metadata": {
    "tags": []
   },
   "outputs": [
    {
     "name": "stdout",
     "output_type": "stream",
     "text": [
      "n1 0.8853516482022625\n",
      "n2 -0.9890274022010993\n",
      "out: 0.7953180737785034\n"
     ]
    }
   ],
   "source": [
    "# este codigo de aqui abajo para cuando te dqn como h1=sigmoide \n",
    "# y como h2 linear\n",
    "# spring2019, ej10\n",
    "\n",
    "# x q tu eligjas\n",
    "input_ = np.array([1,-2,-2])\n",
    "\n",
    "def first_dot(inp, w):\n",
    "    # sig = 1/(1+ np.exp(-np.dot(w,inp)))\n",
    "    tanh =  (     (np.exp(np.dot(w,inp))) - (np.exp(-np.dot(w,inp)))  )  / ( (np.exp(np.dot(w,inp)))  + (np.exp(-np.dot(w,inp))) )\n",
    "    return tanh\n",
    "\n",
    "# w1 (1)\n",
    "n1 = first_dot(input_,np.array([2.2, 0.7, -0.3]))\n",
    "print(\"n1\",n1)\n",
    "\n",
    "# w2(1)\n",
    "n2 = first_dot(input_,np.array([-0.2, 0.8, 0.4]))\n",
    "print(\"n2\", n2)\n",
    "\n",
    "#        w1(2)                w2(2)               w0(2)\n",
    "sum_ = ( (-0.7)*n1 ) + ( (0.5*n2) + 2.2 )\n",
    "                      \n",
    "out = ((np.exp(sum_)) - (np.exp(-sum_)))  /  ((np.exp(sum_))  + (np.exp(-sum_)) ) \n",
    "\n",
    "print(\"out:\", out)"
   ]
  },
  {
   "cell_type": "code",
   "execution_count": 32,
   "id": "a71cedac-36d0-4057-bba3-661c51889e22",
   "metadata": {
    "tags": []
   },
   "outputs": [
    {
     "name": "stdout",
     "output_type": "stream",
     "text": [
      "n1 0.425557483188341\n",
      "n2 0.043107254941086116\n",
      "out: 0.7294206955519241\n"
     ]
    }
   ],
   "source": [
    "# para cuando te dan como h1=h2=sigmoide\n",
    "# fall2019,ej20\n",
    "input_ = np.array([1,-2])\n",
    "def first_dot(inp, w):\n",
    "    sig = 1/(1+ np.exp(-np.dot(w,input_)))\n",
    "    return sig\n",
    "\n",
    "n1 = first_dot(input_,np.array([-0.5, -0.1]))\n",
    "print(\"n1\",n1)\n",
    "\n",
    "n2 = first_dot(input_,np.array([0.9, 2]))\n",
    "print(\"n2\", n2)\n",
    "\n",
    "sum_ = (-1*n1 + 0.4*n2 + 1.4) \n",
    "\n",
    "out = 1 / (1+ np.exp(-sum_))\n",
    "\n",
    "print(\"out:\", out)"
   ]
  },
  {
   "cell_type": "markdown",
   "id": "d392c97c-0853-4e81-8858-8c4e10aab607",
   "metadata": {},
   "source": [
    "intento de hacer ej de sigmoide con grafica"
   ]
  },
  {
   "cell_type": "code",
   "execution_count": 1,
   "id": "5a2bfd14-99a8-44f6-9d7c-e88d4fe86441",
   "metadata": {
    "tags": []
   },
   "outputs": [],
   "source": [
    "def sigmoide(x):\n",
    "    return 1/(1+np.exp(-x))"
   ]
  },
  {
   "cell_type": "code",
   "execution_count": 1,
   "id": "a73b5b65-c8b6-4f9f-ae37-36f98dc15357",
   "metadata": {},
   "outputs": [
    {
     "ename": "SyntaxError",
     "evalue": "incomplete input (1469499411.py, line 1)",
     "output_type": "error",
     "traceback": [
      "\u001b[1;36m  Cell \u001b[1;32mIn[1], line 1\u001b[1;36m\u001b[0m\n\u001b[1;33m    def tanh():\u001b[0m\n\u001b[1;37m               ^\u001b[0m\n\u001b[1;31mSyntaxError\u001b[0m\u001b[1;31m:\u001b[0m incomplete input\n"
     ]
    }
   ],
   "source": [
    "def tanh(x):\n",
    "    "
   ]
  },
  {
   "cell_type": "code",
   "execution_count": null,
   "id": "3693770e-ed6b-45e1-a281-b732ac8d82c4",
   "metadata": {},
   "outputs": [],
   "source": []
  },
  {
   "cell_type": "code",
   "execution_count": null,
   "id": "1e4be88d-5f1b-4d1e-8e08-8d880f114b19",
   "metadata": {},
   "outputs": [],
   "source": []
  },
  {
   "cell_type": "code",
   "execution_count": null,
   "id": "eff7cf6f-50ff-4d5e-9fb2-e0777a53ab04",
   "metadata": {},
   "outputs": [],
   "source": []
  }
 ],
 "metadata": {
  "kernelspec": {
   "display_name": "Python 3 (ipykernel)",
   "language": "python",
   "name": "python3"
  },
  "language_info": {
   "codemirror_mode": {
    "name": "ipython",
    "version": 3
   },
   "file_extension": ".py",
   "mimetype": "text/x-python",
   "name": "python",
   "nbconvert_exporter": "python",
   "pygments_lexer": "ipython3",
   "version": "3.11.4"
  }
 },
 "nbformat": 4,
 "nbformat_minor": 5
}
