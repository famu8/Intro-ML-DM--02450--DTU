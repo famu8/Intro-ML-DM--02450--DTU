{
 "cells": [
  {
   "cell_type": "code",
   "execution_count": 2,
   "id": "d087f578-8ca7-4b23-9920-2238a83b8682",
   "metadata": {},
   "outputs": [
    {
     "data": {
      "text/plain": [
       "51"
      ]
     },
     "execution_count": 2,
     "metadata": {},
     "output_type": "execute_result"
    }
   ],
   "source": [
    "inp_att = 4\n",
    "hid_units = 6\n",
    "outp_units = 3\n",
    "n_param = ((inp_att + 1) * hid_units) + (1 + hid_units) * outp_units\n",
    "n_param"
   ]
  },
  {
   "cell_type": "code",
   "execution_count": null,
   "id": "eb532da8-3286-46c1-98e6-013b3837a583",
   "metadata": {},
   "outputs": [],
   "source": []
  }
 ],
 "metadata": {
  "kernelspec": {
   "display_name": "Python 3 (ipykernel)",
   "language": "python",
   "name": "python3"
  },
  "language_info": {
   "codemirror_mode": {
    "name": "ipython",
    "version": 3
   },
   "file_extension": ".py",
   "mimetype": "text/x-python",
   "name": "python",
   "nbconvert_exporter": "python",
   "pygments_lexer": "ipython3",
   "version": "3.11.4"
  }
 },
 "nbformat": 4,
 "nbformat_minor": 5
}
