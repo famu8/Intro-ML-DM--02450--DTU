{
 "cells": [
  {
   "cell_type": "code",
   "execution_count": 4,
   "id": "fff11bab-d1d1-4d16-925d-0491cfcd8711",
   "metadata": {
    "tags": []
   },
   "outputs": [],
   "source": [
    "import numpy as np \n",
    "import pandas as pd\n",
    "from itertools import combinations\n"
   ]
  },
  {
   "cell_type": "code",
   "execution_count": 8,
   "id": "ab63a806-79a0-43e7-a692-f0d71487a432",
   "metadata": {
    "tags": []
   },
   "outputs": [
    {
     "name": "stdout",
     "output_type": "stream",
     "text": [
      "['L: ', 1, {1}, {2}, {5}, {7}, 'L: ', 2, {1, 7}, {2, 5}, {2, 7}, {5, 7}, 'L: ', 3, {2, 5, 7}, 'L: ', 4, 'L: ', 5, 'L: ', 6, 'L: ', 7, 'L: ', 8]\n"
     ]
    },
    {
     "data": {
      "text/plain": [
       "['L: ',\n",
       " 1,\n",
       " {1},\n",
       " {2},\n",
       " {5},\n",
       " {7},\n",
       " 'L: ',\n",
       " 2,\n",
       " {1, 7},\n",
       " {2, 5},\n",
       " {2, 7},\n",
       " {5, 7},\n",
       " 'L: ',\n",
       " 3,\n",
       " {2, 5, 7},\n",
       " 'L: ',\n",
       " 4,\n",
       " 'L: ',\n",
       " 5,\n",
       " 'L: ',\n",
       " 6,\n",
       " 'L: ',\n",
       " 7,\n",
       " 'L: ',\n",
       " 8]"
      ]
     },
     "execution_count": 8,
     "metadata": {},
     "output_type": "execute_result"
    }
   ],
   "source": [
    "def apriori_algorithm(df, support_min):\n",
    "        \"\"\"\n",
    "        df: dataframe with each row being a basket, and each column being an item\n",
    "        support_min: minimum support level\n",
    "        Remember that the printed itemsets start from 0!\n",
    "        return the frequent itemsets, that is to say the itemsets with support>support_min\n",
    "        \"\"\"\n",
    "        itemsets = []\n",
    "        n = len(df)\n",
    "        for itsetSize in np.arange(1, len(df.columns) + 1): # Start with 1-itemsets, keep going till n_attributes-itemsets\n",
    "            itemsets.append(\"L: \")\n",
    "            itemsets.append(itsetSize)\n",
    "            for combination in combinations(df.columns, itsetSize):\n",
    "                itemset = df[list(combination)]\n",
    "                baskets = itemset.iloc[:,0].copy()\n",
    "                for col in itemset.columns[1:]:\n",
    "                    baskets = baskets & itemset[col]\n",
    "                sup =  baskets.sum() / float(len(baskets))\n",
    "                if sup > support_min:\n",
    "                    itemsets.append(set(combination))\n",
    "        print(itemsets)\n",
    "        return itemsets\n",
    "\n",
    "data= [[0, 0, 0, 1, 0, 0, 0, 1],\n",
    "[0, 0, 1, 0, 0, 1, 0, 1],\n",
    "[0, 0, 1, 0, 0, 1, 0, 1],\n",
    "[0, 1, 0, 0, 0, 1, 0, 1],\n",
    "[0, 0, 0, 0, 0, 1, 0, 1],\n",
    "[0, 0, 1, 0, 1, 1, 0, 1],\n",
    "[0, 0, 1, 0, 0, 1, 0, 1],\n",
    "[1, 1, 0, 0, 0, 0, 1, 1],\n",
    "[0, 1, 0, 0, 0, 0, 0, 1],\n",
    "[0, 1, 0, 0, 0, 1, 0, 1],\n",
    "[1, 1, 0, 0, 0, 0, 0, 0]]\n",
    "\n",
    "\n",
    "# OJO ES 0-INDEX !!!!!!!!!!!!!!!!!!!!!!!!!!!!!!!!!!!!!\n",
    "\n",
    "df= pd.DataFrame(data)\n",
    "apriori_algorithm(df, 0.3)\n",
    "#l'output è del tipo: ['L: ', 1, {0}, {1}, {2}, {3}, {4}, {6}, {7}, {9}, {10}, {11}, 'L: ', 2, {2, 4}, {4, 6}, {9, 7}, {9, 11}, 'L: ', 3, 'L: ', 4, 'L: ', 5 etc etc\n",
    "# L:1 significa itemset con una sola feature, L:2 istemset con due features etc etc"
   ]
  }
 ],
 "metadata": {
  "kernelspec": {
   "display_name": "Python 3 (ipykernel)",
   "language": "python",
   "name": "python3"
  },
  "language_info": {
   "codemirror_mode": {
    "name": "ipython",
    "version": 3
   },
   "file_extension": ".py",
   "mimetype": "text/x-python",
   "name": "python",
   "nbconvert_exporter": "python",
   "pygments_lexer": "ipython3",
   "version": "3.11.4"
  }
 },
 "nbformat": 4,
 "nbformat_minor": 5
}
