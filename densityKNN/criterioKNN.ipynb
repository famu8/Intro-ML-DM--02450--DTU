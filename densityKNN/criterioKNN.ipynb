{
 "cells": [
  {
   "cell_type": "code",
   "execution_count": null,
   "id": "0b681341-a205-4f65-b191-22a4e099bdd3",
   "metadata": {},
   "outputs": [],
   "source": [
    "\"\"\"\n",
    "Criterio KNN:\n",
    "    - 2 clases la clase que mas se repita\n",
    "    - 3 clases major voting (lo de arriba) y si cae entre 3 clases -> la de menor distancia\n",
    "\"\"\""
   ]
  }
 ],
 "metadata": {
  "kernelspec": {
   "display_name": "Python 3 (ipykernel)",
   "language": "python",
   "name": "python3"
  },
  "language_info": {
   "codemirror_mode": {
    "name": "ipython",
    "version": 3
   },
   "file_extension": ".py",
   "mimetype": "text/x-python",
   "name": "python",
   "nbconvert_exporter": "python",
   "pygments_lexer": "ipython3",
   "version": "3.11.4"
  }
 },
 "nbformat": 4,
 "nbformat_minor": 5
}
