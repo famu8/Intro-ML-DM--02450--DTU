{
 "cells": [
  {
   "cell_type": "code",
   "execution_count": null,
   "id": "381426a0-3e0d-4049-9054-f5858907c204",
   "metadata": {},
   "outputs": [],
   "source": [
    "\"\"\"\n",
    "SI te dicen K=1 te etán vacilando: haz la formula solo para EL MAS CERCANO, \n",
    "SOLO LA PRIMERA FORMULA, SOLO LA INVERSA DE LA DISTANCIA, VER EJ AUGUSTO 2020\n",
    "\n",
    "\n",
    "\n",
    "\n",
    "\n",
    "\n",
    "\n",
    "OJO HAY DOS TIPOS DE EJERCICIO, LOS QE TE PIDEN \n",
    "ARD Y LOS QUE NO \n",
    "\n",
    "\n",
    "SI NO TE PIDEN ARD: la formula es: K (enunciado) / valores de esos vecinos cercanos\n",
    "\n",
    "\n",
    "AQUI ABAJO SI TE PIDEN ARD\n",
    "\n",
    "\"\"\""
   ]
  },
  {
   "cell_type": "code",
   "execution_count": 18,
   "id": "33f8ef76-1c6e-457f-87e7-fa2320fe894e",
   "metadata": {},
   "outputs": [],
   "source": [
    "import numpy as np\n",
    "# PARA VER CUAL ES LA PRED Y CUAL ACTUAL MIRA LA FOTO PREDACT.PNG"
   ]
  },
  {
   "cell_type": "markdown",
   "id": "40436e5c-09f8-4c3f-8017-aaa872b07e64",
   "metadata": {},
   "source": [
    "density"
   ]
  },
  {
   "cell_type": "code",
   "execution_count": null,
   "id": "c84e5123-fc09-4e6e-b01e-540edf65ba6b",
   "metadata": {},
   "outputs": [],
   "source": [
    "K = 2\n",
    "d01 = 1.5 # dists to the K nrst nbors of the obs. wanted to compute its density\n",
    "d02 = 2.4\n",
    "density = 1/((1/K) * (d01 + d02)) \n",
    "density"
   ]
  },
  {
   "cell_type": "markdown",
   "id": "88404d9a-32aa-423f-8523-9b402c6464d8",
   "metadata": {},
   "source": [
    "ard"
   ]
  },
  {
   "cell_type": "code",
   "execution_count": null,
   "id": "808f84c9-c607-4768-ab79-40222d3493b0",
   "metadata": {},
   "outputs": [],
   "source": [
    "# para 3"
   ]
  },
  {
   "cell_type": "code",
   "execution_count": 1,
   "id": "7a875109-9231-4f9e-9845-6c38caabb0e1",
   "metadata": {
    "tags": []
   },
   "outputs": [],
   "source": [
    "def density_knn(k, v1, v2, v3):\n",
    "    density = ((1/k) * (v1+v2+v3))**-1\n",
    "    return density"
   ]
  },
  {
   "cell_type": "code",
   "execution_count": 3,
   "id": "fb30b086-d57e-4605-889f-6f8ba09ba2b2",
   "metadata": {
    "tags": []
   },
   "outputs": [
    {
     "name": "stdout",
     "output_type": "stream",
     "text": [
      "0.0298804780876494\n",
      "0.03215434083601287\n",
      "0.03164556962025317\n",
      "0.038216560509554146\n"
     ]
    }
   ],
   "source": [
    "do5 = density_knn(3, 24.2, 38.5, 37.7)\n",
    "print(do5)\n",
    "\n",
    "do3 = density_knn(3, 38.5, 19.3, 35.5)\n",
    "print(do3)\n",
    "\n",
    "do4 = density_knn(3, 24.2, 33.4, 37.2)\n",
    "print(do4)\n",
    "\n",
    "do6 = density_knn(3, 19.3, 21.5, 37.7)\n",
    "print(do6)"
   ]
  },
  {
   "cell_type": "code",
   "execution_count": 4,
   "id": "4e6a6c9b-a6b7-4cae-b5ff-8524c331261b",
   "metadata": {
    "tags": []
   },
   "outputs": [],
   "source": [
    "def ard(k,o1,o3,o4,o5):\n",
    "    ard = o1 / ( (1/k) * ((o3+o5+o4)) )\n",
    "    return ard"
   ]
  },
  {
   "cell_type": "code",
   "execution_count": 5,
   "id": "abe73366-e0b9-4e99-abb9-b82266a3995f",
   "metadata": {
    "tags": []
   },
   "outputs": [
    {
     "name": "stdout",
     "output_type": "stream",
     "text": [
      "0.8786956989816073\n"
     ]
    }
   ],
   "source": [
    "ard = ard(3, do5, do4, do3, do6)\n",
    "print(ard)"
   ]
  },
  {
   "cell_type": "code",
   "execution_count": 2,
   "id": "b880605e-a661-460f-8738-1bdae8a73fb2",
   "metadata": {},
   "outputs": [],
   "source": [
    "# para 2"
   ]
  },
  {
   "cell_type": "code",
   "execution_count": 19,
   "id": "e2ae149e-557b-4d7a-af4b-cb118c51e434",
   "metadata": {
    "tags": []
   },
   "outputs": [],
   "source": [
    "def density_knn(k, v1, v2):\n",
    "    density = ((1/k) * (v1+v2))**-1\n",
    "    return density"
   ]
  },
  {
   "cell_type": "code",
   "execution_count": 20,
   "id": "e228fa89-0197-4ef4-aaff-d888837a83bd",
   "metadata": {
    "tags": []
   },
   "outputs": [
    {
     "name": "stdout",
     "output_type": "stream",
     "text": [
      "0.13793103448275862\n",
      "0.38759689922480617\n",
      "1.2422360248447204\n"
     ]
    }
   ],
   "source": [
    "do2 = density_knn(2, 6.84, 7.66)\n",
    "print(do2)\n",
    "\n",
    "do3 = density_knn(2, 2.66, 2.5)\n",
    "print(do3)\n",
    "\n",
    "do10 = density_knn(2, 1.05, 0.56)\n",
    "print(do10)"
   ]
  },
  {
   "cell_type": "code",
   "execution_count": 21,
   "id": "55759a10-5020-463d-aa75-fecbb4e20e8d",
   "metadata": {
    "tags": []
   },
   "outputs": [],
   "source": [
    "def ard(k,o1,o3,o4):\n",
    "    ard = o1 / ( (1/k) * ((o3+o4)) )\n",
    "    return ard"
   ]
  },
  {
   "cell_type": "code",
   "execution_count": 22,
   "id": "b22cab9d-43f0-4735-851b-2642445a7ee6",
   "metadata": {
    "tags": []
   },
   "outputs": [
    {
     "name": "stdout",
     "output_type": "stream",
     "text": [
      "0.16925788213721796\n"
     ]
    }
   ],
   "source": [
    "ard = ard(2, do2, do3, do10)\n",
    "print(ard)"
   ]
  },
  {
   "cell_type": "code",
   "execution_count": 15,
   "id": "7b6a522d-2420-40ec-aab8-6b0cdda66ad3",
   "metadata": {
    "tags": []
   },
   "outputs": [],
   "source": [
    "# de aqui abajo codigo italiano\n",
    "import numpy as np \n",
    "import pandas as pd"
   ]
  },
  {
   "cell_type": "code",
   "execution_count": 24,
   "id": "96b71936-5298-445d-a782-028a1525abd0",
   "metadata": {
    "tags": []
   },
   "outputs": [],
   "source": [
    "data=[[0.0, 1.3, 4.1, 3.8, 4.5, 2.4, 3.2, 2.7, 3.0, 3.9],\n",
    " [1.3, 0.0, 3.2, 3.1, 4.7, 2.3, 2.6, 2.2, 2.7, 4.2],\n",
    " [4.1, 3.2, 0.0, 0.4, 4.9, 2.7, 1.1, 1.6, 2.4, 4.8],\n",
    " [3.8, 3.1, 0.4, 0.0, 4.6, 2.5, 0.9, 1.3, 2.1, 4.5],\n",
    " [4.5, 4.7, 4.9, 4.6, 0.0, 3.1, 4.4, 3.7, 2.8, 2.3],\n",
    " [2.4, 2.3, 2.7, 2.5, 3.1, 0.0, 1.8, 1.2, 0.9, 2.8],\n",
    " [3.2, 2.6, 1.1, 0.9, 4.4, 1.8, 0.0, 1.0, 1.7, 4.1],\n",
    " [2.7, 2.2, 1.6, 1.3, 3.7, 1.2, 1.0, 0.0, 1.1, 3.6],\n",
    " [3.0, 2.7, 2.4, 2.1, 2.8, 0.9, 1.7, 1.1, 0.0, 2.9],\n",
    " [3.9, 4.2, 4.8, 4.5, 2.3, 2.8, 4.1, 3.6, 2.9, 0.0]]"
   ]
  },
  {
   "cell_type": "code",
   "execution_count": 13,
   "id": "9ec1cf0f-2d8c-40bc-9bae-d4d35cb74907",
   "metadata": {},
   "outputs": [],
   "source": [
    "def ARD(df, obs, K):\n",
    "    \"\"\"\n",
    "    Calculates average relative density\n",
    "    ----------------------\n",
    "    parameters:\n",
    "    ----------------------\n",
    "    df = symmetric matrix with distances\n",
    "    obs = the observation to calculate ARD for  (0 index)\n",
    "    K = the number of nearest neighbors to consider\n",
    "    \"\"\"\n",
    "\n",
    "    O = df.loc[obs, :].values\n",
    "    dist_sort = np.argsort(O)\n",
    "    k_nearest_ind = dist_sort[1 : K + 1]\n",
    "\n",
    "    densO = 1 / (1 / K * np.sum(O[k_nearest_ind]))\n",
    "\n",
    "    densOn = []\n",
    "\n",
    "    for n in k_nearest_ind:\n",
    "        On = df.loc[n, :].values\n",
    "        dist_sort_n = np.argsort(On)\n",
    "        k_nearest_ind_n = dist_sort_n[1 : K + 1]\n",
    "        densOn.append(1 / (1 / K * np.sum(On[k_nearest_ind_n])))\n",
    "\n",
    "    ARD = densO / (1 / K * np.sum(densOn))\n",
    "\n",
    "    print(\"The density for observation O{} is {}\".format(obs + 1, densO))\n",
    "    print(\n",
    "        \"The average relative density for observation O{} is {}\".format(\n",
    "            obs + 1, ARD\n",
    "        )\n",
    "    )\n",
    "\n",
    "    return ARD"
   ]
  },
  {
   "cell_type": "code",
   "execution_count": 17,
   "id": "6fb2d189-177b-4f1b-9e7c-560442e3ae3a",
   "metadata": {
    "tags": []
   },
   "outputs": [
    {
     "name": "stdout",
     "output_type": "stream",
     "text": [
      "The density for observation O2 is 0.01\n",
      "The average relative density for observation O2 is 0.7343046357615894\n"
     ]
    },
    {
     "data": {
      "text/plain": [
       "0.7343046357615894"
      ]
     },
     "execution_count": 17,
     "metadata": {},
     "output_type": "execute_result"
    }
   ],
   "source": [
    "df = pd.DataFrame(data)\n",
    "\n",
    "ARD(df,1,2)"
   ]
  }
 ],
 "metadata": {
  "kernelspec": {
   "display_name": "Python 3 (ipykernel)",
   "language": "python",
   "name": "python3"
  },
  "language_info": {
   "codemirror_mode": {
    "name": "ipython",
    "version": 3
   },
   "file_extension": ".py",
   "mimetype": "text/x-python",
   "name": "python",
   "nbconvert_exporter": "python",
   "pygments_lexer": "ipython3",
   "version": "3.11.4"
  }
 },
 "nbformat": 4,
 "nbformat_minor": 5
}
