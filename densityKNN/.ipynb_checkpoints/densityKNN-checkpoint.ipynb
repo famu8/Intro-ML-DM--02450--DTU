{
 "cells": [
  {
   "cell_type": "code",
   "execution_count": null,
   "id": "381426a0-3e0d-4049-9054-f5858907c204",
   "metadata": {},
   "outputs": [],
   "source": [
    "\"\"\"\n",
    "SI te dicen K=1 te etán vacilando: haz la formula solo para EL MAS CERCANO, \n",
    "SOLO LA PRIMERA FORMULA, SOLO LA INVERSA DE LA DISTANCIA, VER EJ AUGUSTO 2020\n",
    "\n",
    "\n",
    "\n",
    "\n",
    "\n",
    "\n",
    "\n",
    "OJO HAY DOS TIPOS DE EJERCICIO, LOS QE TE PIDEN \n",
    "ARD Y LOS QUE NO \n",
    "\n",
    "\n",
    "SI NO TE PIDEN ARD: la formula es: K (enunciado) / valores de esos vecinos cercanos\n",
    "\n",
    "\n",
    "AQUI ABAJO SI TE PIDEN ARD\n",
    "\n",
    "\"\"\""
   ]
  },
  {
   "cell_type": "code",
   "execution_count": 1,
   "id": "33f8ef76-1c6e-457f-87e7-fa2320fe894e",
   "metadata": {},
   "outputs": [],
   "source": [
    "import numpy as np\n",
    "# PARA VER CUAL ES LA PRED Y CUAL ACTUAL MIRA LA FOTO PREDACT.PNG"
   ]
  },
  {
   "cell_type": "markdown",
   "id": "40436e5c-09f8-4c3f-8017-aaa872b07e64",
   "metadata": {},
   "source": [
    "density"
   ]
  },
  {
   "cell_type": "code",
   "execution_count": null,
   "id": "c84e5123-fc09-4e6e-b01e-540edf65ba6b",
   "metadata": {},
   "outputs": [],
   "source": [
    "K = 2\n",
    "d01 = 1.5 # dists to the K nrst nbors of the obs. wanted to compute its density\n",
    "d02 = 2.4\n",
    "density = 1/((1/K) * (d01 + d02)) \n",
    "density"
   ]
  },
  {
   "cell_type": "markdown",
   "id": "88404d9a-32aa-423f-8523-9b402c6464d8",
   "metadata": {},
   "source": [
    "ard"
   ]
  },
  {
   "cell_type": "code",
   "execution_count": null,
   "id": "808f84c9-c607-4768-ab79-40222d3493b0",
   "metadata": {},
   "outputs": [],
   "source": [
    "# para 3"
   ]
  },
  {
   "cell_type": "code",
   "execution_count": 1,
   "id": "7a875109-9231-4f9e-9845-6c38caabb0e1",
   "metadata": {
    "tags": []
   },
   "outputs": [],
   "source": [
    "def density_knn(k, v1, v2, v3):\n",
    "    density = ((1/k) * (v1+v2+v3))**-1\n",
    "    return density"
   ]
  },
  {
   "cell_type": "code",
   "execution_count": 3,
   "id": "fb30b086-d57e-4605-889f-6f8ba09ba2b2",
   "metadata": {
    "tags": []
   },
   "outputs": [
    {
     "name": "stdout",
     "output_type": "stream",
     "text": [
      "0.0298804780876494\n",
      "0.03215434083601287\n",
      "0.03164556962025317\n",
      "0.038216560509554146\n"
     ]
    }
   ],
   "source": [
    "do5 = density_knn(3, 24.2, 38.5, 37.7)\n",
    "print(do5)\n",
    "\n",
    "do3 = density_knn(3, 38.5, 19.3, 35.5)\n",
    "print(do3)\n",
    "\n",
    "do4 = density_knn(3, 24.2, 33.4, 37.2)\n",
    "print(do4)\n",
    "\n",
    "do6 = density_knn(3, 19.3, 21.5, 37.7)\n",
    "print(do6)"
   ]
  },
  {
   "cell_type": "code",
   "execution_count": 4,
   "id": "4e6a6c9b-a6b7-4cae-b5ff-8524c331261b",
   "metadata": {
    "tags": []
   },
   "outputs": [],
   "source": [
    "def ard(k,o1,o3,o4,o5):\n",
    "    ard = o1 / ( (1/k) * ((o3+o5+o4)) )\n",
    "    return ard"
   ]
  },
  {
   "cell_type": "code",
   "execution_count": 5,
   "id": "abe73366-e0b9-4e99-abb9-b82266a3995f",
   "metadata": {
    "tags": []
   },
   "outputs": [
    {
     "name": "stdout",
     "output_type": "stream",
     "text": [
      "0.8786956989816073\n"
     ]
    }
   ],
   "source": [
    "ard = ard(3, do5, do4, do3, do6)\n",
    "print(ard)"
   ]
  },
  {
   "cell_type": "code",
   "execution_count": 2,
   "id": "b880605e-a661-460f-8738-1bdae8a73fb2",
   "metadata": {},
   "outputs": [],
   "source": [
    "# para 2"
   ]
  },
  {
   "cell_type": "code",
   "execution_count": 3,
   "id": "e2ae149e-557b-4d7a-af4b-cb118c51e434",
   "metadata": {
    "tags": []
   },
   "outputs": [],
   "source": [
    "def density_knn(k, v1, v2):\n",
    "    density = ((1/k) * (v1+v2))**-1\n",
    "    return density"
   ]
  },
  {
   "cell_type": "code",
   "execution_count": 10,
   "id": "e228fa89-0197-4ef4-aaff-d888837a83bd",
   "metadata": {
    "tags": []
   },
   "outputs": [
    {
     "name": "stdout",
     "output_type": "stream",
     "text": [
      "0.01\n",
      "0.015873015873015872\n",
      "0.011363636363636364\n"
     ]
    }
   ],
   "source": [
    "do2 = density_knn(2, 75, 125)\n",
    "print(do2)\n",
    "\n",
    "do3 = density_knn(2, 75, 51)\n",
    "print(do3)\n",
    "\n",
    "do10 = density_knn(2, 51, 125)\n",
    "print(do10)"
   ]
  },
  {
   "cell_type": "code",
   "execution_count": 11,
   "id": "55759a10-5020-463d-aa75-fecbb4e20e8d",
   "metadata": {
    "tags": []
   },
   "outputs": [],
   "source": [
    "def ard(k,o1,o3,o4):\n",
    "    ard = o1 / ( (1/k) * ((o3+o4)) )\n",
    "    return ard"
   ]
  },
  {
   "cell_type": "code",
   "execution_count": 12,
   "id": "b22cab9d-43f0-4735-851b-2642445a7ee6",
   "metadata": {
    "tags": []
   },
   "outputs": [
    {
     "name": "stdout",
     "output_type": "stream",
     "text": [
      "0.7343046357615894\n"
     ]
    }
   ],
   "source": [
    "ard = ard(2, do2, do3, do10)\n",
    "print(ard)"
   ]
  },
  {
   "cell_type": "code",
   "execution_count": 15,
   "id": "7b6a522d-2420-40ec-aab8-6b0cdda66ad3",
   "metadata": {
    "tags": []
   },
   "outputs": [],
   "source": [
    "# de aqui abajo codigo italiano\n",
    "import numpy as np \n",
    "import pandas as pd"
   ]
  },
  {
   "cell_type": "code",
   "execution_count": 16,
   "id": "96b71936-5298-445d-a782-028a1525abd0",
   "metadata": {
    "tags": []
   },
   "outputs": [],
   "source": [
    "data = [[0,725,800,150,1000,525,600,500,400,850],\n",
    "[725,0,75,575,275,1250,1325,226,325,125],\n",
    "[800,75,0,650,200,1325,1400,300,400,51],\n",
    "[150,575,650,0,850,675,750,350,250,700],\n",
    "[1000,275,200,850,0,1525,1600,500,600,150],\n",
    "[525,1250,1325,675,1525,0,75,1025,925,1375],\n",
    "[600,1325,1400,750,1600,75,0,1100,1000,1450],\n",
    "[500,226,300,350,500,1025,1100,0,100,350],\n",
    "[400,325,400,250,600,925,1000,100,0,450],\n",
    "[850,125,51,700,150,1375,1450,350,450,0]]\n",
    "\n",
    "# control+d para seleccionar todos los espacios y poner comas "
   ]
  },
  {
   "cell_type": "code",
   "execution_count": 13,
   "id": "9ec1cf0f-2d8c-40bc-9bae-d4d35cb74907",
   "metadata": {},
   "outputs": [],
   "source": [
    "def ARD(df, obs, K):\n",
    "    \"\"\"\n",
    "    Calculates average relative density\n",
    "    ----------------------\n",
    "    parameters:\n",
    "    ----------------------\n",
    "    df = symmetric matrix with distances\n",
    "    obs = the observation to calculate ARD for  (0 index)\n",
    "    K = the number of nearest neighbors to consider\n",
    "    \"\"\"\n",
    "\n",
    "    O = df.loc[obs, :].values\n",
    "    dist_sort = np.argsort(O)\n",
    "    k_nearest_ind = dist_sort[1 : K + 1]\n",
    "\n",
    "    densO = 1 / (1 / K * np.sum(O[k_nearest_ind]))\n",
    "\n",
    "    densOn = []\n",
    "\n",
    "    for n in k_nearest_ind:\n",
    "        On = df.loc[n, :].values\n",
    "        dist_sort_n = np.argsort(On)\n",
    "        k_nearest_ind_n = dist_sort_n[1 : K + 1]\n",
    "        densOn.append(1 / (1 / K * np.sum(On[k_nearest_ind_n])))\n",
    "\n",
    "    ARD = densO / (1 / K * np.sum(densOn))\n",
    "\n",
    "    print(\"The density for observation O{} is {}\".format(obs + 1, densO))\n",
    "    print(\n",
    "        \"The average relative density for observation O{} is {}\".format(\n",
    "            obs + 1, ARD\n",
    "        )\n",
    "    )\n",
    "\n",
    "    return ARD"
   ]
  },
  {
   "cell_type": "code",
   "execution_count": 17,
   "id": "6fb2d189-177b-4f1b-9e7c-560442e3ae3a",
   "metadata": {
    "tags": []
   },
   "outputs": [
    {
     "name": "stdout",
     "output_type": "stream",
     "text": [
      "The density for observation O2 is 0.01\n",
      "The average relative density for observation O2 is 0.7343046357615894\n"
     ]
    },
    {
     "data": {
      "text/plain": [
       "0.7343046357615894"
      ]
     },
     "execution_count": 17,
     "metadata": {},
     "output_type": "execute_result"
    }
   ],
   "source": [
    "df = pd.DataFrame(data)\n",
    "\n",
    "ARD(df,1,2)"
   ]
  }
 ],
 "metadata": {
  "kernelspec": {
   "display_name": "Python 3 (ipykernel)",
   "language": "python",
   "name": "python3"
  },
  "language_info": {
   "codemirror_mode": {
    "name": "ipython",
    "version": 3
   },
   "file_extension": ".py",
   "mimetype": "text/x-python",
   "name": "python",
   "nbconvert_exporter": "python",
   "pygments_lexer": "ipython3",
   "version": "3.11.4"
  }
 },
 "nbformat": 4,
 "nbformat_minor": 5
}
