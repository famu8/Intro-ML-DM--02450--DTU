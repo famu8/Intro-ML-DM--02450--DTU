{
 "cells": [
  {
   "cell_type": "code",
   "execution_count": 6,
   "id": "2208db86-cba0-48d4-aa0f-3726baf22b49",
   "metadata": {
    "tags": []
   },
   "outputs": [
    {
     "data": {
      "text/plain": [
       "'\\nEn caso de duda, ej24 spring 2020\\n'"
      ]
     },
     "execution_count": 6,
     "metadata": {},
     "output_type": "execute_result"
    }
   ],
   "source": [
    "import numpy as np\n",
    "\"\"\"\n",
    "En caso de duda, ej24 spring 2020\n",
    "\"\"\""
   ]
  },
  {
   "cell_type": "code",
   "execution_count": 7,
   "id": "194222f1-7d51-44eb-aff9-72776eaa7891",
   "metadata": {
    "tags": []
   },
   "outputs": [
    {
     "name": "stdout",
     "output_type": "stream",
     "text": [
      "Resultado de la integral de x en el rango [0, 0.2]: 0.012\n"
     ]
    }
   ],
   "source": [
    "from scipy.integrate import quad\n",
    "\n",
    "# Función que queremos integrar (en este caso, x)\n",
    "def integrand(x):\n",
    "    return x * 0.6\n",
    "\n",
    "# Límites de integración\n",
    "a = 0\n",
    "b = 0.2\n",
    "\n",
    "# Calcular la integral\n",
    "result1, error = quad(integrand, a, b)\n",
    "\n",
    "# Imprimir el resultado\n",
    "print(f\"Resultado de la integral de x en el rango [{a}, {b}]: {result1}\")\n"
   ]
  },
  {
   "cell_type": "code",
   "execution_count": 8,
   "id": "5a2ceeb1-9b92-4a4b-884c-dc72a28eda82",
   "metadata": {
    "tags": []
   },
   "outputs": [
    {
     "name": "stdout",
     "output_type": "stream",
     "text": [
      "Resultado de la integral de x en el rango [0.2, 0.6]: 0.16000000000000003\n"
     ]
    }
   ],
   "source": [
    "from scipy.integrate import quad\n",
    "\n",
    "# Función que queremos integrar (en este caso, x)\n",
    "def integrand(x):\n",
    "    return x * 1\n",
    "\n",
    "# Límites de integración\n",
    "a = 0.2\n",
    "b = 0.6\n",
    "\n",
    "# Calcular la integral\n",
    "result2, error = quad(integrand, a, b)\n",
    "\n",
    "# Imprimir el resultado\n",
    "print(f\"Resultado de la integral de x en el rango [{a}, {b}]: {result2}\")\n"
   ]
  },
  {
   "cell_type": "code",
   "execution_count": 9,
   "id": "2b8b3127-7559-44f8-8ce3-7fede5a09931",
   "metadata": {
    "tags": []
   },
   "outputs": [
    {
     "name": "stdout",
     "output_type": "stream",
     "text": [
      "Resultado de la integral de x en el rango [0.6, 0.9]: 0.3600000000000001\n"
     ]
    }
   ],
   "source": [
    "def integrand(x):\n",
    "    return x * 1.6\n",
    "\n",
    "# Límites de integración\n",
    "a = 0.6\n",
    "b = 0.9\n",
    "\n",
    "# Calcular la integral\n",
    "result3, error = quad(integrand, a, b)\n",
    "\n",
    "# Imprimir el resultado\n",
    "print(f\"Resultado de la integral de x en el rango [{a}, {b}]: {result3}\")\n"
   ]
  },
  {
   "cell_type": "code",
   "execution_count": 10,
   "id": "7bfb3d1f-e6a3-4951-a6c9-c2ce38013937",
   "metadata": {},
   "outputs": [
    {
     "name": "stdout",
     "output_type": "stream",
     "text": [
      "0.5320000000000001\n"
     ]
    }
   ],
   "source": [
    "print(result1+result2+result3)"
   ]
  },
  {
   "cell_type": "code",
   "execution_count": null,
   "id": "9aa01682-6406-4557-b9fe-5ec14702c1d3",
   "metadata": {},
   "outputs": [],
   "source": []
  }
 ],
 "metadata": {
  "kernelspec": {
   "display_name": "Python 3 (ipykernel)",
   "language": "python",
   "name": "python3"
  },
  "language_info": {
   "codemirror_mode": {
    "name": "ipython",
    "version": 3
   },
   "file_extension": ".py",
   "mimetype": "text/x-python",
   "name": "python",
   "nbconvert_exporter": "python",
   "pygments_lexer": "ipython3",
   "version": "3.11.4"
  }
 },
 "nbformat": 4,
 "nbformat_minor": 5
}
