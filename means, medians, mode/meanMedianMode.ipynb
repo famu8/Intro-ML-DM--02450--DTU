{
 "cells": [
  {
   "cell_type": "code",
   "execution_count": 3,
   "id": "caf00e06-ee95-456d-b76f-14249300e6b1",
   "metadata": {
    "tags": []
   },
   "outputs": [
    {
     "data": {
      "text/plain": [
       "7.0"
      ]
     },
     "execution_count": 3,
     "metadata": {},
     "output_type": "execute_result"
    }
   ],
   "source": [
    "import numpy as np\n",
    "from scipy import stats as st\n",
    "\n",
    "x = np.array([0, 1 ,1, 1, 2, 3, 4, 4, 5, 14])\n",
    "\n",
    "mean = np.mean(x)\n",
    "mode,_ = st.mode(x)\n",
    "med = np.median(x)\n",
    "mean + mode + med"
   ]
  },
  {
   "cell_type": "code",
   "execution_count": null,
   "id": "50c30675-89db-4ba4-bb65-9f0747042c4c",
   "metadata": {},
   "outputs": [],
   "source": []
  }
 ],
 "metadata": {
  "kernelspec": {
   "display_name": "Python 3 (ipykernel)",
   "language": "python",
   "name": "python3"
  },
  "language_info": {
   "codemirror_mode": {
    "name": "ipython",
    "version": 3
   },
   "file_extension": ".py",
   "mimetype": "text/x-python",
   "name": "python",
   "nbconvert_exporter": "python",
   "pygments_lexer": "ipython3",
   "version": "3.11.4"
  }
 },
 "nbformat": 4,
 "nbformat_minor": 5
}
