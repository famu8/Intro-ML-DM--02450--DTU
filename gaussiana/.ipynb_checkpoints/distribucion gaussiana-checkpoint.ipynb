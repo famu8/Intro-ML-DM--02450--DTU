{
 "cells": [
  {
   "cell_type": "code",
   "execution_count": null,
   "id": "716f8400-ef43-4e2d-9868-2ab3c1da7384",
   "metadata": {},
   "outputs": [],
   "source": [
    "import math\n",
    "\n",
    "def distribucion_gaussiana(x, media, std):\n",
    "    \"\"\"\n",
    "    Calcula la función de densidad de probabilidad (PDF) de una distribución gaussiana.\n",
    "\n",
    "    Parameters:\n",
    "    - x: Valor en el que se evalúa la distribución.\n",
    "    - media: Media de la distribución.\n",
    "    - std: Desviación estándar de la distribución.\n",
    "\n",
    "    Returns:\n",
    "    - El valor de la función de densidad de probabilidad en el punto dado.\n",
    "    \"\"\"\n",
    "    exponente = -0.5 * ((x - media) / std) ** 2\n",
    "#     OJO AQUI ABAJO CON LA STD !!!!!!!!!!!!!!!!! CAMBIAR SI HACE FALTA (MIRAR APUNTES LIBRETA)\n",
    "    coeficiente = 1 / (math.sqrt(std) * math.sqrt(2 * math.pi))\n",
    "    pdf = coeficiente * math.exp(exponente)\n",
    "    return pdf\n",
    "\n",
    "# Ejemplo de uso:\n",
    "media = 32.4\n",
    "std = 400\n",
    "x_valor = 32\n",
    "\n",
    "resultado = distribucion_gaussiana(x_valor, media, std)\n",
    "print(f'El valor de la distribución gaussiana en x={x_valor} es: {resultado}')\n"
   ]
  }
 ],
 "metadata": {
  "kernelspec": {
   "display_name": "Python 3 (ipykernel)",
   "language": "python",
   "name": "python3"
  },
  "language_info": {
   "codemirror_mode": {
    "name": "ipython",
    "version": 3
   },
   "file_extension": ".py",
   "mimetype": "text/x-python",
   "name": "python",
   "nbconvert_exporter": "python",
   "pygments_lexer": "ipython3",
   "version": "3.11.4"
  }
 },
 "nbformat": 4,
 "nbformat_minor": 5
}
