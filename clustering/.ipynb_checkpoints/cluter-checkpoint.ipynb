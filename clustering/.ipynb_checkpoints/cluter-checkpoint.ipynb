{
 "cells": [
  {
   "cell_type": "code",
   "execution_count": 1,
   "id": "9c33c5de-416b-4902-b5d3-3a8c865c7458",
   "metadata": {
    "tags": []
   },
   "outputs": [
    {
     "data": {
      "text/plain": [
       "'\\nEn este caos te van a pedri minimun o maximun, si te piden maximun miras las distancia mas peuqeña\\ny si te piden minimu miras la distancia mas grande \\n\\nLo que tienes que hacer es ir calculado las distancias y fijandote en el dendograma \\n'"
      ]
     },
     "execution_count": 1,
     "metadata": {},
     "output_type": "execute_result"
    }
   ],
   "source": [
    "\"\"\"\n",
    "En este caos te van a pedri minimun o maximun, si te piden maximun miras las distancia mas peuqeña\n",
    "y si te piden minimu miras la distancia mas grande \n",
    "\n",
    "Lo que tienes que hacer es ir calculado las distancias y fijandote en el dendograma \n",
    "\"\"\""
   ]
  },
  {
   "cell_type": "code",
   "execution_count": null,
   "id": "ea81a693-fe35-45fa-b11e-2ceecf53e05c",
   "metadata": {},
   "outputs": [],
   "source": []
  }
 ],
 "metadata": {
  "kernelspec": {
   "display_name": "Python 3 (ipykernel)",
   "language": "python",
   "name": "python3"
  },
  "language_info": {
   "codemirror_mode": {
    "name": "ipython",
    "version": 3
   },
   "file_extension": ".py",
   "mimetype": "text/x-python",
   "name": "python",
   "nbconvert_exporter": "python",
   "pygments_lexer": "ipython3",
   "version": "3.11.4"
  }
 },
 "nbformat": 4,
 "nbformat_minor": 5
}
