{
 "cells": [
  {
   "cell_type": "code",
   "execution_count": 1,
   "id": "17e549f4-208a-430c-bb2b-1899310d8aec",
   "metadata": {
    "tags": []
   },
   "outputs": [],
   "source": [
    "import numpy as np "
   ]
  },
  {
   "cell_type": "code",
   "execution_count": 9,
   "id": "58b0ee0c-5dcf-4345-b85d-675513d6c202",
   "metadata": {
    "tags": []
   },
   "outputs": [],
   "source": [
    "# te van a dar dos variables, normalmente una binaria y una con 3 o mas categorias \n",
    "# empieza leyendo los datos lentamente\n",
    "# en este caso y es prediccion de 3 categorias Y=1 low demand, y=2 medium, y=3 high\n",
    "# y la x=0 baja humedad, x=1 alta humedad\n",
    "def bayesmasdedos(N, y1, y2, y3, x0y1, x0y2, x0y3):\n",
    "    # N total de muestras en el experimento\n",
    "    n = N \n",
    "    \n",
    "    # el numero de muestras de cada clase \n",
    "    y_1 = y1\n",
    "    y_2 = y2\n",
    "    y_3 = y3\n",
    "\n",
    "    # calcula las probabilidades de cada y, es decir, n_muestras_esa_y / N\n",
    "    p_y_1 = y_1/n\n",
    "    p_y_2 = y_2/n\n",
    "    p_y_3 = y_3/n\n",
    "\n",
    "    # en el enunciado te dan lo tipico de: dado y_1 entonces x0 ...\n",
    "    p_x0_y1 = x0y1 / y_1\n",
    "    p_x0_y2 = x0y2 / y_2\n",
    "    p_x0_y3 = x0y3 / y_3\n",
    "\n",
    "    # calcula lo contrario a lo de arriba para hacer Bayes\n",
    "    p_x1_y1 = 1 - p_x0_y1\n",
    "    p_x1_y2 = 1 - p_x0_y2\n",
    "    p_x1_y3 = 1 - p_x0_y3\n",
    "\n",
    "    # haz la regla de bayes para casos no binarios. es sumatorio abajo de todos los casos (si hay 4 clases añadir un termino mas)\n",
    "    result = (p_x1_y3 * p_y_3) / ((p_x1_y1*p_y_1) + (p_x1_y2*p_y_2) + (p_x1_y3*p_y_3))\n",
    "    return result"
   ]
  },
  {
   "cell_type": "code",
   "execution_count": 10,
   "id": "e9985a44-6595-44d5-9a03-20ddb5b07bf5",
   "metadata": {
    "tags": []
   },
   "outputs": [
    {
     "name": "stdout",
     "output_type": "stream",
     "text": [
      "El resultado es: 0.279146\n"
     ]
    }
   ],
   "source": [
    "result = bayesmasdedos(8760, 3285, 2190, 3285, 1327, 1718, 2344)\n",
    "print(f\"El resultado es: {result:4f}\")"
   ]
  },
  {
   "cell_type": "code",
   "execution_count": null,
   "id": "2c35299d-e4b7-42ae-bb05-c5bc5a4e8911",
   "metadata": {},
   "outputs": [],
   "source": []
  }
 ],
 "metadata": {
  "kernelspec": {
   "display_name": "Python 3 (ipykernel)",
   "language": "python",
   "name": "python3"
  },
  "language_info": {
   "codemirror_mode": {
    "name": "ipython",
    "version": 3
   },
   "file_extension": ".py",
   "mimetype": "text/x-python",
   "name": "python",
   "nbconvert_exporter": "python",
   "pygments_lexer": "ipython3",
   "version": "3.11.4"
  }
 },
 "nbformat": 4,
 "nbformat_minor": 5
}
