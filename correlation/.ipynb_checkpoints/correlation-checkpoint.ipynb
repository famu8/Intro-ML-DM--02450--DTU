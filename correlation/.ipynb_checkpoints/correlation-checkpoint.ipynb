{
 "cells": [
  {
   "cell_type": "code",
   "execution_count": 3,
   "id": "4c3c462a-d6c6-4d01-ae37-1278fbb8912d",
   "metadata": {
    "tags": []
   },
   "outputs": [
    {
     "name": "stdout",
     "output_type": "stream",
     "text": [
      "La correalcion es:  -0.6466323014923809\n"
     ]
    }
   ],
   "source": [
    "import numpy as np\n",
    "varianza1=2\n",
    "varianza2=1.5\n",
    "covarianza=-1.12\n",
    "\n",
    "# la formula hace uso de la desviacion estandar que es la raiz cuadrad de la varianza\n",
    "# la varianza es theta_hat y la desviacion estandar es solos theta\n",
    "\n",
    "correlation = covarianza / np.sqrt(varianza1*varianza2)\n",
    "print('La correalcion es: ', correlation)"
   ]
  },
  {
   "cell_type": "code",
   "execution_count": 24,
   "id": "56784def-2692-46df-adcd-9cf34f084612",
   "metadata": {},
   "outputs": [
    {
     "name": "stdout",
     "output_type": "stream",
     "text": [
      "Distancia de norma 1: 1.9000000000000004\n"
     ]
    }
   ],
   "source": [
    "import numpy as np\n",
    "\n",
    "# Definir dos vectores columna\n",
    "v1 = np.array([[2.7], [2.8]])\n",
    "v2 = np.array([[2], [4]])\n",
    "\n",
    "# Calcular la distancia de norma 1\n",
    "distance = np.sum(np.abs(v1 - v2))\n",
    "\n",
    "# Imprimir el resultado\n",
    "print(\"Distancia de norma 1:\", distance)\n"
   ]
  },
  {
   "cell_type": "code",
   "execution_count": 25,
   "id": "642b1927-6d73-46b0-a2f1-8ebf559d3e83",
   "metadata": {
    "tags": []
   },
   "outputs": [
    {
     "name": "stdout",
     "output_type": "stream",
     "text": [
      "Distancia de norma 2: 4.32781700167648\n"
     ]
    }
   ],
   "source": [
    "import numpy as np\n",
    "\n",
    "# Definir dos vectores columna\n",
    "v1 = np.array([[2.7], [2.8]])\n",
    "v2 = np.array([[6], [0]])\n",
    "\n",
    "# Calcular la distancia de norma 2\n",
    "distance = np.linalg.norm(v1 - v2)\n",
    "\n",
    "# Imprimir el resultado\n",
    "print(\"Distancia de norma 2:\", distance)\n"
   ]
  },
  {
   "cell_type": "code",
   "execution_count": null,
   "id": "4898a6ee-15b3-4878-a3f2-cca95a200cc8",
   "metadata": {},
   "outputs": [],
   "source": []
  },
  {
   "cell_type": "code",
   "execution_count": null,
   "id": "aba2128a-9416-4d89-891c-5991237b727f",
   "metadata": {},
   "outputs": [],
   "source": []
  },
  {
   "cell_type": "code",
   "execution_count": null,
   "id": "c741682b-e934-4acd-ad1f-4493ff1209eb",
   "metadata": {},
   "outputs": [],
   "source": []
  },
  {
   "cell_type": "code",
   "execution_count": null,
   "id": "17bd48a3-1fa3-4427-9ffa-a138092d6f0f",
   "metadata": {},
   "outputs": [],
   "source": []
  },
  {
   "cell_type": "code",
   "execution_count": null,
   "id": "b468ebe0-17cb-45e2-b248-d685cfd5152b",
   "metadata": {},
   "outputs": [],
   "source": []
  }
 ],
 "metadata": {
  "kernelspec": {
   "display_name": "Python 3 (ipykernel)",
   "language": "python",
   "name": "python3"
  },
  "language_info": {
   "codemirror_mode": {
    "name": "ipython",
    "version": 3
   },
   "file_extension": ".py",
   "mimetype": "text/x-python",
   "name": "python",
   "nbconvert_exporter": "python",
   "pygments_lexer": "ipython3",
   "version": "3.11.4"
  }
 },
 "nbformat": 4,
 "nbformat_minor": 5
}
