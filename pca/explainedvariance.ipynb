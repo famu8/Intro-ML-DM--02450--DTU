{
 "cells": [
  {
   "cell_type": "code",
   "execution_count": 10,
   "id": "5ba5c62f-7a8f-4752-8cd7-4e39248f7d0f",
   "metadata": {
    "tags": []
   },
   "outputs": [
    {
     "name": "stdout",
     "output_type": "stream",
     "text": [
      "La varianza explicada es: 100.00000000 %\n"
     ]
    }
   ],
   "source": [
    "# explanide var: \n",
    "# sigma_k^2/sum(sigma_j)^2\n",
    "# ||x'||2f / ||Xñ||2f\n",
    "\n",
    "import numpy as np\n",
    "\n",
    "def explained_variance_ratio(components1, components2):\n",
    "    explained_variance = np.sum(components1**2) / np.sum(components2**2)\n",
    "    \n",
    "    #te puede dar ya un numero (comp2) y necesitas meter lo otro\n",
    "    #explained_variance = explained_variance = np.sum(components1**2) / components2\n",
    "    return explained_variance\n",
    "\n",
    "#mete en array1 los valores que quieres calucalr de la matriz S (la que tiene los valores de los PC)\n",
    "#y en la otra matriz metes todos los valores\n",
    "\n",
    "array1 = np.array([13.5, 7.6, 6.5, 5.8, 3.5, 2])\n",
    "array2 = np.array([3.7, 3.04, 0.56])\n",
    "\n",
    "out = explained_variance_ratio(array1, array2)\n",
    "print(f\"La varianza explicada es: {out*100:.8f} %\")"
   ]
  },
  {
   "cell_type": "code",
   "execution_count": 9,
   "id": "86771534-6b4e-49a2-b157-a7f6f1e0bcc9",
   "metadata": {
    "tags": []
   },
   "outputs": [
    {
     "data": {
      "text/plain": [
       "0.8497967785639019"
      ]
     },
     "execution_count": 9,
     "metadata": {},
     "output_type": "execute_result"
    }
   ],
   "source": [
    "x = [13.5, 7.6, 6.5, 5.8, 3.5, 2]\n",
    "sgv = np.array(x) # Autovalores en la lista\n",
    "n_comp = 3\n",
    "np.sum(sgv[:n_comp]**2) / np.sum(sgv**2)"
   ]
  },
  {
   "cell_type": "code",
   "execution_count": 9,
   "id": "87ef6652-61bc-4bf4-a420-974219e88de8",
   "metadata": {},
   "outputs": [
    {
     "data": {
      "text/plain": [
       "-1433.872"
      ]
     },
     "execution_count": 9,
     "metadata": {},
     "output_type": "execute_result"
    }
   ],
   "source": [
    "v1 = np.array([0.37, -0.05, -0.54, -0.53, -0.54])\n",
    "v2 = np.array([15.7, 28405.5, 18.5, 8.8, 8.8])\n",
    "\n",
    "out = np.dot(v1,v2.T)\n",
    "out"
   ]
  },
  {
   "cell_type": "markdown",
   "id": "a0e853c9-bdc6-41e0-8fd5-1d33d9d15cfc",
   "metadata": {},
   "source": [
    "coordenadas"
   ]
  },
  {
   "cell_type": "code",
   "execution_count": 6,
   "id": "a69f31b1-0084-46c6-a0ca-5c0c8462ba76",
   "metadata": {},
   "outputs": [
    {
     "name": "stdout",
     "output_type": "stream",
     "text": [
      "-0.0799999999999999\n",
      "1.3299999999999998\n",
      "0.56\n",
      "1.3699999999999999\n"
     ]
    }
   ],
   "source": [
    "x = np.array([-1, -1, -1, 1])\n",
    "pc1 = np.array([0.45, -0.4, 0.58, 0.55])\n",
    "pc2 = np.array([-0.6, -0.8, -0.01, -0.08])\n",
    "pc3 = np.array([-0.64, 0.43, 0.24, 0.59])\n",
    "pc4 = np.array([0.15, -0.16, -0.78, 0.58])\n",
    "\n",
    "\n",
    "cord1 = np.dot(x.T,pc1)\n",
    "print(cord1)\n",
    "\n",
    "cord2 = np.dot(x.T,pc2)\n",
    "print(cord2)\n",
    "\n",
    "cord3 = np.dot(x.T,pc3)\n",
    "print(cord3)\n",
    "\n",
    "cord4 = np.dot(x.T,pc4)\n",
    "print(cord4)"
   ]
  },
  {
   "cell_type": "code",
   "execution_count": null,
   "id": "90aa332d-f410-465c-a8f4-f9c2df31dd7c",
   "metadata": {},
   "outputs": [],
   "source": []
  }
 ],
 "metadata": {
  "kernelspec": {
   "display_name": "Python 3 (ipykernel)",
   "language": "python",
   "name": "python3"
  },
  "language_info": {
   "codemirror_mode": {
    "name": "ipython",
    "version": 3
   },
   "file_extension": ".py",
   "mimetype": "text/x-python",
   "name": "python",
   "nbconvert_exporter": "python",
   "pygments_lexer": "ipython3",
   "version": "3.11.4"
  }
 },
 "nbformat": 4,
 "nbformat_minor": 5
}
