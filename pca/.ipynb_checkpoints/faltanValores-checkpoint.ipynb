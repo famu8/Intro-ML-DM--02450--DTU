{
 "cells": [
  {
   "cell_type": "code",
   "execution_count": 1,
   "id": "1d91c089-94fe-451c-92c7-4a04ab1177a4",
   "metadata": {
    "tags": []
   },
   "outputs": [],
   "source": [
    "import numpy as np"
   ]
  },
  {
   "cell_type": "markdown",
   "id": "2bcab482-239d-48ff-a4e1-b9933227cdf8",
   "metadata": {},
   "source": [
    "en este caos te van ad ar una matriz a la que le fatlan valores\n",
    ".\n",
    "\n",
    "si multiplicas un vector de pca pr otro te debe de dar 0.\n",
    "\n",
    "simplemente mete los valores que te ofrecen y el que te de 0 sirve"
   ]
  },
  {
   "cell_type": "markdown",
   "id": "0835f097-c77a-4bb6-bf16-277bc1145f8b",
   "metadata": {},
   "source": [
    "para sacar el valor de sigma2,2 \n",
    "\n",
    "como te dan ||Xñ||2f, simplemnte haz \n",
    "np.sum (sigma**2) == (tiene q ser igual) a ||Xñ||2f"
   ]
  },
  {
   "cell_type": "code",
   "execution_count": 2,
   "id": "e032aaac-67c9-4fa8-bb18-f038f0208934",
   "metadata": {
    "tags": []
   },
   "outputs": [],
   "source": [
    "v1 = np.array([-0.5939, -0.6521, 0.2028, -0.3696, -0.2102])\n",
    "v2 = np.array([0.6652, -0.6508, 0.0010, -0.1173, 0.3467])\n",
    "\n",
    "out = np.dot(v1.T,v2)"
   ]
  },
  {
   "cell_type": "code",
   "execution_count": null,
   "id": "69585865-6d9c-47ca-92f6-972e0fbd10ca",
   "metadata": {},
   "outputs": [],
   "source": []
  }
 ],
 "metadata": {
  "kernelspec": {
   "display_name": "Python 3 (ipykernel)",
   "language": "python",
   "name": "python3"
  },
  "language_info": {
   "codemirror_mode": {
    "name": "ipython",
    "version": 3
   },
   "file_extension": ".py",
   "mimetype": "text/x-python",
   "name": "python",
   "nbconvert_exporter": "python",
   "pygments_lexer": "ipython3",
   "version": "3.11.4"
  }
 },
 "nbformat": 4,
 "nbformat_minor": 5
}
