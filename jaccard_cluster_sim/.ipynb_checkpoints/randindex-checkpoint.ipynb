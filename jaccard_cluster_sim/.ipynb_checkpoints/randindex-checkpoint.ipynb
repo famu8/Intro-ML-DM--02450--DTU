{
 "cells": [
  {
   "cell_type": "code",
   "execution_count": 3,
   "id": "00f82071-656e-47ee-b6f2-e23318520165",
   "metadata": {
    "tags": []
   },
   "outputs": [
    {
     "data": {
      "text/plain": [
       "0.4444444444444444"
      ]
     },
     "execution_count": 3,
     "metadata": {},
     "output_type": "execute_result"
    }
   ],
   "source": [
    "import numpy as np\n",
    "from scipy.special import comb\n",
    "\n",
    "#define Rand index function\n",
    "def rand_index(actual, pred):\n",
    "\n",
    "    tp_plus_fp = comb(np.bincount(actual), 2).sum()\n",
    "    tp_plus_fn = comb(np.bincount(pred), 2).sum()\n",
    "    A = np.c_[(actual, pred)]\n",
    "    tp = sum(comb(np.bincount(A[A[:, 0] == i, 1]), 2).sum()\n",
    "             for i in set(actual))\n",
    "    fp = tp_plus_fp - tp\n",
    "    fn = tp_plus_fn - tp\n",
    "    tn = comb(len(A), 2) - tp - fp - fn\n",
    "    return (tp + tn) / (tp + fp + fn + tn)\n",
    "\n",
    "#calculate Rand index\n",
    "rand_index([0,0,0,0,1,1,1,1,1,1], [0,0,0,0,1,0,0,0,0,2])"
   ]
  }
 ],
 "metadata": {
  "kernelspec": {
   "display_name": "Python 3 (ipykernel)",
   "language": "python",
   "name": "python3"
  },
  "language_info": {
   "codemirror_mode": {
    "name": "ipython",
    "version": 3
   },
   "file_extension": ".py",
   "mimetype": "text/x-python",
   "name": "python",
   "nbconvert_exporter": "python",
   "pygments_lexer": "ipython3",
   "version": "3.11.4"
  }
 },
 "nbformat": 4,
 "nbformat_minor": 5
}
