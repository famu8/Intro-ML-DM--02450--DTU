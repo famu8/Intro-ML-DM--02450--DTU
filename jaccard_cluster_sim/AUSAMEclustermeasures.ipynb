{
 "cells": [
  {
   "cell_type": "code",
   "execution_count": 1,
   "id": "7e00d5e5-79ea-4f79-83b2-67543bc316b7",
   "metadata": {
    "tags": []
   },
   "outputs": [],
   "source": [
    "# import toolbox_extended as te\n",
    "# import toolbox_02450 as tb\n",
    "# Someuseful modules for everyone\n",
    "import numpy as np\n",
    "import scipy as sc\n",
    "import sklearn\n",
    "import pandas as pd\n",
    "import matplotlib.pyplot as plt\n",
    "\n",
    "import sklearn.metrics.cluster as cluster_metrics\n",
    "import numpy as np\n",
    "import matplotlib.pyplot as plt\n",
    "from sklearn import model_selection, linear_model\n",
    "from matplotlib.pyplot import contourf\n",
    "from matplotlib import cm\n",
    "\n",
    "# import toolbox_extended as te  # pip install --ignore-installed ml02450\n",
    "# import toolbox_02450 as tb\n",
    "import numpy as np\n",
    "import pandas as pd\n",
    "import matplotlib.pyplot as plt\n",
    "import math\n",
    "import itertools\n",
    "import re\n",
    "from scipy.cluster.hierarchy import linkage, dendrogram, fcluster\n",
    "from scipy.spatial.distance import squareform\n",
    "from sklearn.preprocessing import label_binarize\n",
    "# from apyori import apriori\n",
    "from sklearn.cluster import KMeans\n",
    "import sklearn.metrics as metrics\n"
   ]
  },
  {
   "cell_type": "code",
   "execution_count": 2,
   "id": "81706757-1f60-4327-950e-35377543174f",
   "metadata": {
    "tags": []
   },
   "outputs": [
    {
     "name": "stdout",
     "output_type": "stream",
     "text": [
      "Entropy: 0.6000\n",
      "Purity: 0.8333\n",
      "Rand Index: 0.4444\n",
      "Jaccard Coefficient: 0.3243\n",
      "Normalized Mutual Information: 0.1806\n"
     ]
    }
   ],
   "source": [
    "import sklearn.metrics.cluster as cluster_metrics\n",
    "\n",
    "def clusterval(y, clusterid):\n",
    "    '''\n",
    "    CLUSTERVAL Estimate cluster validity using Entropy, Purity, Rand Statistic,\n",
    "    and Jaccard coefficient.\n",
    "    \n",
    "    Usage:\n",
    "      Entropy, Purity, Rand, Jaccard = clusterval(y, clusterid);\n",
    "    \n",
    "    Input:\n",
    "       y         N-by-1 vector of class labels \n",
    "       clusterid N-by-1 vector of cluster indices\n",
    "    \n",
    "    Output:\n",
    "      Entropy    Entropy measure.\n",
    "      Purity     Purity measure.\n",
    "      Rand       Rand index.\n",
    "      Jaccard    Jaccard coefficient.\n",
    "    '''\n",
    "    NMI = cluster_metrics.normalized_mutual_info_score(y,clusterid)\n",
    "    \n",
    "    #y = np.asarray(y).ravel(); clusterid = np.asarray(clusterid).ravel()\n",
    "    C = np.unique(y).size; K = np.unique(clusterid).size; N = y.shape[0]\n",
    "    EPS = 2.22e-16\n",
    "    \n",
    "    p_ij = np.zeros((K,C))          # probability that member of i'th cluster belongs to j'th class\n",
    "    m_i = np.zeros((K,1))           # total number of objects in i'th cluster\n",
    "    for k in range(K):\n",
    "        m_i[k] = (clusterid==k).sum()\n",
    "        yk = y[clusterid==k]\n",
    "        for c in range(C):\n",
    "            m_ij = (yk==c).sum()    # number of objects of j'th class in i'th cluster\n",
    "            p_ij[k,c] = m_ij.astype(float)/m_i[k]\n",
    "    entropy = ( (1-(p_ij*np.log2(p_ij+EPS)).sum(axis=1))*m_i.T ).sum() / (N*K) \n",
    "    purity = ( p_ij.max(axis=1) ).sum() / K\n",
    "\n",
    "    f00=0; f01=0; f10=0; f11=0\n",
    "    for i in range(N):\n",
    "        for j in range(i):\n",
    "            if y[i]!=y[j] and clusterid[i]!=clusterid[j]: f00 += 1;     # different class, different cluster    \n",
    "            elif y[i]==y[j] and clusterid[i]==clusterid[j]: f11 += 1;   # same class, same cluster\n",
    "            elif y[i]==y[j] and clusterid[i]!=clusterid[j]: f10 += 1;   # same class, different cluster    \n",
    "            else: f01 +=1;                                              # different class, same cluster\n",
    "    rand = np.float64(f00+f11)/(f00+f01+f10+f11)\n",
    "    jaccard = np.float64(f11)/(f01+f10+f11)\n",
    "\n",
    "    return entropy,purity,rand, jaccard, NMI\n",
    "\n",
    "# For each of them you write o1, o2, o3, o4, o5....\n",
    "y_true = np.array([0,0,0,0,1,1,1,1,1,1])\n",
    "cluster_indices = np.array([0,0,0,0,1,0,0,0,0,2])\n",
    "\n",
    "\n",
    "# Calculate cluster validity measures\n",
    "entropy, purity, rand, jaccard, nmi = clusterval(y_true, cluster_indices)\n",
    "\n",
    "# Print the results\n",
    "print(f\"Entropy: {entropy:.4f}\")\n",
    "print(f\"Purity: {purity:.4f}\")\n",
    "print(f\"Rand Index: {rand:.4f}\")\n",
    "print(f\"Jaccard Coefficient: {jaccard:.4f}\")\n",
    "print(f\"Normalized Mutual Information: {nmi:.4f}\")"
   ]
  },
  {
   "cell_type": "code",
   "execution_count": null,
   "id": "95200491-7750-4529-b21b-80cdf6b547fa",
   "metadata": {},
   "outputs": [],
   "source": []
  }
 ],
 "metadata": {
  "kernelspec": {
   "display_name": "Python 3 (ipykernel)",
   "language": "python",
   "name": "python3"
  },
  "language_info": {
   "codemirror_mode": {
    "name": "ipython",
    "version": 3
   },
   "file_extension": ".py",
   "mimetype": "text/x-python",
   "name": "python",
   "nbconvert_exporter": "python",
   "pygments_lexer": "ipython3",
   "version": "3.11.4"
  }
 },
 "nbformat": 4,
 "nbformat_minor": 5
}
