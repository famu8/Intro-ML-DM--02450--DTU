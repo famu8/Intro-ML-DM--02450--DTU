{
 "cells": [
  {
   "cell_type": "code",
   "execution_count": null,
   "id": "f4f20159-fd48-46e9-890e-73b24eec920d",
   "metadata": {},
   "outputs": [],
   "source": [
    "import numpy as np\n",
    "import pandas as pd\n",
    "from scipy.spatial import distance\n",
    "from scipy import stats\n",
    "import matplotlib.pyplot as plt\n",
    "from scipy.stats import zscore"
   ]
  },
  {
   "cell_type": "code",
   "execution_count": null,
   "id": "8d335d8d-4af2-44d3-bee0-d01565883f14",
   "metadata": {},
   "outputs": [],
   "source": [
    "def vis_kmeans(x, mus):\n",
    "    fig, ax = plt.subplots(figsize = (10,3))\n",
    "    # draw lines\n",
    "    xmin = 0 # np.min(x) - 1/2 * x.std()\n",
    "    xmax = np.max(x) + 1/2 * x.std() \n",
    "    y = 0\n",
    "    height = 1\n",
    "\n",
    "    ax.hlines(y, xmin, xmax)\n",
    "    ax.vlines(xmin, y - height, y + height )\n",
    "    ax.vlines(xmax, y - height, y + height )\n",
    "    ax.set_ylim([-height - 2, height + 2])\n",
    "    # draw a point on the line\n",
    "    difmu = 0\n",
    "    dif = 0\n",
    "    k = 1\n",
    "    for i, px in enumerate(x):\n",
    "        if (i>0) & (np.abs(px - x[i-1]) < 0.2):\n",
    "            k *= -1\n",
    "            dif += 0.27\n",
    "        ax.plot(px, y, 'x', ms = 10, mfc = 'r')\n",
    "        ax.text(px - 0.08, -1.1 + k * dif, px)\n",
    "    for i, mu in enumerate(mus):\n",
    "        if np.abs(mu - mus[i-1]) < 1:\n",
    "            difmu += 0.5\n",
    "        ax.plot(mu, y, 's', ms = 5, mfc = 'r')\n",
    "        ax.text(mu - 0.08, 1.7 - difmu , f'$\\mu_{i}=${mu}')\n"
   ]
  },
  {
   "cell_type": "code",
   "execution_count": null,
   "id": "4fa830b2-419c-4cdc-a23b-e562259ded5b",
   "metadata": {},
   "outputs": [],
   "source": [
    "x =  np.array([0,2,4,5,6,7,14])\n",
    "mus = [1,5,8]\n",
    "vis_kmeans(x, mus)\n"
   ]
  }
 ],
 "metadata": {
  "kernelspec": {
   "display_name": "Python 3 (ipykernel)",
   "language": "python",
   "name": "python3"
  },
  "language_info": {
   "codemirror_mode": {
    "name": "ipython",
    "version": 3
   },
   "file_extension": ".py",
   "mimetype": "text/x-python",
   "name": "python",
   "nbconvert_exporter": "python",
   "pygments_lexer": "ipython3",
   "version": "3.11.4"
  }
 },
 "nbformat": 4,
 "nbformat_minor": 5
}
