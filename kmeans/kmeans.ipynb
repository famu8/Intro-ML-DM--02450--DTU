{
 "cells": [
  {
   "cell_type": "code",
   "execution_count": 1,
   "id": "f4f20159-fd48-46e9-890e-73b24eec920d",
   "metadata": {},
   "outputs": [],
   "source": [
    "import numpy as np\n",
    "import pandas as pd\n",
    "from scipy.spatial import distance\n",
    "from scipy import stats\n",
    "import matplotlib.pyplot as plt\n",
    "from scipy.stats import zscore"
   ]
  },
  {
   "cell_type": "code",
   "execution_count": 2,
   "id": "8d335d8d-4af2-44d3-bee0-d01565883f14",
   "metadata": {},
   "outputs": [],
   "source": [
    "def vis_kmeans(x, mus):\n",
    "    fig, ax = plt.subplots(figsize = (10,3))\n",
    "    # draw lines\n",
    "    xmin = 0 # np.min(x) - 1/2 * x.std()\n",
    "    xmax = np.max(x) + 1/2 * x.std() \n",
    "    y = 0\n",
    "    height = 1\n",
    "\n",
    "    ax.hlines(y, xmin, xmax)\n",
    "    ax.vlines(xmin, y - height, y + height )\n",
    "    ax.vlines(xmax, y - height, y + height )\n",
    "    ax.set_ylim([-height - 2, height + 2])\n",
    "    # draw a point on the line\n",
    "    difmu = 0\n",
    "    dif = 0\n",
    "    k = 1\n",
    "    for i, px in enumerate(x):\n",
    "        if (i>0) & (np.abs(px - x[i-1]) < 0.2):\n",
    "            k *= -1\n",
    "            dif += 0.27\n",
    "        ax.plot(px, y, 'x', ms = 10, mfc = 'r')\n",
    "        ax.text(px - 0.08, -1.1 + k * dif, px)\n",
    "    for i, mu in enumerate(mus):\n",
    "        if np.abs(mu - mus[i-1]) < 1:\n",
    "            difmu += 0.5\n",
    "        ax.plot(mu, y, 's', ms = 5, mfc = 'r')\n",
    "        ax.text(mu - 0.08, 1.7 - difmu , f'$\\mu_{i}=${mu}')\n"
   ]
  },
  {
   "cell_type": "code",
   "execution_count": 3,
   "id": "4fa830b2-419c-4cdc-a23b-e562259ded5b",
   "metadata": {},
   "outputs": [
    {
     "data": {
      "image/png": "[encoded data removed]",
      "text/plain": [
       "<Figure size 1000x300 with 1 Axes>"
      ]
     },
     "metadata": {},
     "output_type": "display_data"
    }
   ],
   "source": [
    "x =  np.array([1, 1.2, 1.5, 2, 2.2, 2.5, 3, 3.2])\n",
    "mus = [1, 1.2, 1.5]\n",
    "vis_kmeans(x, mus)"
   ]
  },
  {
   "cell_type": "code",
   "execution_count": 6,
   "id": "f90d1ed8-4ab2-40b5-9a4a-165522ed8c24",
   "metadata": {
    "tags": []
   },
   "outputs": [],
   "source": [
    "from sklearn.cluster import KMeans\n",
    "\n",
    "def kmeans_1d(x, k, init=None):\n",
    "    \"\"\"\n",
    "    assigns cluster to values in a 1d array\n",
    "    -----------------------------------------\n",
    "    parameters:\n",
    "    -----------\n",
    "    x = list of values to cluster\n",
    "    k = number of clusters\n",
    "    init = values to initialize clusters at\n",
    "    \"\"\"\n",
    "    x = np.array(x).reshape(-1, 1)\n",
    "    if init == None:\n",
    "        kmeans = KMeans(n_clusters=k).fit(x)\n",
    "    else:\n",
    "        init = np.array(init).reshape(-1, 1)\n",
    "        kmeans = KMeans(n_clusters=k, init=init).fit(x)\n",
    "\n",
    "    clusters = kmeans.predict(x)\n",
    "\n",
    "    centers = []\n",
    "\n",
    "    for c in np.unique(clusters):\n",
    "        centers.append(np.mean(x[clusters == c]))\n",
    "\n",
    "    centers = np.round(centers, 4)\n",
    "    print(\"The assigned clusters are: {}\".format(clusters))\n",
    "    print(\n",
    "        \"The cluster centers of the converged k-means algortihm is: {}\".format(\n",
    "            centers\n",
    "        )\n",
    "    )\n",
    "    return None"
   ]
  },
  {
   "cell_type": "code",
   "execution_count": 7,
   "id": "6aa5c4c0-ae2e-44aa-83d3-fbc50a0d17b8",
   "metadata": {
    "tags": []
   },
   "outputs": [
    {
     "name": "stderr",
     "output_type": "stream",
     "text": [
      "C:\\Users\\Usuario\\dtu\\env\\Lib\\site-packages\\sklearn\\cluster\\_kmeans.py:1412: FutureWarning: The default value of `n_init` will change from 10 to 'auto' in 1.4. Set the value of `n_init` explicitly to suppress the warning\n",
      "  super()._check_params_vs_input(X, default_n_init=10)\n",
      "C:\\Users\\Usuario\\dtu\\env\\Lib\\site-packages\\sklearn\\cluster\\_kmeans.py:1412: RuntimeWarning: Explicit initial center position passed: performing only one init in KMeans instead of n_init=10.\n",
      "  super()._check_params_vs_input(X, default_n_init=10)\n"
     ]
    },
    {
     "name": "stdout",
     "output_type": "stream",
     "text": [
      "The assigned clusters are: [0 1 1 2 2 2 2 2]\n",
      "The cluster centers of the converged k-means algortihm is: [1.   1.35 2.58]\n"
     ]
    },
    {
     "name": "stderr",
     "output_type": "stream",
     "text": [
      "C:\\Users\\Usuario\\dtu\\env\\Lib\\site-packages\\sklearn\\cluster\\_kmeans.py:1436: UserWarning: KMeans is known to have a memory leak on Windows with MKL, when there are less chunks than available threads. You can avoid it by setting the environment variable OMP_NUM_THREADS=1.\n",
      "  warnings.warn(\n"
     ]
    }
   ],
   "source": [
    "x = [1, 1.2, 1.5, 2, 2.2, 2.5, 3, 3.2]\n",
    "mus = 3\n",
    "init = [1, 1.2, 1.5]\n",
    "kmeans_1d(x, mus, init)"
   ]
  },
  {
   "cell_type": "code",
   "execution_count": null,
   "id": "31a2d6d2-c6c6-4e4f-a4a3-0f52ac5e786b",
   "metadata": {},
   "outputs": [],
   "source": []
  }
 ],
 "metadata": {
  "kernelspec": {
   "display_name": "Python 3 (ipykernel)",
   "language": "python",
   "name": "python3"
  },
  "language_info": {
   "codemirror_mode": {
    "name": "ipython",
    "version": 3
   },
   "file_extension": ".py",
   "mimetype": "text/x-python",
   "name": "python",
   "nbconvert_exporter": "python",
   "pygments_lexer": "ipython3",
   "version": "3.11.4"
  }
 },
 "nbformat": 4,
 "nbformat_minor": 5
}
