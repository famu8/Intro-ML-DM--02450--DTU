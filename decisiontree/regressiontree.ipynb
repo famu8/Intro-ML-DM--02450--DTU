{
 "cells": [
  {
   "cell_type": "code",
   "execution_count": 1,
   "id": "5627e302-f8bb-421e-8f95-88d9909e1b5c",
   "metadata": {
    "tags": []
   },
   "outputs": [
    {
     "data": {
      "text/plain": [
       "'\\nTe van a decir calcula la impurity de un split. \\n1. Te vas a ese split (ESE es la raiz), obtienes estos valores\\n    - Nvo (numero de muestras en esa raiz)\\n    - y (v) media de ese split (la suma de todo entre N)\\n    - Cada yi (cada valor distinto de y en ese split)\\n    \\n    Calculas la I(vo(raiz))= (1/N(vo)) * sum ((yi-y(v))^2)\\n    \\n2. Te vas a cada uno de los split y computas\\n    - Nv1/Nv2\\n    - y(v1/v2) (media)\\n    - Cada yi\\n    \\n    Calculas la I(v1) = (1/N(v1)) * sum ((yi-y(v1))^2)\\n\\n3. Calculas la formula general: \\n    A = I(vo) - sum ( N(vk)/N * I(vk)  )\\n'"
      ]
     },
     "execution_count": 1,
     "metadata": {},
     "output_type": "execute_result"
    }
   ],
   "source": [
    "\"\"\"\n",
    "Te van a decir calcula la impurity de un split. \n",
    "1. Te vas a ese split (ESE es la raiz), obtienes estos valores\n",
    "    - Nvo (numero de muestras en esa raiz)\n",
    "    - y (v) media de ese split (la suma de todo entre N)\n",
    "    - Cada yi (cada valor distinto de y en ese split)\n",
    "    \n",
    "    Calculas la I(vo(raiz))= (1/N(vo)) * sum ((yi-y(v))^2)\n",
    "    \n",
    "2. Te vas a cada uno de los split y computas\n",
    "    - Nv1/Nv2\n",
    "    - y(v1/v2) (media)\n",
    "    - Cada yi\n",
    "    \n",
    "    Calculas la I(v1) = (1/N(v1)) * sum ((yi-y(v1))^2)\n",
    "\n",
    "3. Calculas la formula general: \n",
    "    A = I(vo) - sum ( N(vk)/N * I(vk)  )\n",
    "\"\"\"\n"
   ]
  },
  {
   "cell_type": "code",
   "execution_count": 3,
   "id": "cb2e22d0-8e5e-486d-ae58-cb604e4ab563",
   "metadata": {
    "tags": []
   },
   "outputs": [
    {
     "name": "stdout",
     "output_type": "stream",
     "text": [
      "Mean Squared Error Gain: 8.0\n",
      "Mean Absolute Error Gain: 1.3333333333333335\n"
     ]
    }
   ],
   "source": [
    "import numpy as np\n",
    "\n",
    "\n",
    "# VER EJ 15 FALL 2019\n",
    "\n",
    "\n",
    "def mean_squared_error(y):\n",
    "    # Calculate the mean squared error of a set of target values (y)\n",
    "    if len(y) == 0:\n",
    "        return 0\n",
    "    mean = np.mean(y)\n",
    "    return np.mean((y - mean) ** 2)\n",
    "\n",
    "def mean_absolute_error(y):\n",
    "    # Calculate the mean absolute error of a set of target values (y)\n",
    "    if len(y) == 0:\n",
    "        return 0\n",
    "    mean = np.mean(y)\n",
    "    return np.mean(np.abs(y - mean))\n",
    "\n",
    "def purity_gain_regression(y, subsets, impurity_function):\n",
    "    # Calculate the purity gain using a specific impurity function for regression trees\n",
    "    initial_impurity = impurity_function(y)\n",
    "    total_size = len(y)\n",
    "    weighted_impurity = sum((len(subset) / total_size) * impurity_function(subset) for subset in subsets)\n",
    "    return initial_impurity - weighted_impurity\n",
    "\n",
    "# Example usage:\n",
    "# Suppose you have a dataset with target values 'y' and you split it into subsets.\n",
    "y = [12,6,8,10,4,2]\n",
    "subset1 = [4,2]\n",
    "subset2 = [12,6,8,10]\n",
    "\n",
    "# Calculate purity gain using different impurity functions for regression trees\n",
    "mse_gain = purity_gain_regression(y, [subset1, subset2], mean_squared_error)\n",
    "mae_gain = purity_gain_regression(y, [subset1, subset2], mean_absolute_error)\n",
    "\n",
    "print(f\"Mean Squared Error Gain: {mse_gain}\")\n",
    "print(f\"Mean Absolute Error Gain: {mae_gain}\")"
   ]
  },
  {
   "cell_type": "code",
   "execution_count": 23,
   "id": "fb19f388-1e27-41c0-9c54-77f34ea7020d",
   "metadata": {},
   "outputs": [],
   "source": [
    "import numpy as np\n",
    "import math"
   ]
  },
  {
   "cell_type": "code",
   "execution_count": 48,
   "id": "b7172e26-c027-445e-967d-6471fd7ffa59",
   "metadata": {
    "tags": []
   },
   "outputs": [
    {
     "data": {
      "text/plain": [
       "0.503860626149122"
      ]
     },
     "execution_count": 48,
     "metadata": {},
     "output_type": "execute_result"
    }
   ],
   "source": [
    "m1 = np.array([1, -2])\n",
    "w1 = np.array([-0.5, -0.1])\n",
    "w2 = np.array([0.9, 2])\n",
    "\n",
    "salida1 = np.dot(m1,w1.T)\n",
    "salida2 = np.dot(m1,w2.T)\n",
    "\n",
    "# sigmoide\n",
    "z = 1/(1 + np.exp(-2))\n",
    "\n",
    "n1 = z*salida1\n",
    "n2 = z*salida2\n",
    "\n",
    "sumatorio = (-1 * n1) + (0.4*n2)\n",
    "\n",
    "f = z*(1.4 + (sumatorio))\n",
    "f"
   ]
  },
  {
   "cell_type": "code",
   "execution_count": null,
   "id": "bf848da3-59b7-43fc-a9ad-5ecb9242aca2",
   "metadata": {},
   "outputs": [],
   "source": []
  }
 ],
 "metadata": {
  "kernelspec": {
   "display_name": "Python 3 (ipykernel)",
   "language": "python",
   "name": "python3"
  },
  "language_info": {
   "codemirror_mode": {
    "name": "ipython",
    "version": 3
   },
   "file_extension": ".py",
   "mimetype": "text/x-python",
   "name": "python",
   "nbconvert_exporter": "python",
   "pygments_lexer": "ipython3",
   "version": "3.11.4"
  }
 },
 "nbformat": 4,
 "nbformat_minor": 5
}
